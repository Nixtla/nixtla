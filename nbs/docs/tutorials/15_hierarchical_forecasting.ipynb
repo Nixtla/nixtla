{
 "cells": [
  {
   "cell_type": "markdown",
   "id": "0241d5c1-8d11-4cb9-9259-cda5fffa7ea8",
   "metadata": {},
   "source": [
    "# Hierarchical forecasting"
   ]
  },
  {
   "cell_type": "markdown",
   "id": "0f73b521-05f2-4c53-b44c-d988bf8fe7b9",
   "metadata": {},
   "source": [
    "In forecasting, we often find ourselves in need of forecasts for both lower- and higher (temporal) granularities, such as product demand forecasts but also product category or product department forecasts. These granularities can be formalized through the use of a hierarchy. In hierarchical forecasting, we create forecasts that are coherent with respect to a pre-specified hierarchy of the underlying time series.\n",
    "\n",
    "With TimeGPT, we can create forecasts for multiple time series. We can subsequently post-process these forecasts using hierarchical forecasting techniques. "
   ]
  },
  {
   "cell_type": "markdown",
   "id": "2997eb35",
   "metadata": {},
   "source": [
    "## 1. Import packages\n",
    "First, we import the required packages and initialize the Nixtla client."
   ]
  },
  {
   "cell_type": "code",
   "execution_count": null,
   "id": "5826b9b9-4176-4982-901c-c8c598b87b87",
   "metadata": {},
   "outputs": [],
   "source": [
    "#| hide\n",
    "from nixtla.utils import colab_badge"
   ]
  },
  {
   "cell_type": "code",
   "execution_count": null,
   "id": "cdf86af8-08c0-4118-bd6b-0b88a6eac3f7",
   "metadata": {},
   "outputs": [],
   "source": [
    "#| echo: false\n",
    "colab_badge('docs/tutorials/15_hierarchical_forecasting')"
   ]
  },
  {
   "cell_type": "code",
   "execution_count": null,
   "id": "f1f53486-6a02-4726-9a3e-dbd73123a8da",
   "metadata": {},
   "outputs": [],
   "source": [
    "#| hide\n",
    "from itertools import product\n",
    "\n",
    "from fastcore.test import test_eq, test_fail, test_warns\n",
    "from dotenv import load_dotenv"
   ]
  },
  {
   "cell_type": "code",
   "execution_count": null,
   "id": "f602562e-4035-4b73-b309-f4fd57c7a8bf",
   "metadata": {},
   "outputs": [],
   "source": [
    "#| hide\n",
    "load_dotenv()"
   ]
  },
  {
   "cell_type": "code",
   "execution_count": null,
   "id": "8a5181e9-634c-4002-9c22-d65f0701fa14",
   "metadata": {},
   "outputs": [],
   "source": [
    "!pip install hierarchicalforecast\n",
    "import pandas as pd\n",
    "import numpy as np\n",
    "import os\n",
    "\n",
    "from nixtla import NixtlaClient"
   ]
  },
  {
   "cell_type": "code",
   "execution_count": null,
   "id": "9872d00d-ecb1-4a14-9813-bf0c56e70392",
   "metadata": {},
   "outputs": [],
   "source": [
    "nixtla_client = NixtlaClient(\n",
    "    # defaults to os.environ.get(\"NIXTLA_API_KEY\")\n",
    "    api_key = 'my_api_key_provided_by_nixtla'\n",
    ")"
   ]
  },
  {
   "cell_type": "code",
   "execution_count": null,
   "id": "50eac17f-3c72-4f68-988a-1d5d877dff2b",
   "metadata": {},
   "outputs": [],
   "source": [
    "#| hide\n",
    "nixtla_client = NixtlaClient()"
   ]
  },
  {
   "cell_type": "markdown",
   "id": "26b99aff-aa07-44a1-b0e1-e8301f7f62bf",
   "metadata": {},
   "source": [
    "## 2. Load data"
   ]
  },
  {
   "cell_type": "markdown",
   "id": "c77268e7",
   "metadata": {},
   "source": [
    "We use the [] dataset, which contains [explanation on hierarchies]"
   ]
  },
  {
   "cell_type": "code",
   "execution_count": null,
   "id": "31b1e602-f8ee-49c4-8819-fcc093d64ab1",
   "metadata": {},
   "outputs": [],
   "source": [
    "df = []\n",
    "\n",
    "df.head(10)"
   ]
  },
  {
   "cell_type": "markdown",
   "id": "2932318f",
   "metadata": {},
   "source": [
    "## 3. Hierarchical forecasting with TimeGPT\n",
    "\n",
    "First, we create forecasts for all the time series with TimeGPT."
   ]
  },
  {
   "cell_type": "code",
   "execution_count": null,
   "id": "dda23c8c",
   "metadata": {},
   "outputs": [],
   "source": [
    "forecast = timegpt()"
   ]
  },
  {
   "cell_type": "markdown",
   "id": "967836fa",
   "metadata": {},
   "source": [
    "After having created the forecasts, we can make these forecasts coherent to the specified hierarchy by using [...]"
   ]
  },
  {
   "cell_type": "code",
   "execution_count": null,
   "id": "e8f6bf69",
   "metadata": {},
   "outputs": [],
   "source": [
    "[MinT]"
   ]
  },
  {
   "cell_type": "markdown",
   "id": "85a370f1",
   "metadata": {},
   "source": [
    "Now, we can plot some of the forecasts and the aggregations"
   ]
  },
  {
   "cell_type": "code",
   "execution_count": null,
   "id": "67e3933e",
   "metadata": {},
   "outputs": [],
   "source": [
    "plot_code"
   ]
  },
  {
   "cell_type": "markdown",
   "id": "a587baa1",
   "metadata": {},
   "source": [
    "We can compare the forecasts to the situation where we don't apply a post-processing step"
   ]
  },
  {
   "cell_type": "code",
   "execution_count": null,
   "id": "4c73c041",
   "metadata": {},
   "outputs": [],
   "source": [
    "forecast = timegpt()"
   ]
  },
  {
   "cell_type": "code",
   "execution_count": null,
   "id": "016a37c8",
   "metadata": {},
   "outputs": [],
   "source": [
    "plot_code"
   ]
  },
  {
   "cell_type": "markdown",
   "id": "e66e8c60",
   "metadata": {},
   "source": [
    "As you can see, we can perform heirarchical forecasting with TimeGPT in two steps"
   ]
  }
 ],
 "metadata": {
  "kernelspec": {
   "display_name": "python3",
   "language": "python",
   "name": "python3"
  }
 },
 "nbformat": 4,
 "nbformat_minor": 5
}
