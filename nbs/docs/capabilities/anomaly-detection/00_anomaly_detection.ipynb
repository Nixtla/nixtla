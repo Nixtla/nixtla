{
 "cells": [
  {
   "cell_type": "markdown",
   "id": "6de758ee-a0d2-4b3f-acff-eed419dd17c5",
   "metadata": {},
   "source": [
    "# Anomaly detection"
   ]
  },
  {
   "cell_type": "markdown",
   "id": "5d267032-535b-4b7b-b7d3-d2db8f673af6",
   "metadata": {},
   "source": [
    "This section provides various recipes for anomaly detection using TimeGPT.\n",
    "\n",
    "Anomaly detection identifies data points outside normal behavior, helping to spot fraudulent activity, security breaches, or significant outliers.\n",
    "\n",
    "Anomaly detection involves making predictions and generating a 99% confidence interval. If an observed point falls outside that interval, it is an anomaly.\n",
    "\n",
    "This section covers:\n",
    "\n",
    "* [Simple anomaly detection](https://docs.nixtla.io/docs/capabilities-anomaly-detection-quickstart)\n",
    "\n",
    "* [Anomaly detection with exogenous features](https://docs.nixtla.io/docs/capabilities-anomaly-detection-add_exogenous_variables)\n",
    "\n",
    "* [Anomaly detection with date features](https://docs.nixtla.io/docs/capabilities-anomaly-detection-add_date_features)\n",
    "\n",
    "* [Modifying the confidence intervals](https://docs.nixtla.io/docs/capabilities-anomaly-detection-add_confidence_levels)"
   ]
  },
  {
   "cell_type": "markdown",
   "id": "af39eb26",
   "metadata": {},
   "source": []
  }
 ],
 "metadata": {
  "kernelspec": {
   "display_name": "python3",
   "language": "python",
   "name": "python3"
  }
 },
 "nbformat": 4,
 "nbformat_minor": 5
}
