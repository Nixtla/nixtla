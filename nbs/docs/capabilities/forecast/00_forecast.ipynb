{
 "cells": [
  {
   "cell_type": "markdown",
   "id": "6de758ee-a0d2-4b3f-acff-eed419dd17c5",
   "metadata": {},
   "source": [
    "# Forecast"
   ]
  },
  {
   "cell_type": "markdown",
   "id": "5d267032-535b-4b7b-b7d3-d2db8f673af6",
   "metadata": {},
   "source": [
    "This section shows the capabilities TimeGPT offers for forecasting.\n",
    "\n",
    "TimeGPT is capable of zero-shot forecasting a wide variety of time series from different domains, thanks to its pretraining on a vast amount of time series data.\n",
    "\n",
    "Here, you will find recipes for the following tasks:\n",
    "\n",
    "* [Zero-shot forecasting](https://docs.nixtla.io/docs/capabilities-forecast-quickstart)\n",
    "\n",
    "* [Forecasting with exogenous variables](https://docs.nixtla.io/docs/capabilities-forecast-add_exogenous_variables)\n",
    "\n",
    "* [Forecasting with holidays and special dates](https://docs.nixtla.io/docs/capabilities-forecast-add_holidays_and_special_dates)\n",
    "\n",
    "* [Forecasting with categorical variables](https://docs.nixtla.io/docs/capabilities-forecast-add_categorical_variables)\n",
    "\n",
    "* [Long-horizon forecasting](https://docs.nixtla.io/docs/capabilities-forecast-long_horizon_forecasting)\n",
    "\n",
    "* [Forecasting multiple series](https://docs.nixtla.io/docs/capabilities-forecast-multiple_series_forecasting)\n",
    "\n",
    "* [Fine-tuning TimeGPT](https://docs.nixtla.io/docs/capabilities-forecast-fine_tuning)\n",
    "\n",
    "* [Fine-tuning with a specific loss function](https://docs.nixtla.io/docs/capabilities-forecast-finetuning_with_a_custom_loss_function)\n",
    "\n",
    "* [Cross-validation](https://docs.nixtla.io/docs/capabilities-forecast-cross_validation)\n",
    "\n",
    "* [Adding prediction intervals](https://docs.nixtla.io/docs/capabilities-forecast-predictions_intervals)\n",
    "\n",
    "* [Dealing with irregular timestamps](https://docs.nixtla.io/docs/capabilities-forecast-irregular_timestamps)"
   ]
  },
  {
   "cell_type": "markdown",
   "id": "ec7b0357",
   "metadata": {},
   "source": []
  }
 ],
 "metadata": {
  "kernelspec": {
   "display_name": "python3",
   "language": "python",
   "name": "python3"
  }
 },
 "nbformat": 4,
 "nbformat_minor": 5
}
