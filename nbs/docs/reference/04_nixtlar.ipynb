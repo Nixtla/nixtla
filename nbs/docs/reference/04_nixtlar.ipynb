{
 "cells": [
  {
   "cell_type": "markdown",
   "metadata": {},
   "source": [
    "# TimeGPT in R\n",
    "\n",
    "TimeGPT is also available in R through the `nixtlar` package, which is available on CRAN. This package can be used in a way almost identical to its Python counterpart. It offers nearly the same functionalities, with missing features and documentation currently under development. Originally developed in Python, TimeGPT is now accessible to the R community through `nixtlar`, providing access to the first foundation model for time series forecasting and embracing our core philosophy that _the future is for everybody_."
   ]
  },
  {
   "cell_type": "markdown",
   "metadata": {},
   "source": [
    "<img src=\"https://github.com/Nixtla/nixtla/blob/main/nbs/img/logo_nixtlar.png?raw=true\" alt=\"Logo for nixtlar\" width=\"700\" />"
   ]
  },
  {
   "cell_type": "markdown",
   "metadata": {},
   "source": [
    "## How to use \n",
    "\n",
    "To learn how to use `nixtlar`, please refer to the [documentation](https://nixtla.github.io/nixtlar/). \n",
    "\n",
    "To view directly on CRAN, please use this [link](https://cloud.r-project.org/web/packages/nixtlar/index.html). "
   ]
  },
  {
   "cell_type": "markdown",
   "metadata": {},
   "source": [
    "> 📘 API key required\n",
    "> \n",
    "> The `nixtlar` package requires an API key. Get yours on the [Nixtla Dashboard](http://dashboard.nixtla.io). \n",
    "\n",
    "## Support\n",
    "\n",
    "If you have questions or need support, please email [ops@nixtla.io](mailto:ops@nixtla.io)."
   ]
  }
 ],
 "metadata": {},
 "nbformat": 4,
 "nbformat_minor": 2
}
