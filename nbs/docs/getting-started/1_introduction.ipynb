{
 "cells": [
  {
   "cell_type": "markdown",
   "metadata": {},
   "source": [
    "# About TimeGPT\n",
    "\n",
    "TimeGPT is the first foundation model for time series forecasting created by Nixtla.\n",
    "\n",
    "At Nixtla, we believe the future is for everyone. We are building the best ecosystem for time series forecasting with a variety of open-source and commercial solutions.\n",
    "\n",
    "With TimeGPT, you can forecast and perform anomaly detection on any series with a simple function call.\n",
    "\n",
    "TimeGPT's capabilities include:\n",
    "\n",
    "* Forecasting\n",
    "  + Univariate forecasting\n",
    "  + Multivariate forecasting\n",
    "  + Including exogenous variables\n",
    "  + Adding holidays and special dates\n",
    "  + Adding categorical variables\n",
    "  + Long-horizon forecasting\n",
    "  + Fine-tuning, with user-specified loss functions\n",
    "  + Cross-validation\n",
    "  + Uncertainty quantification\n",
    "  + and much more\n",
    "* Anomaly detection\n",
    "  + Anomaly detection with tuned sensitivity\n",
    "  + Anomaly detection with exogenous variables\n",
    "  + Feature important in anomaly detection\n",
    "  + and much more"
   ]
  },
  {
   "cell_type": "markdown",
   "metadata": {},
   "source": [
    "**Get started with our [QuickStart guide](/docs/getting-started-timegpt_quickstart), walk through tutorials on the different capabilities, and learn from real-world use cases in our documentation.**"
   ]
  },
  {
   "cell_type": "markdown",
   "metadata": {},
   "source": [
    "## Overview\n",
    "\n",
    "Nixtla's TimeGPT is a generative pre-trained forecasting model for time series data. TimeGPT can produce accurate forecasts for new time series without training, using only historical values as inputs. TimeGPT can be used across a plethora of tasks including demand forecasting, anomaly detection, financial forecasting, and more."
   ]
  },
  {
   "cell_type": "markdown",
   "metadata": {},
   "source": [
    "The TimeGPT model \"reads\" time series data much like the way humans read a sentence – from left to right. It looks at windows of past data, which we can think of as \"tokens\", and predicts what comes next. This prediction is based on patterns the model identifies in past data and extrapolates into the future."
   ]
  },
  {
   "cell_type": "markdown",
   "metadata": {},
   "source": [
    "The API provides an interface to TimeGPT, allowing users to leverage its forecasting capabilities to predict future events. TimeGPT can also be used for other time series-related tasks, such as what-if scenarios, anomaly detection, and more."
   ]
  },
  {
   "cell_type": "markdown",
   "metadata": {},
   "source": [
    "<img src=\"https://github.com/Nixtla/nixtla/blob/main/nbs/img/timegpt-arch.png?raw=true\" alt=\"Figure 1. TimeGPT architecture\" />"
   ]
  },
  {
   "cell_type": "markdown",
   "metadata": {},
   "source": [
    "## Explore TimeGPT API"
   ]
  },
  {
   "cell_type": "markdown",
   "metadata": {},
   "source": [
    "The capabilties section highlight all of the model's functionalities with short code snippets for easy and quick experimentation.\n",
    "\n",
    "For more detailed tutorials, check our in-depth guides covering all the steps required to use TimeGPT to its full potential.\n",
    "\n",
    "Make sure to also check our uses cases to see TimeGPT applied to real-life scenarios."
   ]
  }
 ],
 "metadata": {},
 "nbformat": 4,
 "nbformat_minor": 2
}
