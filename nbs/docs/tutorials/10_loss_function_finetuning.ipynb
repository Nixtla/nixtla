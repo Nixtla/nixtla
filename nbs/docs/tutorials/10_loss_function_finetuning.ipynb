{
 "cells": [
  {
   "cell_type": "markdown",
   "metadata": {},
   "source": [
    "# Fine-tuning with a specific loss function"
   ]
  },
  {
   "cell_type": "markdown",
   "metadata": {},
   "source": [
    "When fine-tuning, the model trains on your dataset to tailor its predictions to your particular scenario. As such, it is possible to specify the loss function used during fine-tuning.\n",
    "\n",
    "Specifically, you can choose from:\n",
    "- `\"default\"` - a proprietary loss function that is robust to outliers\n",
    "- `\"mae\"` - mean absolute error\n",
    "- `\"mse\"` - mean squared error\n",
    "- `\"rmse\"` - root mean squared error\n",
    "- `\"mape\"` - mean absolute percentage error\n",
    "- `\"smape\"` - symmetric mean absolute percentage error"
   ]
  },
  {
   "cell_type": "code",
   "execution_count": null,
   "metadata": {},
   "outputs": [],
   "source": [
    "#| hide\n",
    "from nixtlats.utils import colab_badge"
   ]
  },
  {
   "cell_type": "code",
   "execution_count": null,
   "metadata": {},
   "outputs": [],
   "source": [
    "#| hide\n",
    "from dotenv import load_dotenv"
   ]
  },
  {
   "cell_type": "markdown",
   "metadata": {},
   "source": []
  },
  {
   "cell_type": "code",
   "execution_count": null,
   "metadata": {},
   "outputs": [
    {
     "data": {
      "text/plain": [
       "True"
      ]
     },
     "execution_count": null,
     "metadata": {},
     "output_type": "execute_result"
    }
   ],
   "source": [
    "#| hide\n",
    "load_dotenv()"
   ]
  },
  {
   "cell_type": "code",
   "execution_count": null,
   "metadata": {},
   "outputs": [],
   "source": [
    "import pandas as pd\n",
    "from nixtlats import TimeGPT"
   ]
  },
  {
   "cell_type": "code",
   "execution_count": null,
   "metadata": {},
   "outputs": [],
   "source": [
    "timegpt = TimeGPT(\n",
    "    # defaults to os.environ.get(\"TIMEGPT_TOKEN\")\n",
    "    token = 'my_token_provided_by_nixtla'\n",
    ")"
   ]
  },
  {
   "cell_type": "code",
   "execution_count": null,
   "metadata": {},
   "outputs": [],
   "source": [
    "#| hide\n",
    "timegpt = TimeGPT()"
   ]
  },
  {
   "cell_type": "markdown",
   "metadata": {},
   "source": [
    "Let's fine-tune the model on a dataset using the mean absolute error (MAE).\n",
    "\n",
    "For that, we simply pass the appropriate string representing the loss function to the `finetune_loss` parameter of the `forecast` method."
   ]
  },
  {
   "cell_type": "code",
   "execution_count": null,
   "metadata": {},
   "outputs": [
    {
     "data": {
      "text/html": [
       "<div>\n",
       "<style scoped>\n",
       "    .dataframe tbody tr th:only-of-type {\n",
       "        vertical-align: middle;\n",
       "    }\n",
       "\n",
       "    .dataframe tbody tr th {\n",
       "        vertical-align: top;\n",
       "    }\n",
       "\n",
       "    .dataframe thead th {\n",
       "        text-align: right;\n",
       "    }\n",
       "</style>\n",
       "<table border=\"1\" class=\"dataframe\">\n",
       "  <thead>\n",
       "    <tr style=\"text-align: right;\">\n",
       "      <th></th>\n",
       "      <th>timestamp</th>\n",
       "      <th>value</th>\n",
       "    </tr>\n",
       "  </thead>\n",
       "  <tbody>\n",
       "    <tr>\n",
       "      <th>0</th>\n",
       "      <td>1949-01-01</td>\n",
       "      <td>112</td>\n",
       "    </tr>\n",
       "    <tr>\n",
       "      <th>1</th>\n",
       "      <td>1949-02-01</td>\n",
       "      <td>118</td>\n",
       "    </tr>\n",
       "    <tr>\n",
       "      <th>2</th>\n",
       "      <td>1949-03-01</td>\n",
       "      <td>132</td>\n",
       "    </tr>\n",
       "    <tr>\n",
       "      <th>3</th>\n",
       "      <td>1949-04-01</td>\n",
       "      <td>129</td>\n",
       "    </tr>\n",
       "    <tr>\n",
       "      <th>4</th>\n",
       "      <td>1949-05-01</td>\n",
       "      <td>121</td>\n",
       "    </tr>\n",
       "  </tbody>\n",
       "</table>\n",
       "</div>"
      ],
      "text/plain": [
       "    timestamp  value\n",
       "0  1949-01-01    112\n",
       "1  1949-02-01    118\n",
       "2  1949-03-01    132\n",
       "3  1949-04-01    129\n",
       "4  1949-05-01    121"
      ]
     },
     "execution_count": null,
     "metadata": {},
     "output_type": "execute_result"
    }
   ],
   "source": [
    "df = pd.read_csv('https://raw.githubusercontent.com/Nixtla/transfer-learning-time-series/main/datasets/air_passengers.csv')\n",
    "df.head()"
   ]
  },
  {
   "cell_type": "markdown",
   "metadata": {},
   "source": []
  },
  {
   "cell_type": "code",
   "execution_count": null,
   "metadata": {},
   "outputs": [
    {
     "name": "stderr",
     "output_type": "stream",
     "text": [
      "INFO:nixtlats.timegpt:Validating inputs...\n",
      "INFO:nixtlats.timegpt:Preprocessing dataframes...\n",
      "INFO:nixtlats.timegpt:Inferred freq: MS\n",
      "INFO:nixtlats.timegpt:Calling Forecast Endpoint...\n"
     ]
    }
   ],
   "source": [
    "timegpt_fcst_finetune_mae_df = timegpt.forecast(\n",
    "    df=df, \n",
    "    h=12, \n",
    "    finetune_steps=10,\n",
    "    finetune_loss='mae',   # Set your desired loss function\n",
    "    time_col='timestamp', \n",
    "    target_col='value',\n",
    ")"
   ]
  },
  {
   "cell_type": "code",
   "execution_count": null,
   "metadata": {},
   "outputs": [
    {
     "data": {
      "image/png": "[encoded data removed]",
      "text/plain": [
       "<Figure size 2400x350 with 1 Axes>"
      ]
     },
     "execution_count": null,
     "metadata": {},
     "output_type": "execute_result"
    }
   ],
   "source": [
    "timegpt.plot(\n",
    "    df, timegpt_fcst_finetune_mae_df, \n",
    "    time_col='timestamp', target_col='value',\n",
    ")"
   ]
  },
  {
   "cell_type": "markdown",
   "metadata": {},
   "source": [
    "Now, depending on your data, you will use a specific error metric to accurately evaluate your forecasting model's performance.\n",
    "\n",
    "Below is a non-exhaustive guide on which metric to use depdending on your use case.\n",
    "\n",
    "**Mean absolute error (MAE)**\n",
    "- Robust to outliers\n",
    "- Easy to understand\n",
    "- You care equally about all error sizes\n",
    "- Same units as your data\n",
    "\n",
    "**Mean squared error (MSE)**\n",
    "- You want to penalize large errors more than small ones\n",
    "- Sensitive to outliers\n",
    "- Used when large errors must be avoided\n",
    "- *Not* the same units as your data\n",
    "\n",
    "**Root mean squared error (RMSE)**\n",
    "- Brings the MSE back to original units of data\n",
    "- Penalizes large errors more than small ones\n",
    "\n",
    "**Mean absolute percentage error (MAPE)**\n",
    "- Easy to understand for non-technical stakeholders\n",
    "- Expressed as a percentage\n",
    "- Heavier penalty on positive errors over negative errors\n",
    "- To be avoided if your data has values close to 0 or equal to 0\n",
    "\n",
    "**Symmmetric mean absolute percentage error (sMAPE)**\n",
    "- Fixes bias of MAPE\n",
    "- Equally senstitive to over and under forecasting\n",
    "- To be avoided if your data has values close to 0 or equal to 0\n",
    "\n",
    "With TimeGPT, you can choose your loss function during fine-tuning as to maximize the model's performance metric for your particular use case. \n",
    "\n",
    "Let's run a small experiment to see how each loss function improves their associated metric when compared to the default setting."
   ]
  },
  {
   "cell_type": "code",
   "execution_count": null,
   "metadata": {},
   "outputs": [],
   "source": [
    "train = df[:-36]\n",
    "test = df[-36:]"
   ]
  },
  {
   "cell_type": "code",
   "execution_count": null,
   "metadata": {},
   "outputs": [
    {
     "name": "stderr",
     "output_type": "stream",
     "text": [
      "INFO:nixtlats.timegpt:Validating inputs...\n",
      "INFO:nixtlats.timegpt:Preprocessing dataframes...\n",
      "INFO:nixtlats.timegpt:Inferred freq: MS\n",
      "WARNING:nixtlats.timegpt:The specified horizon \"h\" exceeds the model horizon. This may lead to less accurate forecasts. Please consider using a smaller horizon.\n",
      "INFO:nixtlats.timegpt:Calling Forecast Endpoint...\n",
      "INFO:nixtlats.timegpt:Validating inputs...\n",
      "INFO:nixtlats.timegpt:Preprocessing dataframes...\n",
      "INFO:nixtlats.timegpt:Inferred freq: MS\n",
      "WARNING:nixtlats.timegpt:The specified horizon \"h\" exceeds the model horizon. This may lead to less accurate forecasts. Please consider using a smaller horizon.\n",
      "INFO:nixtlats.timegpt:Calling Forecast Endpoint...\n",
      "INFO:nixtlats.timegpt:Validating inputs...\n",
      "INFO:nixtlats.timegpt:Preprocessing dataframes...\n",
      "INFO:nixtlats.timegpt:Inferred freq: MS\n",
      "WARNING:nixtlats.timegpt:The specified horizon \"h\" exceeds the model horizon. This may lead to less accurate forecasts. Please consider using a smaller horizon.\n",
      "INFO:nixtlats.timegpt:Calling Forecast Endpoint...\n",
      "INFO:nixtlats.timegpt:Validating inputs...\n",
      "INFO:nixtlats.timegpt:Preprocessing dataframes...\n",
      "INFO:nixtlats.timegpt:Inferred freq: MS\n",
      "WARNING:nixtlats.timegpt:The specified horizon \"h\" exceeds the model horizon. This may lead to less accurate forecasts. Please consider using a smaller horizon.\n",
      "INFO:nixtlats.timegpt:Calling Forecast Endpoint...\n",
      "INFO:nixtlats.timegpt:Validating inputs...\n",
      "INFO:nixtlats.timegpt:Preprocessing dataframes...\n",
      "INFO:nixtlats.timegpt:Inferred freq: MS\n",
      "WARNING:nixtlats.timegpt:The specified horizon \"h\" exceeds the model horizon. This may lead to less accurate forecasts. Please consider using a smaller horizon.\n",
      "INFO:nixtlats.timegpt:Calling Forecast Endpoint...\n",
      "INFO:nixtlats.timegpt:Validating inputs...\n",
      "INFO:nixtlats.timegpt:Preprocessing dataframes...\n",
      "INFO:nixtlats.timegpt:Inferred freq: MS\n",
      "WARNING:nixtlats.timegpt:The specified horizon \"h\" exceeds the model horizon. This may lead to less accurate forecasts. Please consider using a smaller horizon.\n",
      "INFO:nixtlats.timegpt:Calling Forecast Endpoint...\n"
     ]
    }
   ],
   "source": [
    "losses = ['default', 'mae', 'mse', 'rmse', 'mape', 'smape']\n",
    "\n",
    "for loss in losses:\n",
    "    preds_df = timegpt.forecast(\n",
    "    df=train, \n",
    "    h=36, \n",
    "    finetune_steps=10,\n",
    "    finetune_loss=loss,\n",
    "    time_col='timestamp', \n",
    "    target_col='value')\n",
    "\n",
    "    preds = preds_df['TimeGPT'].values\n",
    "\n",
    "    test.loc[:,f'TimeGPT_{loss}'] = preds"
   ]
  },
  {
   "cell_type": "code",
   "execution_count": null,
   "metadata": {},
   "outputs": [
    {
     "data": {
      "text/html": [
       "<div>\n",
       "<style scoped>\n",
       "    .dataframe tbody tr th:only-of-type {\n",
       "        vertical-align: middle;\n",
       "    }\n",
       "\n",
       "    .dataframe tbody tr th {\n",
       "        vertical-align: top;\n",
       "    }\n",
       "\n",
       "    .dataframe thead th {\n",
       "        text-align: right;\n",
       "    }\n",
       "</style>\n",
       "<table border=\"1\" class=\"dataframe\">\n",
       "  <thead>\n",
       "    <tr style=\"text-align: right;\">\n",
       "      <th></th>\n",
       "      <th>timestamp</th>\n",
       "      <th>value</th>\n",
       "      <th>TimeGPT_default</th>\n",
       "      <th>TimeGPT_mae</th>\n",
       "      <th>TimeGPT_mse</th>\n",
       "      <th>TimeGPT_rmse</th>\n",
       "      <th>TimeGPT_mape</th>\n",
       "      <th>TimeGPT_smape</th>\n",
       "    </tr>\n",
       "  </thead>\n",
       "  <tbody>\n",
       "    <tr>\n",
       "      <th>108</th>\n",
       "      <td>1958-01-01</td>\n",
       "      <td>340</td>\n",
       "      <td>347.241211</td>\n",
       "      <td>341.780579</td>\n",
       "      <td>347.600616</td>\n",
       "      <td>347.059113</td>\n",
       "      <td>356.154938</td>\n",
       "      <td>341.958679</td>\n",
       "    </tr>\n",
       "    <tr>\n",
       "      <th>109</th>\n",
       "      <td>1958-02-01</td>\n",
       "      <td>318</td>\n",
       "      <td>345.839355</td>\n",
       "      <td>343.387573</td>\n",
       "      <td>346.399963</td>\n",
       "      <td>345.678314</td>\n",
       "      <td>354.163422</td>\n",
       "      <td>343.929657</td>\n",
       "    </tr>\n",
       "    <tr>\n",
       "      <th>110</th>\n",
       "      <td>1958-03-01</td>\n",
       "      <td>362</td>\n",
       "      <td>394.854248</td>\n",
       "      <td>390.733337</td>\n",
       "      <td>395.436646</td>\n",
       "      <td>394.636627</td>\n",
       "      <td>396.496155</td>\n",
       "      <td>392.543640</td>\n",
       "    </tr>\n",
       "    <tr>\n",
       "      <th>111</th>\n",
       "      <td>1958-04-01</td>\n",
       "      <td>348</td>\n",
       "      <td>403.989929</td>\n",
       "      <td>400.326843</td>\n",
       "      <td>404.369598</td>\n",
       "      <td>403.498901</td>\n",
       "      <td>396.927185</td>\n",
       "      <td>402.459625</td>\n",
       "    </tr>\n",
       "    <tr>\n",
       "      <th>112</th>\n",
       "      <td>1958-05-01</td>\n",
       "      <td>363</td>\n",
       "      <td>421.058411</td>\n",
       "      <td>418.293030</td>\n",
       "      <td>422.122223</td>\n",
       "      <td>421.541443</td>\n",
       "      <td>410.335663</td>\n",
       "      <td>422.161255</td>\n",
       "    </tr>\n",
       "  </tbody>\n",
       "</table>\n",
       "</div>"
      ],
      "text/plain": [
       "     timestamp  value  TimeGPT_default  TimeGPT_mae  TimeGPT_mse  \\\n",
       "108 1958-01-01    340       347.241211   341.780579   347.600616   \n",
       "109 1958-02-01    318       345.839355   343.387573   346.399963   \n",
       "110 1958-03-01    362       394.854248   390.733337   395.436646   \n",
       "111 1958-04-01    348       403.989929   400.326843   404.369598   \n",
       "112 1958-05-01    363       421.058411   418.293030   422.122223   \n",
       "\n",
       "     TimeGPT_rmse  TimeGPT_mape  TimeGPT_smape  \n",
       "108    347.059113    356.154938     341.958679  \n",
       "109    345.678314    354.163422     343.929657  \n",
       "110    394.636627    396.496155     392.543640  \n",
       "111    403.498901    396.927185     402.459625  \n",
       "112    421.541443    410.335663     422.161255  "
      ]
     },
     "execution_count": null,
     "metadata": {},
     "output_type": "execute_result"
    }
   ],
   "source": [
    "#| hide\n",
    "test.head()"
   ]
  },
  {
   "cell_type": "markdown",
   "metadata": {},
   "source": [
    "Great! We have predictions from TimeGPT using all the different loss functions. We can evaluate the performance using their associated metric and measure the improvement."
   ]
  },
  {
   "cell_type": "code",
   "execution_count": null,
   "metadata": {},
   "outputs": [
    {
     "data": {
      "text/html": [
       "<div>\n",
       "<style scoped>\n",
       "    .dataframe tbody tr th:only-of-type {\n",
       "        vertical-align: middle;\n",
       "    }\n",
       "\n",
       "    .dataframe tbody tr th {\n",
       "        vertical-align: top;\n",
       "    }\n",
       "\n",
       "    .dataframe thead th {\n",
       "        text-align: right;\n",
       "    }\n",
       "</style>\n",
       "<table border=\"1\" class=\"dataframe\">\n",
       "  <thead>\n",
       "    <tr style=\"text-align: right;\">\n",
       "      <th></th>\n",
       "      <th>mae</th>\n",
       "      <th>mse</th>\n",
       "      <th>rmse</th>\n",
       "      <th>mape</th>\n",
       "      <th>smape</th>\n",
       "    </tr>\n",
       "  </thead>\n",
       "  <tbody>\n",
       "    <tr>\n",
       "      <th>Metric improvement (%)</th>\n",
       "      <td>9.69</td>\n",
       "      <td>0.09</td>\n",
       "      <td>0.53</td>\n",
       "      <td>30.98</td>\n",
       "      <td>7.32</td>\n",
       "    </tr>\n",
       "  </tbody>\n",
       "</table>\n",
       "</div>"
      ],
      "text/plain": [
       "                         mae   mse  rmse   mape  smape\n",
       "Metric improvement (%)  9.69  0.09  0.53  30.98   7.32"
      ]
     },
     "execution_count": null,
     "metadata": {},
     "output_type": "execute_result"
    }
   ],
   "source": [
    "import numpy as np\n",
    "from sklearn.metrics import mean_absolute_error, mean_squared_error, root_mean_squared_error, mean_absolute_percentage_error\n",
    "\n",
    "def symmetric_mean_absolute_error(y, y_hat):\n",
    "    return 100/len(y) * np.sum(2 * np.abs(y_hat - y) / (np.abs(y) + np.abs(y_hat)))\n",
    "\n",
    "loss_default_mae = mean_absolute_error(test['value'], test['TimeGPT_default'])\n",
    "loss_default_mse = mean_squared_error(test['value'], test['TimeGPT_default'])\n",
    "loss_default_rmse = root_mean_squared_error(test['value'], test['TimeGPT_default'])\n",
    "loss_default_mape = mean_absolute_percentage_error(test['value'], test['TimeGPT_default'])\n",
    "loss_default_smape = symmetric_mean_absolute_error(test['value'], test['TimeGPT_default'])\n",
    "\n",
    "loss_mae_mae = mean_absolute_error(test['value'], test['TimeGPT_mae'])\n",
    "loss_mse_mse = mean_squared_error(test['value'], test['TimeGPT_mse'])\n",
    "loss_rmse_rmse = root_mean_squared_error(test['value'], test['TimeGPT_rmse'])\n",
    "loss_mape_mape = mean_absolute_percentage_error(test['value'], test['TimeGPT_mape'])\n",
    "loss_smape_smape = symmetric_mean_absolute_error(test['value'], test['TimeGPT_smape'])\n",
    "\n",
    "data = {\n",
    "    'mae': [round((loss_default_mae - loss_mae_mae) / loss_default_mae * 100, 2)],\n",
    "    'mse': [round((loss_default_mse - loss_mse_mse) / loss_default_mse * 100, 2)],\n",
    "    'rmse': [round((loss_default_rmse - loss_rmse_rmse) / loss_default_rmse * 100, 2)],\n",
    "    'mape': [round((loss_default_mape - loss_mape_mape) / loss_default_mape * 100, 2)],\n",
    "    'smape': [round((loss_default_smape - loss_smape_smape) / loss_default_smape * 100, 2)]\n",
    "}\n",
    "\n",
    "results_df = pd.DataFrame(data=data)\n",
    "results_df.index = ['Metric improvement (%)']\n",
    "\n",
    "results_df\n"
   ]
  },
  {
   "cell_type": "markdown",
   "metadata": {},
   "source": [
    "From the table above, we can see that using a specific loss function during fine-tuning will improve its associated error metric when compared to the default loss function.\n",
    "\n",
    "In this exmaple, using the MAE as the loss function improves the metric by 9.7% when compared to using the default loss function.\n",
    "\n",
    "That way, depending on your use case and performance metric, you can use the appropriate loss function to maximize the accuracy of the forecasts."
   ]
  },
  {
   "cell_type": "code",
   "execution_count": null,
   "metadata": {},
   "outputs": [],
   "source": []
  }
 ],
 "metadata": {
  "kernelspec": {
   "display_name": "python3",
   "language": "python",
   "name": "python3"
  }
 },
 "nbformat": 4,
 "nbformat_minor": 2
}
