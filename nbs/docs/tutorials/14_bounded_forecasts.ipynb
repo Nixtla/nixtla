{
 "cells": [
  {
   "cell_type": "markdown",
   "id": "0241d5c1-8d11-4cb9-9259-cda5fffa7ea8",
   "metadata": {},
   "source": [
    "# Bounded forecasts"
   ]
  },
  {
   "cell_type": "markdown",
   "id": "0f73b521-05f2-4c53-b44c-d988bf8fe7b9",
   "metadata": {},
   "source": [
    "In forecasting, we often want to make sure the predictions stay within a certain range. For example, for predicting the sales of a product, we may require all forecasts to be positive. Thus, the forecasts may need to be bounded.\n",
    "\n",
    "With TimeGPT, you can create bounded forecasts by transforming your data prior to calling the forecast function."
   ]
  },
  {
   "cell_type": "markdown",
   "id": "2997eb35",
   "metadata": {},
   "source": [
    "## 1. Import packages\n",
    "First, we install and import the required packages"
   ]
  },
  {
   "cell_type": "code",
   "execution_count": null,
   "id": "5826b9b9-4176-4982-901c-c8c598b87b87",
   "metadata": {},
   "outputs": [],
   "source": [
    "#| hide\n",
    "from nixtla.utils import colab_badge"
   ]
  },
  {
   "cell_type": "code",
   "execution_count": null,
   "id": "cdf86af8-08c0-4118-bd6b-0b88a6eac3f7",
   "metadata": {},
   "outputs": [],
   "source": [
    "#| echo: false\n",
    "colab_badge('docs/tutorials/14_bounded_forecasts')"
   ]
  },
  {
   "cell_type": "code",
   "execution_count": null,
   "id": "f1f53486-6a02-4726-9a3e-dbd73123a8da",
   "metadata": {},
   "outputs": [],
   "source": [
    "#| hide\n",
    "from itertools import product\n",
    "\n",
    "from fastcore.test import test_eq, test_fail, test_warns\n",
    "from dotenv import load_dotenv"
   ]
  },
  {
   "cell_type": "code",
   "execution_count": null,
   "id": "f602562e-4035-4b73-b309-f4fd57c7a8bf",
   "metadata": {},
   "outputs": [],
   "source": [
    "#| hide\n",
    "load_dotenv()"
   ]
  },
  {
   "cell_type": "code",
   "execution_count": null,
   "id": "8a5181e9-634c-4002-9c22-d65f0701fa14",
   "metadata": {},
   "outputs": [],
   "source": [
    "import pandas as pd\n",
    "import numpy as np\n",
    "import os\n",
    "\n",
    "from nixtla import NixtlaClient"
   ]
  },
  {
   "cell_type": "code",
   "execution_count": null,
   "id": "9872d00d-ecb1-4a14-9813-bf0c56e70392",
   "metadata": {},
   "outputs": [],
   "source": [
    "nixtla_client = NixtlaClient(\n",
    "    # defaults to os.environ.get(\"NIXTLA_API_KEY\")\n",
    "    api_key = 'my_api_key_provided_by_nixtla'\n",
    ")"
   ]
  },
  {
   "cell_type": "code",
   "execution_count": null,
   "id": "50eac17f-3c72-4f68-988a-1d5d877dff2b",
   "metadata": {},
   "outputs": [],
   "source": [
    "#| hide\n",
    "nixtla_client = NixtlaClient()"
   ]
  },
  {
   "cell_type": "markdown",
   "id": "26b99aff-aa07-44a1-b0e1-e8301f7f62bf",
   "metadata": {},
   "source": [
    "## 2. Load data"
   ]
  },
  {
   "cell_type": "markdown",
   "id": "c77268e7",
   "metadata": {},
   "source": [
    "We use the [] dataset, which should be strictly positive, as we can't observe a negative amount of []."
   ]
  },
  {
   "cell_type": "code",
   "execution_count": null,
   "id": "31b1e602-f8ee-49c4-8819-fcc093d64ab1",
   "metadata": {},
   "outputs": [],
   "source": [
    "df = []\n",
    "\n",
    "df.head(10)"
   ]
  },
  {
   "cell_type": "markdown",
   "id": "2932318f",
   "metadata": {},
   "source": [
    "## 3. Bounded forecasts\n",
    "\n",
    "First, we transform the target data to lie within a specified range. In this case, we choose a range of [ , ]."
   ]
  },
  {
   "cell_type": "code",
   "execution_count": null,
   "id": "8a967678",
   "metadata": {},
   "outputs": [],
   "source": [
    "df_transformed = df.copy()\n",
    "y_min = 0\n",
    "y_max = 100\n",
    "df_transformed['y'] = np.log((df_transformed['y'] - y_min) / (y_max - df_transformed['y']))"
   ]
  },
  {
   "cell_type": "markdown",
   "id": "6b7f93bc",
   "metadata": {},
   "source": [
    "We can create the forecasts"
   ]
  },
  {
   "cell_type": "code",
   "execution_count": null,
   "id": "dda23c8c",
   "metadata": {},
   "outputs": [],
   "source": [
    "forecast = timegpt()"
   ]
  },
  {
   "cell_type": "markdown",
   "id": "967836fa",
   "metadata": {},
   "source": [
    "After having created the forecasts, we need to inverse the transformation that we applied earlier:"
   ]
  },
  {
   "cell_type": "code",
   "execution_count": null,
   "id": "e8f6bf69",
   "metadata": {},
   "outputs": [],
   "source": [
    "df_transformed['TimeGPT-bounded'] = ((y_max - y_min) * np.exp(df_transformed['TimeGPT'])) / (1 + np.exp(np.exp(df_transformed['TimeGPT'])) + y_min"
   ]
  },
  {
   "cell_type": "markdown",
   "id": "85a370f1",
   "metadata": {},
   "source": [
    "Now, we can plot the forecasts"
   ]
  },
  {
   "cell_type": "code",
   "execution_count": null,
   "id": "67e3933e",
   "metadata": {},
   "outputs": [],
   "source": [
    "plot_code"
   ]
  },
  {
   "cell_type": "markdown",
   "id": "a587baa1",
   "metadata": {},
   "source": [
    "We can compare the forecasts to the situation where we don't apply a transformation"
   ]
  },
  {
   "cell_type": "code",
   "execution_count": null,
   "id": "4c73c041",
   "metadata": {},
   "outputs": [],
   "source": [
    "forecast = timegpt()"
   ]
  },
  {
   "cell_type": "code",
   "execution_count": null,
   "id": "016a37c8",
   "metadata": {},
   "outputs": [],
   "source": [
    "plot_code"
   ]
  },
  {
   "cell_type": "markdown",
   "id": "e66e8c60",
   "metadata": {},
   "source": [
    "As you can see, transofmration works."
   ]
  }
 ],
 "metadata": {
  "kernelspec": {
   "display_name": "python3",
   "language": "python",
   "name": "python3"
  }
 },
 "nbformat": 4,
 "nbformat_minor": 5
}
