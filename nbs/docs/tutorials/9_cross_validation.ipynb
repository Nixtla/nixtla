{
 "cells": [
  {
   "cell_type": "markdown",
   "id": "6de758ee-a0d2-4b3f-acff-eed419dd17c5",
   "metadata": {},
   "source": [
    "# Cross Validation"
   ]
  },
  {
   "cell_type": "markdown",
   "id": "5d267032-535b-4b7b-b7d3-d2db8f673af6",
   "metadata": {},
   "source": [
    "One of the primary challenges in time series forecasting is the inherent uncertainty and variability over time, making it crucial to validate the accuracy and reliability of the models employed. Cross-validation, a robust model validation technique, is particularly adapted for this task, as it provides insights into the expected performance of a model on unseen data, ensuring the forecasts are reliable and resilient before being deployed in real-world scenarios.\n",
    "\n",
    "`TimeGPT`, understanding the intricate needs of time series forecasting, incorporates the `cross_validation` method, designed to streamline the validation process for time series models. This functionality enables practitioners to rigorously test their forecasting models against historical data, assessing their effectiveness while tuning them for optimal performance. This tutorial will guide you through the nuanced process of conducting cross-validation within the `NixtlaClient` class, ensuring your time series forecasting models are not just well-constructed, but also validated for trustworthiness and precision."
   ]
  },
  {
   "cell_type": "code",
   "execution_count": null,
   "id": "3d86bf3b-49ff-46ea-a9f6-72c75df23148",
   "metadata": {},
   "outputs": [],
   "source": [
    "#| hide\n",
    "from nixtlats.utils import colab_badge"
   ]
  },
  {
   "cell_type": "code",
   "execution_count": null,
   "id": "30bcfdcd-2554-4d80-b2bd-7edf6e0b1056",
   "metadata": {},
   "outputs": [],
   "source": [
    "#| echo: false\n",
    "colab_badge('docs/tutorials/9_cross_validation')"
   ]
  },
  {
   "cell_type": "code",
   "execution_count": null,
   "id": "4a9883e0-0dd4-494b-b28e-e2de658f3710",
   "metadata": {},
   "outputs": [],
   "source": [
    "#| hide\n",
    "import numpy as np\n",
    "from dotenv import load_dotenv"
   ]
  },
  {
   "cell_type": "code",
   "execution_count": null,
   "id": "d38a145a-6257-4fc4-ba85-2798fe99058d",
   "metadata": {},
   "outputs": [],
   "source": [
    "#| hide\n",
    "load_dotenv()"
   ]
  },
  {
   "cell_type": "code",
   "execution_count": null,
   "id": "77c6d3be-dd0c-4590-b59f-0b3495e00839",
   "metadata": {},
   "outputs": [],
   "source": [
    "import pandas as pd\n",
    "from nixtlats import NixtlaClient"
   ]
  },
  {
   "cell_type": "code",
   "execution_count": null,
   "id": "462c262f-172a-430e-9883-c6684a5c4760",
   "metadata": {},
   "outputs": [],
   "source": [
    "nixtla_client = NixtlaClient(\n",
    "    # defaults to os.environ.get(\"NIXTLA_API_KEY\")\n",
    "    api_key = 'my_api_key_provided_by_nixtla'\n",
    ")"
   ]
  },
  {
   "cell_type": "code",
   "execution_count": null,
   "id": "a505e6e4-61bd-4762-943b-c55e4e31c193",
   "metadata": {},
   "outputs": [],
   "source": [
    "#| hide\n",
    "nixtla_client = NixtlaClient()"
   ]
  },
  {
   "cell_type": "markdown",
   "id": "937ccb60-8a1b-4a58-9111-d9fb9d8d727c",
   "metadata": {},
   "source": [
    "The `cross_validation` method within the `TimeGPT` class is an advanced functionality crafted to perform systematic validation on time series forecasting models. This method necessitates a dataframe comprising time-ordered data and employs a rolling-window scheme to meticulously evaluate the model's performance across different time periods, thereby ensuring the model's reliability and stability over time. \n",
    "\n",
    "Key parameters include `freq`, which denotes the data's frequency and is automatically inferred if not specified. The `id_col`, `time_col`, and `target_col` parameters designate the respective columns for each series' identifier, time step, and target values. The method offers customization through parameters like `n_windows`, indicating the number of separate time windows on which the model is assessed, and `step_size`, determining the gap between these windows. If `step_size` is unspecified, it defaults to the forecast horizon `h`. \n",
    "\n",
    "The process also allows for model refinement via `finetune_steps`, specifying the number of iterations for model fine-tuning on new data. Data pre-processing is manageable through `clean_ex_first`, deciding whether to cleanse the exogenous signal prior to forecasting. Additionally, the method supports enhanced feature engineering from time data through the `date_features` parameter, which can automatically generate crucial date-related features or accept custom functions for bespoke feature creation. The `date_features_to_one_hot` parameter further enables the transformation of categorical date features into a format suitable for machine learning models.\n",
    "\n",
    "In execution, `cross_validation` assesses the model's forecasting accuracy in each window, providing a robust view of the model's performance variability over time and potential overfitting. This detailed evaluation ensures the forecasts generated are not only accurate but also consistent across diverse temporal contexts."
   ]
  },
  {
   "cell_type": "code",
   "execution_count": null,
   "id": "0c2f02bf-b13a-4d8d-aeb6-fd59bffe549e",
   "metadata": {},
   "outputs": [],
   "source": [
    "pm_df = pd.read_csv('https://raw.githubusercontent.com/Nixtla/transfer-learning-time-series/main/datasets/peyton_manning.csv')\n",
    "timegpt_cv_df = nixtla_client.cross_validation(\n",
    "    pm_df, \n",
    "    h=7, \n",
    "    n_windows=5, \n",
    "    time_col='timestamp', \n",
    "    target_col='value', \n",
    "    freq='D',\n",
    ")\n",
    "timegpt_cv_df.head()"
   ]
  },
  {
   "cell_type": "code",
   "execution_count": null,
   "id": "ea823a63",
   "metadata": {},
   "outputs": [],
   "source": [
    "from IPython.display import display"
   ]
  },
  {
   "cell_type": "code",
   "execution_count": null,
   "id": "0793fd0d-c762-4f94-b704-1e5312886fbc",
   "metadata": {},
   "outputs": [],
   "source": [
    "cutoffs = timegpt_cv_df['cutoff'].unique()\n",
    "for cutoff in cutoffs:\n",
    "    fig = nixtla_client.plot(\n",
    "        pm_df.tail(100), \n",
    "        timegpt_cv_df.query('cutoff == @cutoff').drop(columns=['cutoff', 'value']),\n",
    "        time_col='timestamp', \n",
    "        target_col='value'\n",
    "    )\n",
    "    display(fig)"
   ]
  },
  {
   "cell_type": "markdown",
   "id": "c84e9a89-8de1-462f-a8d8-e45347031d23",
   "metadata": {},
   "source": [
    "To asses the performance of `TimeGPT` with distributional forecasts, you can produce prediction intervals using the `level` argument."
   ]
  },
  {
   "cell_type": "code",
   "execution_count": null,
   "id": "c2e6a0db-1253-4fd3-973d-0c373911af13",
   "metadata": {},
   "outputs": [],
   "source": [
    "timegpt_cv_df = nixtla_client.cross_validation(\n",
    "    pm_df, \n",
    "    h=7, \n",
    "    n_windows=5, \n",
    "    time_col='timestamp', \n",
    "    target_col='value', \n",
    "    freq='D',\n",
    "    level=[80, 90],\n",
    ")\n",
    "timegpt_cv_df.head()"
   ]
  },
  {
   "cell_type": "code",
   "execution_count": null,
   "id": "aa92c392",
   "metadata": {},
   "outputs": [],
   "source": [
    "cutoffs = timegpt_cv_df['cutoff'].unique()\n",
    "for cutoff in cutoffs:\n",
    "    fig = nixtla_client.plot(\n",
    "        pm_df.tail(100), \n",
    "        timegpt_cv_df.query('cutoff == @cutoff').drop(columns=['cutoff', 'value']),\n",
    "        time_col='timestamp', \n",
    "        target_col='value',\n",
    "        level=[80, 90],\n",
    "        models=['TimeGPT']\n",
    "    )\n",
    "    display(fig)"
   ]
  },
  {
   "cell_type": "markdown",
   "id": "84388bb9-54c3-408e-bae2-46e39ffc3ee5",
   "metadata": {},
   "source": [
    "You can also include `date_features` to see their impact in forecasting accuracy:"
   ]
  },
  {
   "cell_type": "code",
   "execution_count": null,
   "id": "dc956968-902a-4b35-a3e1-8db30a6b7448",
   "metadata": {},
   "outputs": [],
   "source": [
    "timegpt_cv_df = nixtla_client.cross_validation(\n",
    "    pm_df, \n",
    "    h=7, \n",
    "    n_windows=5, \n",
    "    time_col='timestamp', \n",
    "    target_col='value', \n",
    "    freq='D',\n",
    "    level=[80, 90],\n",
    "    date_features=['month'],\n",
    ")\n",
    "timegpt_cv_df.head()"
   ]
  },
  {
   "cell_type": "code",
   "execution_count": null,
   "id": "7b40b247",
   "metadata": {},
   "outputs": [],
   "source": [
    "cutoffs = timegpt_cv_df['cutoff'].unique()\n",
    "for cutoff in cutoffs:\n",
    "    fig = nixtla_client.plot(\n",
    "        pm_df.tail(100), \n",
    "        timegpt_cv_df.query('cutoff == @cutoff').drop(columns=['cutoff', 'value']),\n",
    "        time_col='timestamp', \n",
    "        target_col='value',\n",
    "        level=[80, 90],\n",
    "        models=['TimeGPT']\n",
    "    )\n",
    "    display(fig)"
   ]
  },
  {
   "cell_type": "markdown",
   "id": "b2cc956f-2a98-46be-922f-5fec1252c4e8",
   "metadata": {},
   "source": [
    "#### Exogenous variables"
   ]
  },
  {
   "cell_type": "markdown",
   "id": "a95ea323-cd6d-43cb-aed1-f10cf23c5a61",
   "metadata": {},
   "source": [
    "Additionally you can pass exogenous variables to better inform `TimeGPT` about the data. You just simply have to add the exogenous regressors after the target column."
   ]
  },
  {
   "cell_type": "code",
   "execution_count": null,
   "id": "85137aed-17d5-4d04-939a-5a83219b97a0",
   "metadata": {},
   "outputs": [],
   "source": [
    "Y_df = pd.read_csv('https://raw.githubusercontent.com/Nixtla/transfer-learning-time-series/main/datasets/electricity.csv')\n",
    "X_df = pd.read_csv('https://raw.githubusercontent.com/Nixtla/transfer-learning-time-series/main/datasets/exogenous-vars-electricity.csv')\n",
    "df = Y_df.merge(X_df)"
   ]
  },
  {
   "cell_type": "markdown",
   "id": "a2eb7f1a-2ea8-4c60-995a-808d2dcdd771",
   "metadata": {},
   "source": [
    "Now let's cross validate `TimeGPT` considering this information"
   ]
  },
  {
   "cell_type": "code",
   "execution_count": null,
   "id": "ab7d17a5-d344-414e-a4c5-9500cab26a9a",
   "metadata": {},
   "outputs": [],
   "source": [
    "#| hide\n",
    "nixtla_client = NixtlaClient(max_retries=2, retry_interval=5)"
   ]
  },
  {
   "cell_type": "code",
   "execution_count": null,
   "id": "6903c91e-38f3-4313-9e80-edb90421faf4",
   "metadata": {},
   "outputs": [],
   "source": [
    "timegpt_cv_df_x = nixtla_client.cross_validation(\n",
    "    df.groupby('unique_id').tail(100 * 48), \n",
    "    h=48, \n",
    "    n_windows=2,\n",
    "    level=[80, 90]\n",
    ")\n",
    "cutoffs = timegpt_cv_df_x.query('unique_id == \"BE\"')['cutoff'].unique()\n",
    "for cutoff in cutoffs:\n",
    "    fig = nixtla_client.plot(\n",
    "        df.query('unique_id == \"BE\"').tail(24 * 7), \n",
    "        timegpt_cv_df_x.query('cutoff == @cutoff & unique_id == \"BE\"').drop(columns=['cutoff', 'y']),\n",
    "        models=['TimeGPT'],\n",
    "        level=[80, 90],\n",
    "    )\n",
    "    display(fig)"
   ]
  },
  {
   "cell_type": "markdown",
   "id": "77c8c469-bbb5-45ef-bd49-07bfdbc51b6b",
   "metadata": {},
   "source": [
    "#### Compare different models\n",
    "\n",
    "Also, you can generate cross validation for different instances of `TimeGPT` using the `model` argument."
   ]
  },
  {
   "cell_type": "code",
   "execution_count": null,
   "id": "bee1ec6a-3529-4e6c-be20-6cab3e032911",
   "metadata": {},
   "outputs": [],
   "source": [
    "timegpt_cv_df_x_long_horizon = nixtla_client.cross_validation(\n",
    "    df.groupby('unique_id').tail(100 * 48), \n",
    "    h=48, \n",
    "    n_windows=2,\n",
    "    level=[80, 90],\n",
    "    model='timegpt-1-long-horizon',\n",
    ")\n",
    "timegpt_cv_df_x_long_horizon.columns = timegpt_cv_df_x_long_horizon.columns.str.replace('TimeGPT', 'TimeGPT-LongHorizon')\n",
    "timegpt_cv_df_x_models = timegpt_cv_df_x_long_horizon.merge(timegpt_cv_df_x)\n",
    "cutoffs = timegpt_cv_df_x_models.query('unique_id == \"BE\"')['cutoff'].unique()\n",
    "for cutoff in cutoffs:\n",
    "    fig = nixtla_client.plot(\n",
    "        df.query('unique_id == \"BE\"').tail(24 * 7), \n",
    "        timegpt_cv_df_x_models.query('cutoff == @cutoff & unique_id == \"BE\"').drop(columns=['cutoff', 'y']),\n",
    "        models=['TimeGPT', 'TimeGPT-LongHorizon'],\n",
    "        level=[80, 90],\n",
    "    )\n",
    "    display(fig)"
   ]
  }
 ],
 "metadata": {
  "kernelspec": {
   "display_name": "python3",
   "language": "python",
   "name": "python3"
  }
 },
 "nbformat": 4,
 "nbformat_minor": 5
}
