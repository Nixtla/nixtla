{
 "cells": [
  {
   "cell_type": "markdown",
   "id": "6de758ee-a0d2-4b3f-acff-eed419dd17c5",
   "metadata": {},
   "source": [
    "# Historical anomaly detection"
   ]
  },
  {
   "cell_type": "markdown",
   "id": "5d267032-535b-4b7b-b7d3-d2db8f673af6",
   "metadata": {},
   "source": [
    "This section provides various recipes for performing historical anomaly detection using TimeGPT.\n",
    "\n",
    "Historical anomaly detection identifies data points that deviate from the expected behavior over a given historical time series, helping to spot fraudulent activity, security breaches, or significant outliers.\n",
    "\n",
    "The process involves generating predictions and constructing a 99% confidence interval. Data points falling outside this interval are considered anomalies.\n",
    "\n",
    "This section covers:\n",
    "\n",
    "* [Historical anomaly detection](https://docs.nixtla.io/docs/capabilities-historical-anomaly-detection-quickstart)\n",
    "\n",
    "* [Historical anomaly detection with exogenous features](https://docs.nixtla.io/docs/capabilities-historical-anomaly-detection-add_exogenous_variables)\n",
    "\n",
    "* [Historical anomaly detection with date features](https://docs.nixtla.io/docs/capabilities-historical-anomaly-detection-add_date_features)\n",
    "\n",
    "* [Modifying the confidence intervals](https://docs.nixtla.io/docs/capabilities-historical-anomaly-detection-add_confidence_levels)"
   ]
  }
 ],
 "metadata": {
  "kernelspec": {
   "display_name": "python3",
   "language": "python",
   "name": "python3"
  }
 },
 "nbformat": 4,
 "nbformat_minor": 5
}
