{
 "cells": [
  {
   "cell_type": "markdown",
   "metadata": {},
   "source": [
    "# TimeGPT Subscription Plans\n",
    "\n",
    "We offer various Enterprise plans tailored to your forecasting needs. The number of API calls, number of users, and support levels can be customized based on your needs. We also offer an option for a self-hosted version and a version hosted on Azure.\n",
    "\n",
    "Please get in touch with us at support@nixtla.io for more information regarding pricing options and to discuss your specific requirements."
   ]
  },
  {
   "cell_type": "markdown",
   "metadata": {},
   "source": [
    "**Free trial available**\n",
    "\n",
    "When you [create your account](https://dashboard.nixtla.io), you’ll receive a 30-day free trial, no credit card required. After 30 days, access will expire unless you upgrade to a paid plan. Contact us to continue leveraging TimeGPT for accurate and easy to use forecasting!"
   ]
  },
  {
   "cell_type": "markdown",
   "metadata": {},
   "source": [
    "**More information on pricing and billing**\n",
    "\n",
    "For additional information on pricing and billing please see our FAQ."
   ]
  }
 ],
 "metadata": {
  "kernelspec": {
   "display_name": "python3",
   "language": "python",
   "name": "python3"
  }
 },
 "nbformat": 4,
 "nbformat_minor": 4
}
