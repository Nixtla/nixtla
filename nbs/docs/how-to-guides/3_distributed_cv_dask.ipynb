{
 "cells": [
  {
   "attachments": {},
   "cell_type": "markdown",
   "id": "5ff81b5a-514d-4d8b-953e-c8f7cb4ba215",
   "metadata": {},
   "source": [
    "# How to on Dask: Cross Validation\n",
    "> Run TimeGPT distributedly on top of Dask.\n",
    "\n",
    "`TimeGPT` works on top of Spark, Dask, and Ray through Fugue. `TimeGPT` will read the input DataFrame and use the corresponding engine. For example, if the input is a Dask DataFrame, TimeGPT will use the existing Dask session to run the forecast.\n"
   ]
  },
  {
   "cell_type": "code",
   "execution_count": null,
   "id": "5051a20b-716a-4e83-ab9a-6472c7e4a4fa",
   "metadata": {},
   "outputs": [],
   "source": [
    "#| hide\n",
    "from nixtlats.utils import colab_badge"
   ]
  },
  {
   "cell_type": "code",
   "execution_count": null,
   "id": "9ec6d4ad-7514-4ee9-8ca5-2ef027c45e6a",
   "metadata": {},
   "outputs": [
    {
     "data": {
      "text/markdown": [
       "[![](https://colab.research.google.com/assets/colab-badge.svg)](https://colab.research.google.com/github/Nixtla/nixtla/blob/main/nbs/docs/how-to-guides/3_distributed_cv_dask.ipynb)"
      ],
      "text/plain": [
       "<IPython.core.display.Markdown object>"
      ]
     },
     "metadata": {},
     "output_type": "display_data"
    }
   ],
   "source": [
    "#| echo: false\n",
    "colab_badge('docs/how-to-guides/3_distributed_cv_dask')"
   ]
  },
  {
   "attachments": {},
   "cell_type": "markdown",
   "id": "361d702c-361f-4321-85d3-2b76fb7b4937",
   "metadata": {},
   "source": [
    "# Installation "
   ]
  },
  {
   "attachments": {},
   "cell_type": "markdown",
   "id": "347151ac",
   "metadata": {},
   "source": [
    "[Dask](https://www.dask.org/get-started) is an open source parallel computing library for Python. As long as Dask is installed and configured, `TimeGPT` will be able to use it. If executing on a distributed Dask cluster, make sure the `nixtlats` library is installed across all the workers.\n",
    "\n",
    "In addition to Dask, you'll also need to have [Fugue](https://fugue-tutorials.readthedocs.io/) installed. Fugue provides an easy-to-use interface for distributed computing that lets users execute Python code on top of Spark, Dask and Ray. You can install Fugue for Dask using pip. "
   ]
  },
  {
   "cell_type": "code",
   "execution_count": null,
   "id": "91ab3c05",
   "metadata": {},
   "outputs": [],
   "source": [
    "%%capture \n",
    "pip install \"fugue[dask]\""
   ]
  },
  {
   "attachments": {},
   "cell_type": "markdown",
   "id": "743b89bd-6406-4f90-b545-2bd84a8ae62a",
   "metadata": {},
   "source": [
    "## Executing on Dask"
   ]
  },
  {
   "attachments": {},
   "cell_type": "markdown",
   "id": "b18574a5-76f8-4156-8264-9adae43e715d",
   "metadata": {},
   "source": [
    "First, instantiate a `NixtlaClient` class. To do this, you will need an API key provided by Nixtla. If you don't have one already, please request yours [here](https://docs.nixtla.io/).\n",
    "\n",
    "There are different ways to set your API key. Here, we will set it up as an environment variable. Please refer to this [tutorial](https://docs.nixtla.io/docs/setting_up_your_authentication_api_key) to learn more."
   ]
  },
  {
   "cell_type": "code",
   "execution_count": null,
   "id": "434c950c-6252-4696-8ea8-2e1bb865847d",
   "metadata": {},
   "outputs": [
    {
     "data": {
      "text/plain": [
       "True"
      ]
     },
     "execution_count": null,
     "metadata": {},
     "output_type": "execute_result"
    }
   ],
   "source": [
    "#| hide\n",
    "from dotenv import load_dotenv\n",
    "\n",
    "load_dotenv()"
   ]
  },
  {
   "cell_type": "code",
   "execution_count": null,
   "id": "a7644af0-f628-46ea-8fb7-474ee2fca39e",
   "metadata": {},
   "outputs": [],
   "source": [
    "from nixtlats import NixtlaClient\n",
    "\n",
    "nixtla_client = NixtlaClient() # defaults to os.environ.get(\"NIXTLA_API_KEY\")"
   ]
  },
  {
   "attachments": {},
   "cell_type": "markdown",
   "id": "395152be-c5c7-46bb-85d8-da739d470834",
   "metadata": {},
   "source": [
    "### Cross validation\n",
    "\n",
    "Time series cross validation is a method to check how well a model would have performed in the past. It uses a moving window over historical data to make predictions for the next period. After each prediction, the window moves ahead and the process keeps going until it covers all the data. The `NixtlaClient` class allows you to perfom cross validation on top of Dask. "
   ]
  },
  {
   "attachments": {},
   "cell_type": "markdown",
   "id": "c2213f0d",
   "metadata": {},
   "source": [
    "Start by loading the data using `pandas` and then convert it to a Dask DataFrame. "
   ]
  },
  {
   "cell_type": "code",
   "execution_count": null,
   "id": "21ac9c73-6644-47be-884c-23a682844e32",
   "metadata": {},
   "outputs": [
    {
     "data": {
      "text/html": [
       "<div>\n",
       "<style scoped>\n",
       "    .dataframe tbody tr th:only-of-type {\n",
       "        vertical-align: middle;\n",
       "    }\n",
       "\n",
       "    .dataframe tbody tr th {\n",
       "        vertical-align: top;\n",
       "    }\n",
       "\n",
       "    .dataframe thead th {\n",
       "        text-align: right;\n",
       "    }\n",
       "</style>\n",
       "<table border=\"1\" class=\"dataframe\">\n",
       "  <thead>\n",
       "    <tr style=\"text-align: right;\">\n",
       "      <th></th>\n",
       "      <th>unique_id</th>\n",
       "      <th>ds</th>\n",
       "      <th>y</th>\n",
       "    </tr>\n",
       "  </thead>\n",
       "  <tbody>\n",
       "    <tr>\n",
       "      <th>0</th>\n",
       "      <td>BE</td>\n",
       "      <td>2016-12-01 00:00:00</td>\n",
       "      <td>72.00</td>\n",
       "    </tr>\n",
       "    <tr>\n",
       "      <th>1</th>\n",
       "      <td>BE</td>\n",
       "      <td>2016-12-01 01:00:00</td>\n",
       "      <td>65.80</td>\n",
       "    </tr>\n",
       "    <tr>\n",
       "      <th>2</th>\n",
       "      <td>BE</td>\n",
       "      <td>2016-12-01 02:00:00</td>\n",
       "      <td>59.99</td>\n",
       "    </tr>\n",
       "    <tr>\n",
       "      <th>3</th>\n",
       "      <td>BE</td>\n",
       "      <td>2016-12-01 03:00:00</td>\n",
       "      <td>50.69</td>\n",
       "    </tr>\n",
       "    <tr>\n",
       "      <th>4</th>\n",
       "      <td>BE</td>\n",
       "      <td>2016-12-01 04:00:00</td>\n",
       "      <td>52.58</td>\n",
       "    </tr>\n",
       "  </tbody>\n",
       "</table>\n",
       "</div>"
      ],
      "text/plain": [
       "  unique_id                   ds      y\n",
       "0        BE  2016-12-01 00:00:00  72.00\n",
       "1        BE  2016-12-01 01:00:00  65.80\n",
       "2        BE  2016-12-01 02:00:00  59.99\n",
       "3        BE  2016-12-01 03:00:00  50.69\n",
       "4        BE  2016-12-01 04:00:00  52.58"
      ]
     },
     "execution_count": null,
     "metadata": {},
     "output_type": "execute_result"
    }
   ],
   "source": [
    "import pandas as pd \n",
    "\n",
    "df = pd.read_csv('https://raw.githubusercontent.com/Nixtla/transfer-learning-time-series/main/datasets/electricity-short.csv')\n",
    "df.head()"
   ]
  },
  {
   "cell_type": "code",
   "execution_count": null,
   "id": "ecf1d485",
   "metadata": {},
   "outputs": [],
   "source": [
    "import dask.dataframe as dd\n",
    "\n",
    "dask_df = dd.from_pandas(df, npartitions=2)"
   ]
  },
  {
   "attachments": {},
   "cell_type": "markdown",
   "id": "928e60d1",
   "metadata": {},
   "source": [
    "Now call the cross-validation method from the `NixtlaClient` class with the Dask DataFrame. "
   ]
  },
  {
   "cell_type": "code",
   "execution_count": null,
   "id": "305167a0-1984-4004-aea3-b97402832491",
   "metadata": {},
   "outputs": [
    {
     "name": "stderr",
     "output_type": "stream",
     "text": [
      "INFO:distributed.http.proxy:To route to workers diagnostics web server please install jupyter-server-proxy: python -m pip install jupyter-server-proxy\n",
      "/Users/marianamenchero/miniforge3/envs/nixtlats/lib/python3.10/site-packages/distributed/node.py:182: UserWarning: Port 8787 is already in use.\n",
      "Perhaps you already have a cluster running?\n",
      "Hosting the HTTP server on port 55623 instead\n",
      "  warnings.warn(\n",
      "INFO:distributed.scheduler:State start\n",
      "INFO:distributed.scheduler:  Scheduler at:     tcp://127.0.0.1:55624\n",
      "INFO:distributed.scheduler:  dashboard at:  http://127.0.0.1:55623/status\n",
      "INFO:distributed.scheduler:Registering Worker plugin shuffle\n",
      "INFO:distributed.nanny:        Start Nanny at: 'tcp://127.0.0.1:55627'\n",
      "INFO:distributed.nanny:        Start Nanny at: 'tcp://127.0.0.1:55628'\n",
      "INFO:distributed.nanny:        Start Nanny at: 'tcp://127.0.0.1:55629'\n",
      "INFO:distributed.nanny:        Start Nanny at: 'tcp://127.0.0.1:55630'\n",
      "INFO:distributed.scheduler:Register worker <WorkerState 'tcp://127.0.0.1:55637', name: 0, status: init, memory: 0, processing: 0>\n",
      "INFO:distributed.scheduler:Starting worker compute stream, tcp://127.0.0.1:55637\n",
      "INFO:distributed.core:Starting established connection to tcp://127.0.0.1:55643\n",
      "INFO:distributed.scheduler:Register worker <WorkerState 'tcp://127.0.0.1:55635', name: 1, status: init, memory: 0, processing: 0>\n",
      "INFO:distributed.scheduler:Starting worker compute stream, tcp://127.0.0.1:55635\n",
      "INFO:distributed.core:Starting established connection to tcp://127.0.0.1:55646\n",
      "INFO:distributed.scheduler:Register worker <WorkerState 'tcp://127.0.0.1:55636', name: 3, status: init, memory: 0, processing: 0>\n",
      "INFO:distributed.scheduler:Starting worker compute stream, tcp://127.0.0.1:55636\n",
      "INFO:distributed.core:Starting established connection to tcp://127.0.0.1:55645\n",
      "INFO:distributed.scheduler:Register worker <WorkerState 'tcp://127.0.0.1:55638', name: 2, status: init, memory: 0, processing: 0>\n",
      "INFO:distributed.scheduler:Starting worker compute stream, tcp://127.0.0.1:55638\n",
      "INFO:distributed.core:Starting established connection to tcp://127.0.0.1:55644\n",
      "INFO:distributed.scheduler:Receive client connection: Client-d3ecb976-01c2-11ef-843c-6255a1447580\n",
      "INFO:distributed.core:Starting established connection to tcp://127.0.0.1:55647\n",
      "WARNING:distributed.shuffle._scheduler_plugin:Shuffle 4ac4b4145b3c5717d102c4d176066838 initialized by task ('shuffle-transfer-4ac4b4145b3c5717d102c4d176066838', 0) executed on worker tcp://127.0.0.1:55635\n",
      "WARNING:distributed.shuffle._scheduler_plugin:Shuffle 4ac4b4145b3c5717d102c4d176066838 deactivated due to stimulus 'task-finished-1713912178.189023'\n",
      "INFO:nixtlats.nixtla_client:Validating inputs...\n",
      "INFO:nixtlats.nixtla_client:Validating inputs...\n",
      "INFO:nixtlats.nixtla_client:Preprocessing dataframes...\n",
      "INFO:nixtlats.nixtla_client:Calling Forecast Endpoint...\n",
      "INFO:nixtlats.nixtla_client:Validating inputs...\n",
      "INFO:nixtlats.nixtla_client:Validating inputs...\n",
      "INFO:nixtlats.nixtla_client:Preprocessing dataframes...\n",
      "INFO:nixtlats.nixtla_client:Calling Forecast Endpoint...\n",
      "INFO:nixtlats.nixtla_client:Validating inputs...\n",
      "INFO:nixtlats.nixtla_client:Validating inputs...\n",
      "INFO:nixtlats.nixtla_client:Preprocessing dataframes...\n",
      "INFO:nixtlats.nixtla_client:Calling Forecast Endpoint...\n",
      "INFO:nixtlats.nixtla_client:Validating inputs...\n",
      "INFO:nixtlats.nixtla_client:Validating inputs...\n",
      "INFO:nixtlats.nixtla_client:Preprocessing dataframes...\n",
      "INFO:nixtlats.nixtla_client:Calling Forecast Endpoint...\n",
      "INFO:nixtlats.nixtla_client:Validating inputs...\n",
      "INFO:nixtlats.nixtla_client:Validating inputs...\n",
      "INFO:nixtlats.nixtla_client:Preprocessing dataframes...\n",
      "INFO:nixtlats.nixtla_client:Calling Forecast Endpoint...\n",
      "INFO:nixtlats.nixtla_client:Validating inputs...\n"
     ]
    },
    {
     "data": {
      "text/html": [
       "<div>\n",
       "<style scoped>\n",
       "    .dataframe tbody tr th:only-of-type {\n",
       "        vertical-align: middle;\n",
       "    }\n",
       "\n",
       "    .dataframe tbody tr th {\n",
       "        vertical-align: top;\n",
       "    }\n",
       "\n",
       "    .dataframe thead th {\n",
       "        text-align: right;\n",
       "    }\n",
       "</style>\n",
       "<table border=\"1\" class=\"dataframe\">\n",
       "  <thead>\n",
       "    <tr style=\"text-align: right;\">\n",
       "      <th></th>\n",
       "      <th>unique_id</th>\n",
       "      <th>ds</th>\n",
       "      <th>cutoff</th>\n",
       "      <th>TimeGPT</th>\n",
       "    </tr>\n",
       "  </thead>\n",
       "  <tbody>\n",
       "    <tr>\n",
       "      <th>0</th>\n",
       "      <td>FR</td>\n",
       "      <td>2016-12-30 04:00:00</td>\n",
       "      <td>2016-12-30 03:00:00</td>\n",
       "      <td>44.893745</td>\n",
       "    </tr>\n",
       "    <tr>\n",
       "      <th>1</th>\n",
       "      <td>FR</td>\n",
       "      <td>2016-12-30 05:00:00</td>\n",
       "      <td>2016-12-30 03:00:00</td>\n",
       "      <td>46.05793</td>\n",
       "    </tr>\n",
       "    <tr>\n",
       "      <th>2</th>\n",
       "      <td>FR</td>\n",
       "      <td>2016-12-30 06:00:00</td>\n",
       "      <td>2016-12-30 03:00:00</td>\n",
       "      <td>48.790077</td>\n",
       "    </tr>\n",
       "    <tr>\n",
       "      <th>3</th>\n",
       "      <td>FR</td>\n",
       "      <td>2016-12-30 07:00:00</td>\n",
       "      <td>2016-12-30 03:00:00</td>\n",
       "      <td>54.397026</td>\n",
       "    </tr>\n",
       "    <tr>\n",
       "      <th>4</th>\n",
       "      <td>FR</td>\n",
       "      <td>2016-12-30 08:00:00</td>\n",
       "      <td>2016-12-30 03:00:00</td>\n",
       "      <td>57.593002</td>\n",
       "    </tr>\n",
       "  </tbody>\n",
       "</table>\n",
       "</div>"
      ],
      "text/plain": [
       "  unique_id                   ds               cutoff    TimeGPT\n",
       "0        FR  2016-12-30 04:00:00  2016-12-30 03:00:00  44.893745\n",
       "1        FR  2016-12-30 05:00:00  2016-12-30 03:00:00   46.05793\n",
       "2        FR  2016-12-30 06:00:00  2016-12-30 03:00:00  48.790077\n",
       "3        FR  2016-12-30 07:00:00  2016-12-30 03:00:00  54.397026\n",
       "4        FR  2016-12-30 08:00:00  2016-12-30 03:00:00  57.593002"
      ]
     },
     "execution_count": null,
     "metadata": {},
     "output_type": "execute_result"
    }
   ],
   "source": [
    "fcst_df = nixtla_client.cross_validation(dask_df, h=12, freq=\"H\", n_windows=5, step_size=2)\n",
    "fcst_df.head()"
   ]
  },
  {
   "attachments": {},
   "cell_type": "markdown",
   "id": "2008fbf0-9bd2-4974-904b-bb8dc90876e6",
   "metadata": {},
   "source": [
    "### Cross validation with exogenous variables"
   ]
  },
  {
   "attachments": {},
   "cell_type": "markdown",
   "id": "1d281c8d-3a5c-4b3e-8468-7699ef44933b",
   "metadata": {},
   "source": [
    "Exogenous variables or external factors are crucial in time series forecasting as they provide additional information that might influence the prediction. These variables could include holiday markers, marketing spending, weather data, or any other external data that correlate with the time series data you are forecasting.\n",
    "\n",
    "For example, if you're forecasting ice cream sales, temperature data could serve as a useful exogenous variable. On hotter days, ice cream sales may increase.\n",
    "\n",
    "To incorporate exogenous variables in TimeGPT, you'll need to pair each point in your time series data with the corresponding external data.\n",
    "\n",
    "Let's see an example. First we will load the data using `pandas` and convert it to a Dask DataFrame."
   ]
  },
  {
   "cell_type": "code",
   "execution_count": null,
   "id": "cb2672f5",
   "metadata": {},
   "outputs": [
    {
     "data": {
      "text/html": [
       "<div>\n",
       "<style scoped>\n",
       "    .dataframe tbody tr th:only-of-type {\n",
       "        vertical-align: middle;\n",
       "    }\n",
       "\n",
       "    .dataframe tbody tr th {\n",
       "        vertical-align: top;\n",
       "    }\n",
       "\n",
       "    .dataframe thead th {\n",
       "        text-align: right;\n",
       "    }\n",
       "</style>\n",
       "<table border=\"1\" class=\"dataframe\">\n",
       "  <thead>\n",
       "    <tr style=\"text-align: right;\">\n",
       "      <th></th>\n",
       "      <th>unique_id</th>\n",
       "      <th>ds</th>\n",
       "      <th>y</th>\n",
       "      <th>Exogenous1</th>\n",
       "      <th>Exogenous2</th>\n",
       "      <th>day_0</th>\n",
       "      <th>day_1</th>\n",
       "      <th>day_2</th>\n",
       "      <th>day_3</th>\n",
       "      <th>day_4</th>\n",
       "      <th>day_5</th>\n",
       "      <th>day_6</th>\n",
       "    </tr>\n",
       "  </thead>\n",
       "  <tbody>\n",
       "    <tr>\n",
       "      <th>0</th>\n",
       "      <td>BE</td>\n",
       "      <td>2016-12-01 00:00:00</td>\n",
       "      <td>72.00</td>\n",
       "      <td>61507.0</td>\n",
       "      <td>71066.0</td>\n",
       "      <td>0.0</td>\n",
       "      <td>0.0</td>\n",
       "      <td>0.0</td>\n",
       "      <td>1.0</td>\n",
       "      <td>0.0</td>\n",
       "      <td>0.0</td>\n",
       "      <td>0.0</td>\n",
       "    </tr>\n",
       "    <tr>\n",
       "      <th>1</th>\n",
       "      <td>BE</td>\n",
       "      <td>2016-12-01 01:00:00</td>\n",
       "      <td>65.80</td>\n",
       "      <td>59528.0</td>\n",
       "      <td>67311.0</td>\n",
       "      <td>0.0</td>\n",
       "      <td>0.0</td>\n",
       "      <td>0.0</td>\n",
       "      <td>1.0</td>\n",
       "      <td>0.0</td>\n",
       "      <td>0.0</td>\n",
       "      <td>0.0</td>\n",
       "    </tr>\n",
       "    <tr>\n",
       "      <th>2</th>\n",
       "      <td>BE</td>\n",
       "      <td>2016-12-01 02:00:00</td>\n",
       "      <td>59.99</td>\n",
       "      <td>58812.0</td>\n",
       "      <td>67470.0</td>\n",
       "      <td>0.0</td>\n",
       "      <td>0.0</td>\n",
       "      <td>0.0</td>\n",
       "      <td>1.0</td>\n",
       "      <td>0.0</td>\n",
       "      <td>0.0</td>\n",
       "      <td>0.0</td>\n",
       "    </tr>\n",
       "    <tr>\n",
       "      <th>3</th>\n",
       "      <td>BE</td>\n",
       "      <td>2016-12-01 03:00:00</td>\n",
       "      <td>50.69</td>\n",
       "      <td>57676.0</td>\n",
       "      <td>64529.0</td>\n",
       "      <td>0.0</td>\n",
       "      <td>0.0</td>\n",
       "      <td>0.0</td>\n",
       "      <td>1.0</td>\n",
       "      <td>0.0</td>\n",
       "      <td>0.0</td>\n",
       "      <td>0.0</td>\n",
       "    </tr>\n",
       "    <tr>\n",
       "      <th>4</th>\n",
       "      <td>BE</td>\n",
       "      <td>2016-12-01 04:00:00</td>\n",
       "      <td>52.58</td>\n",
       "      <td>56804.0</td>\n",
       "      <td>62773.0</td>\n",
       "      <td>0.0</td>\n",
       "      <td>0.0</td>\n",
       "      <td>0.0</td>\n",
       "      <td>1.0</td>\n",
       "      <td>0.0</td>\n",
       "      <td>0.0</td>\n",
       "      <td>0.0</td>\n",
       "    </tr>\n",
       "  </tbody>\n",
       "</table>\n",
       "</div>"
      ],
      "text/plain": [
       "  unique_id                   ds      y  Exogenous1  Exogenous2  day_0  day_1  \\\n",
       "0        BE  2016-12-01 00:00:00  72.00     61507.0     71066.0    0.0    0.0   \n",
       "1        BE  2016-12-01 01:00:00  65.80     59528.0     67311.0    0.0    0.0   \n",
       "2        BE  2016-12-01 02:00:00  59.99     58812.0     67470.0    0.0    0.0   \n",
       "3        BE  2016-12-01 03:00:00  50.69     57676.0     64529.0    0.0    0.0   \n",
       "4        BE  2016-12-01 04:00:00  52.58     56804.0     62773.0    0.0    0.0   \n",
       "\n",
       "   day_2  day_3  day_4  day_5  day_6  \n",
       "0    0.0    1.0    0.0    0.0    0.0  \n",
       "1    0.0    1.0    0.0    0.0    0.0  \n",
       "2    0.0    1.0    0.0    0.0    0.0  \n",
       "3    0.0    1.0    0.0    0.0    0.0  \n",
       "4    0.0    1.0    0.0    0.0    0.0  "
      ]
     },
     "execution_count": null,
     "metadata": {},
     "output_type": "execute_result"
    }
   ],
   "source": [
    "df = pd.read_csv('https://raw.githubusercontent.com/Nixtla/transfer-learning-time-series/main/datasets/electricity-short-with-ex-vars.csv')\n",
    "df.head()"
   ]
  },
  {
   "cell_type": "code",
   "execution_count": null,
   "id": "8b0d7fd4-5d69-4b6e-b065-efeba63f5911",
   "metadata": {},
   "outputs": [],
   "source": [
    "dask_df = dd.from_pandas(df, npartitions=2)"
   ]
  },
  {
   "attachments": {},
   "cell_type": "markdown",
   "id": "66ec94e4-98c5-48ee-ad2f-d6996e82b758",
   "metadata": {},
   "source": [
    "Let's call the `cross_validation` method, adding this information:"
   ]
  },
  {
   "cell_type": "code",
   "execution_count": null,
   "id": "b3c51169-3561-4d00-adba-fd6e49ab6c24",
   "metadata": {},
   "outputs": [
    {
     "name": "stderr",
     "output_type": "stream",
     "text": [
      "WARNING:distributed.shuffle._scheduler_plugin:Shuffle 9a685c51643d31b8db7225eabe42ac2b initialized by task ('shuffle-transfer-9a685c51643d31b8db7225eabe42ac2b', 0) executed on worker tcp://127.0.0.1:55635\n",
      "WARNING:distributed.shuffle._scheduler_plugin:Shuffle 9a685c51643d31b8db7225eabe42ac2b deactivated due to stimulus 'task-finished-1713912429.42702'\n"
     ]
    },
    {
     "name": "stderr",
     "output_type": "stream",
     "text": [
      "INFO:nixtlats.nixtla_client:Validating inputs...\n",
      "INFO:nixtlats.nixtla_client:Validating inputs...\n",
      "INFO:nixtlats.nixtla_client:Preprocessing dataframes...\n",
      "WARNING:nixtlats.nixtla_client:The specified horizon \"h\" exceeds the model horizon. This may lead to less accurate forecasts. Please consider using a smaller horizon.\n",
      "INFO:nixtlats.nixtla_client:Using the following exogenous variables: Exogenous1, Exogenous2, day_0, day_1, day_2, day_3, day_4, day_5, day_6\n",
      "INFO:nixtlats.nixtla_client:Calling Forecast Endpoint...\n",
      "INFO:nixtlats.nixtla_client:Validating inputs...\n",
      "INFO:nixtlats.nixtla_client:Validating inputs...\n",
      "INFO:nixtlats.nixtla_client:Preprocessing dataframes...\n",
      "WARNING:nixtlats.nixtla_client:The specified horizon \"h\" exceeds the model horizon. This may lead to less accurate forecasts. Please consider using a smaller horizon.\n",
      "INFO:nixtlats.nixtla_client:Using the following exogenous variables: Exogenous1, Exogenous2, day_0, day_1, day_2, day_3, day_4, day_5, day_6\n",
      "INFO:nixtlats.nixtla_client:Calling Forecast Endpoint...\n",
      "INFO:nixtlats.nixtla_client:Validating inputs...\n",
      "INFO:nixtlats.nixtla_client:Validating inputs...\n",
      "INFO:nixtlats.nixtla_client:Preprocessing dataframes...\n",
      "WARNING:nixtlats.nixtla_client:The specified horizon \"h\" exceeds the model horizon. This may lead to less accurate forecasts. Please consider using a smaller horizon.\n",
      "INFO:nixtlats.nixtla_client:Using the following exogenous variables: Exogenous1, Exogenous2, day_0, day_1, day_2, day_3, day_4, day_5, day_6\n",
      "INFO:nixtlats.nixtla_client:Calling Forecast Endpoint...\n",
      "INFO:nixtlats.nixtla_client:Validating inputs...\n",
      "INFO:nixtlats.nixtla_client:Validating inputs...\n",
      "INFO:nixtlats.nixtla_client:Preprocessing dataframes...\n",
      "WARNING:nixtlats.nixtla_client:The specified horizon \"h\" exceeds the model horizon. This may lead to less accurate forecasts. Please consider using a smaller horizon.\n",
      "INFO:nixtlats.nixtla_client:Using the following exogenous variables: Exogenous1, Exogenous2, day_0, day_1, day_2, day_3, day_4, day_5, day_6\n",
      "INFO:nixtlats.nixtla_client:Calling Forecast Endpoint...\n",
      "INFO:nixtlats.nixtla_client:Validating inputs...\n",
      "INFO:nixtlats.nixtla_client:Validating inputs...\n",
      "INFO:nixtlats.nixtla_client:Preprocessing dataframes...\n",
      "WARNING:nixtlats.nixtla_client:The specified horizon \"h\" exceeds the model horizon. This may lead to less accurate forecasts. Please consider using a smaller horizon.\n",
      "INFO:nixtlats.nixtla_client:Using the following exogenous variables: Exogenous1, Exogenous2, day_0, day_1, day_2, day_3, day_4, day_5, day_6\n",
      "INFO:nixtlats.nixtla_client:Calling Forecast Endpoint...\n",
      "INFO:nixtlats.nixtla_client:Validating inputs...\n"
     ]
    },
    {
     "data": {
      "text/html": [
       "<div>\n",
       "<style scoped>\n",
       "    .dataframe tbody tr th:only-of-type {\n",
       "        vertical-align: middle;\n",
       "    }\n",
       "\n",
       "    .dataframe tbody tr th {\n",
       "        vertical-align: top;\n",
       "    }\n",
       "\n",
       "    .dataframe thead th {\n",
       "        text-align: right;\n",
       "    }\n",
       "</style>\n",
       "<table border=\"1\" class=\"dataframe\">\n",
       "  <thead>\n",
       "    <tr style=\"text-align: right;\">\n",
       "      <th></th>\n",
       "      <th>unique_id</th>\n",
       "      <th>ds</th>\n",
       "      <th>cutoff</th>\n",
       "      <th>TimeGPT</th>\n",
       "      <th>TimeGPT-lo-90</th>\n",
       "      <th>TimeGPT-lo-80</th>\n",
       "      <th>TimeGPT-hi-80</th>\n",
       "      <th>TimeGPT-hi-90</th>\n",
       "    </tr>\n",
       "  </thead>\n",
       "  <tbody>\n",
       "    <tr>\n",
       "      <th>0</th>\n",
       "      <td>FR</td>\n",
       "      <td>2016-12-21 00:00:00</td>\n",
       "      <td>2016-12-20 23:00:00</td>\n",
       "      <td>66.397483</td>\n",
       "      <td>62.037771</td>\n",
       "      <td>63.289465</td>\n",
       "      <td>69.505501</td>\n",
       "      <td>70.757195</td>\n",
       "    </tr>\n",
       "    <tr>\n",
       "      <th>1</th>\n",
       "      <td>FR</td>\n",
       "      <td>2016-12-21 01:00:00</td>\n",
       "      <td>2016-12-20 23:00:00</td>\n",
       "      <td>63.718419</td>\n",
       "      <td>59.770956</td>\n",
       "      <td>61.168329</td>\n",
       "      <td>66.268508</td>\n",
       "      <td>67.665882</td>\n",
       "    </tr>\n",
       "    <tr>\n",
       "      <th>2</th>\n",
       "      <td>FR</td>\n",
       "      <td>2016-12-21 02:00:00</td>\n",
       "      <td>2016-12-20 23:00:00</td>\n",
       "      <td>61.137844</td>\n",
       "      <td>58.881849</td>\n",
       "      <td>59.515674</td>\n",
       "      <td>62.760015</td>\n",
       "      <td>63.39384</td>\n",
       "    </tr>\n",
       "    <tr>\n",
       "      <th>3</th>\n",
       "      <td>FR</td>\n",
       "      <td>2016-12-21 03:00:00</td>\n",
       "      <td>2016-12-20 23:00:00</td>\n",
       "      <td>55.774907</td>\n",
       "      <td>53.04736</td>\n",
       "      <td>53.220712</td>\n",
       "      <td>58.329103</td>\n",
       "      <td>58.502455</td>\n",
       "    </tr>\n",
       "    <tr>\n",
       "      <th>4</th>\n",
       "      <td>FR</td>\n",
       "      <td>2016-12-21 04:00:00</td>\n",
       "      <td>2016-12-20 23:00:00</td>\n",
       "      <td>48.803787</td>\n",
       "      <td>44.101765</td>\n",
       "      <td>44.58028</td>\n",
       "      <td>53.027293</td>\n",
       "      <td>53.505808</td>\n",
       "    </tr>\n",
       "  </tbody>\n",
       "</table>\n",
       "</div>"
      ],
      "text/plain": [
       "  unique_id                   ds               cutoff    TimeGPT  \\\n",
       "0        FR  2016-12-21 00:00:00  2016-12-20 23:00:00  66.397483   \n",
       "1        FR  2016-12-21 01:00:00  2016-12-20 23:00:00  63.718419   \n",
       "2        FR  2016-12-21 02:00:00  2016-12-20 23:00:00  61.137844   \n",
       "3        FR  2016-12-21 03:00:00  2016-12-20 23:00:00  55.774907   \n",
       "4        FR  2016-12-21 04:00:00  2016-12-20 23:00:00  48.803787   \n",
       "\n",
       "   TimeGPT-lo-90  TimeGPT-lo-80  TimeGPT-hi-80  TimeGPT-hi-90  \n",
       "0      62.037771      63.289465      69.505501      70.757195  \n",
       "1      59.770956      61.168329      66.268508      67.665882  \n",
       "2      58.881849      59.515674      62.760015       63.39384  \n",
       "3       53.04736      53.220712      58.329103      58.502455  \n",
       "4      44.101765       44.58028      53.027293      53.505808  "
      ]
     },
     "execution_count": null,
     "metadata": {},
     "output_type": "execute_result"
    }
   ],
   "source": [
    "cv_ex_vars_df = nixtla_client.cross_validation(\n",
    "    df=dask_df,\n",
    "    h=48, \n",
    "    freq='H',\n",
    "    level=[80, 90],\n",
    "    n_windows=5,\n",
    ")\n",
    "cv_ex_vars_df.head()"
   ]
  }
 ],
 "metadata": {
  "kernelspec": {
   "display_name": "python3",
   "language": "python",
   "name": "python3"
  }
 },
 "nbformat": 4,
 "nbformat_minor": 5
}
