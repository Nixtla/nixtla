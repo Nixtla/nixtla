{
 "cells": [
  {
   "cell_type": "markdown",
   "metadata": {},
   "source": [
    "# TimeGPT Subscription Plans and Pricing \n",
    "\n",
    "TimeGPT is a fixed price per month, so you can plan for your forecasting needs. We have plans if you use TimeGPT a lot or a little and with different levels of support. Our goal is to help you be successful with your forecasting!\n",
    "\n",
    "[**Start for free**](https://dashboard.nixtla.io/)  \n",
    "*No credit card needed. Free plan available.\n",
    "\n",
    "Sign up on our [dashboard](https://dashboard.nixtla.io/), generate your API key, and start forecasting!"
   ]
  },
  {
   "cell_type": "markdown",
   "metadata": {},
   "source": [
    "### Free trial\n",
    "\n",
    "When you first create your account, you will have a 30-day free trial of the Standard Plan.  **No credit card required**. After 30 days your plan will automatically switch to our free Starter Plan with 50 API calls/month unless you subscribe to one of our paid plans."
   ]
  },
  {
   "cell_type": "markdown",
   "metadata": {},
   "source": [
    "## TimeGPT subscription plans\n",
    "\n",
    "|   | Starter  | Standard | Premium | Enterprise |\n",
    "|---|:---:|:---:|:---:|:---:|\n",
    "| **Price per month (USD)** | **$0**  | **$99**  | **$399**  | **customizable**  |\n",
    "| Number of API calls  | 50 calls/month | 10,000 calls/month ($9.90/1K calls) | 100,000 calls/month ($3.99/1K calls) | customizable |\n",
    "| Support  | 3 business day responses | 1 business day responses  | premium support  | customizable |\n",
    "| Consulting with our forecasting experts |  | Initial consulting call | 2 consulting calls/month  | customizable |\n",
    "| Models and features early access  |   | X  | X  | X  |\n",
    "| Self-hosted  |   |   |   | X  |\n",
    "\n",
    "Please get in touch with us at [support@nixtla.io](mailto:support@nixtla.io) if you have other forecasting needs or are interested in our Enterprise option.\n"
   ]
  },
  {
   "cell_type": "markdown",
   "metadata": {},
   "source": [
    "## Azure TimeGEN Pricing\n",
    "\n",
    "TimeGEN-1 is TimeGPT optimized for the Azure infrastructure. You can access TimeGEN through Azure Models as a Service. Explore the model in the playground. Pay only for tokens consumed. Use [this spreadsheet](https://docs.google.com/spreadsheets/d/1uIkSEam4-K9S7JHzjgHG7vITTf-usnyo36aaUddsHPs/copy) to estimate how many tokens you will need for your use case. Learn more: [What is a token?](https://docs.nixtla.io/docs/getting-started-faq#pricing-and-billing)\n",
    "\n",
    "**Access and payments for TimeGEN are handled through Microsoft** \n",
    "\n",
    "To get started with TimeGEN, log in to Azure cloud and see our [TimeGEN Quickstart Guide](https://docs.nixtla.io/docs/getting-started-timegen_1_quickstart_azure_). You do not need to sign up through our dashboard."
   ]
  },
  {
   "cell_type": "markdown",
   "metadata": {},
   "source": [
    "**Pricing per token**\n",
    "\n",
    "| Token type | cost per 1000 tokens |\n",
    "|---|:---:|\n",
    "| **paygo-inference-input-tokens** | $0.00013 |\n",
    "| **paygo-inference-output-tokens** | $0.00038 |\n",
    "| **paygo-finetuned-model-inference-output-tokens** | $0.00105 |\n",
    "| **paygo-finetuned-model-inference-input tokens** | $0.00035 |"
   ]
  },
  {
   "cell_type": "markdown",
   "metadata": {},
   "source": [
    "## Self-hosted\n",
    "\n",
    "We have a self-hosted version available for Enterprise customers. Please contact us at support@nixtla.io to talk with us about this option. "
   ]
  },
  {
   "cell_type": "markdown",
   "metadata": {},
   "source": [
    "## More information on pricing and billing\n",
    "\n",
    "For additional information on pricing and billing please see [our FAQ](https://docs.nixtla.io/docs/getting-started-faq#pricing-and-billing). "
   ]
  }
 ],
 "metadata": {
  "kernelspec": {
   "display_name": "python3",
   "language": "python",
   "name": "python3"
  }
 },
 "nbformat": 4,
 "nbformat_minor": 4
}
