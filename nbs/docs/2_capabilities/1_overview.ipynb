{
 "cells": [],
 "metadata": {
  "kernelspec": {
   "display_name": "python3",
   "language": "python",
   "name": "python3"
  }
 },
 "nbformat": 4,
 "nbformat_minor": 5
}
