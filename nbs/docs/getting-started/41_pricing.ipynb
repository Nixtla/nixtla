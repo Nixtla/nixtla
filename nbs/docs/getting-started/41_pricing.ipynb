{
 "cells": [
  {
   "cell_type": "markdown",
   "metadata": {},
   "source": [
    "# TimeGPT Subscription Plans and Pricing \n",
    "\n",
    "TimeGPT is a fixed price per month, so you can plan for your forecasting needs. We have plans if you use TimeGPT a lot or a little and with different levels of support. Our goal is to help you be successful with your forecasting!\n",
    "\n",
    "[**Start for free**](https://dashboard.nixtla.io/)  \n",
    "*No credit card needed. Free plan available.\n",
    "\n",
    "Sign up on our [dashboard](https://dashboard.nixtla.io/), generate your API key, and start forecasting!"
   ]
  },
  {
   "cell_type": "markdown",
   "metadata": {},
   "source": [
    "### Free trial\n",
    "\n",
    "When you first create your account, you will have a 30-day free trial of the Standard Plan.  **No credit card required**. After 30 days your will need to switch to one of our Enterprise plans to continue leveraging our forecasting technology."
   ]
  },
  {
   "cell_type": "markdown",
   "metadata": {},
   "source": [
    "### TimeGPT Subscription Plans\n",
    "\n",
    "We offer various Enterprise plans for different needs. The number of API calls, number of users, and support levels can be customized based on needs. We also offer an option for a self-hosted version and a version hosted on Azure. Please get in touch with us at [support@nixtla.io](mailto:support@nixtla.io) for more information regarding pricing options and to discuss your specific requirements.\n"
   ]
  },
  {
   "cell_type": "markdown",
   "metadata": {},
   "source": [
    "## More information on pricing and billing\n",
    "\n",
    "For additional information on pricing and billing please see [our FAQ](https://docs.nixtla.io/docs/getting-started-faq#pricing-and-billing). "
   ]
  }
 ],
 "metadata": {
  "kernelspec": {
   "display_name": "python3",
   "language": "python",
   "name": "python3"
  }
 },
 "nbformat": 4,
 "nbformat_minor": 4
}
