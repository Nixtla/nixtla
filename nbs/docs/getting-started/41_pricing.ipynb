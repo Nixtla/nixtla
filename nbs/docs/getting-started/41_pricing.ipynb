{
 "cells": [
  {
   "cell_type": "markdown",
   "metadata": {},
   "source": [
    "# TimeGPT Subscription Plans and Pricing \n",
    "\n",
    "TimeGPT provides various Enterprise plans tailored to your forecasting needs. After 30 days, access will expire unless you upgrade to a paid plan. Contact us to continue leveraging TimeGPT for accurate and efficient forecasting!\n",
    "\n",
    "[**Start for free**](https://dashboard.nixtla.io/)  \n",
    "No credit card needed. Free plan available.\n",
    "\n",
    "Sign up on our [dashboard](https://dashboard.nixtla.io/), generate your API key, and start forecasting!"
   ]
  },
  {
   "cell_type": "markdown",
   "metadata": {},
   "source": [
    "### Free trial\n",
    "\n",
    "When you create your account, you'll receive a 30-day free trial of the Standard Plan—no credit card required. After the trial period, contact us to upgrade and continue accessing TimeGPT’s features."
   ]
  },
  {
   "cell_type": "markdown",
   "metadata": {},
   "source": [
    "## TimeGPT Subscription Plans\n",
    "\n",
    "We offer various Enterprise plans for different needs. The number of API calls, number of users, and support levels can be customized based on needs. We also offer an option for a self-hosted version. Please get in touch with us at [support@nixtla.io](mailto:support@nixtla.io) for more information regarding pricing options and to discuss your specific requirements.\n"
   ]
  },
  {
   "cell_type": "markdown",
   "metadata": {},
   "source": [
    "## Azure TimeGEN Pricing\n",
    "\n",
    "TimeGEN-1 is TimeGPT optimized for the Azure infrastructure. You can access TimeGEN through Azure Models as a Service. Explore the model in the playground. \n",
    "\n",
    "**Access and payments for TimeGEN are handled through Microsoft.** \n",
    "To get started with TimeGEN, log in to Azure cloud and see our [TimeGEN Quickstart Guide](https://docs.nixtla.io/docs/getting-started-timegen_1_quickstart_azure_). You do not need to sign up through our dashboard."
   ]
  },
  {
   "cell_type": "markdown",
   "metadata": {},
   "source": [
    "## Self-hosted\n",
    "\n",
    "We have a self-hosted version available for Enterprise customers. Please contact us at [support@nixtla.io](mailto:support@nixtla.io) to talk with us about this option."
   ]
  },
  {
   "cell_type": "markdown",
   "metadata": {},
   "source": [
    "## More information on pricing and billing\n",
    "\n",
    "For additional information on pricing and billing please see [our FAQ](https://docs.nixtla.io/docs/getting-started-faq#pricing-and-billing). "
   ]
  }
 ],
 "metadata": {
  "kernelspec": {
   "display_name": "python3",
   "language": "python",
   "name": "python3"
  }
 },
 "nbformat": 4,
 "nbformat_minor": 4
}
