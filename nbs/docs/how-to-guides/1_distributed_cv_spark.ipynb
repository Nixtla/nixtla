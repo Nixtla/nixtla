{
 "cells": [
  {
   "cell_type": "markdown",
   "id": "5ff81b5a-514d-4d8b-953e-c8f7cb4ba215",
   "metadata": {},
   "source": [
    "# How to on Spark: Cross Validation\n",
    "> Run TimeGPT distributedly on top of Spark.\n",
    "\n",
    "`TimeGPT` works on top of Spark, Dask, and Ray through Fugue. `TimeGPT` will read the input DataFrame and use the corresponding engine. For example, if the input is a Spark DataFrame, StatsForecast will use the existing Spark session to run the forecast.\n"
   ]
  },
  {
   "cell_type": "code",
   "execution_count": null,
   "id": "5051a20b-716a-4e83-ab9a-6472c7e4a4fa",
   "metadata": {},
   "outputs": [],
   "source": [
    "#| hide\n",
    "from nixtlats.utils import colab_badge"
   ]
  },
  {
   "cell_type": "code",
   "execution_count": null,
   "id": "9ec6d4ad-7514-4ee9-8ca5-2ef027c45e6a",
   "metadata": {},
   "outputs": [
    {
     "data": {
      "text/markdown": [
       "[![](https://colab.research.google.com/assets/colab-badge.svg)](https://colab.research.google.com/github/Nixtla/nixtla/blob/main/nbs/docs/how-to-guides/1_distributed_cv_spark.ipynb)"
      ],
      "text/plain": [
       "<IPython.core.display.Markdown object>"
      ]
     },
     "metadata": {},
     "output_type": "display_data"
    }
   ],
   "source": [
    "#| echo: false\n",
    "colab_badge('docs/how-to-guides/1_distributed_cv_spark')"
   ]
  },
  {
   "cell_type": "markdown",
   "id": "361d702c-361f-4321-85d3-2b76fb7b4937",
   "metadata": {},
   "source": [
    "# Installation "
   ]
  },
  {
   "cell_type": "markdown",
   "id": "f2854f3c-7dc4-4615-9a85-7d7762fea647",
   "metadata": {},
   "source": [
    "As long as Spark is installed and configured, `TimeGPT` will be able to use it. If executing on a distributed Spark cluster, make use the `nixtlats` library is installed across all the workers."
   ]
  },
  {
   "cell_type": "markdown",
   "id": "743b89bd-6406-4f90-b545-2bd84a8ae62a",
   "metadata": {},
   "source": [
    "## Executing on Spark"
   ]
  },
  {
   "cell_type": "markdown",
   "id": "b18574a5-76f8-4156-8264-9adae43e715d",
   "metadata": {},
   "source": [
    "To run the forecasts distributed on Spark, just pass in a Spark DataFrame instead. "
   ]
  },
  {
   "cell_type": "code",
   "execution_count": null,
   "id": "434c950c-6252-4696-8ea8-2e1bb865847d",
   "metadata": {},
   "outputs": [
    {
     "data": {
      "text/plain": [
       "True"
      ]
     },
     "execution_count": null,
     "metadata": {},
     "output_type": "execute_result"
    }
   ],
   "source": [
    "#| hide\n",
    "import os\n",
    "\n",
    "import pandas as pd\n",
    "from dotenv import load_dotenv\n",
    "\n",
    "load_dotenv()"
   ]
  },
  {
   "cell_type": "markdown",
   "id": "c5b9207c-29d1-4034-8d2e-223abc831cf1",
   "metadata": {},
   "source": [
    "Instantiate `TimeGPT` class."
   ]
  },
  {
   "cell_type": "code",
   "execution_count": null,
   "id": "21bbe459-ed98-4ac1-8da7-2287305b3680",
   "metadata": {},
   "outputs": [],
   "source": [
    "from nixtlats import TimeGPT"
   ]
  },
  {
   "cell_type": "code",
   "execution_count": null,
   "id": "97681b52-4e0e-420d-bcb9-e616dbd3b1b3",
   "metadata": {},
   "outputs": [],
   "source": [
    "timegpt = TimeGPT(\n",
    "    # defaults to os.environ.get(\"TIMEGPT_TOKEN\")\n",
    "    token = 'my_token_provided_by_nixtla'\n",
    ")"
   ]
  },
  {
   "cell_type": "code",
   "execution_count": null,
   "id": "0d1f3709-0f62-424c-a066-41efb1bfa2fe",
   "metadata": {},
   "outputs": [],
   "source": [
    "#| hide\n",
    "timegpt = TimeGPT()"
   ]
  },
  {
   "cell_type": "markdown",
   "id": "357aade9-ffaa-44c6-b9cb-48be7bda71f4",
   "metadata": {},
   "source": [
    "Use Spark as an engine."
   ]
  },
  {
   "cell_type": "code",
   "execution_count": null,
   "id": "a7644af0-f628-46ea-8fb7-474ee2fca39e",
   "metadata": {},
   "outputs": [
    {
     "name": "stderr",
     "output_type": "stream",
     "text": [
      "Setting default log level to \"WARN\".\n",
      "To adjust logging level use sc.setLogLevel(newLevel). For SparkR, use setLogLevel(newLevel).\n",
      "24/04/01 03:35:32 WARN NativeCodeLoader: Unable to load native-hadoop library for your platform... using builtin-java classes where applicable\n"
     ]
    }
   ],
   "source": [
    "from pyspark.sql import SparkSession\n",
    "\n",
    "spark = SparkSession.builder.getOrCreate()"
   ]
  },
  {
   "cell_type": "markdown",
   "id": "395152be-c5c7-46bb-85d8-da739d470834",
   "metadata": {},
   "source": [
    "### Cross validation"
   ]
  },
  {
   "cell_type": "code",
   "execution_count": null,
   "id": "21ac9c73-6644-47be-884c-23a682844e32",
   "metadata": {},
   "outputs": [
    {
     "name": "stderr",
     "output_type": "stream",
     "text": [
      "                                                                                \r"
     ]
    },
    {
     "name": "stdout",
     "output_type": "stream",
     "text": [
      "+---------+-------------------+-----+\n",
      "|unique_id|                 ds|    y|\n",
      "+---------+-------------------+-----+\n",
      "|       BE|2016-12-01 00:00:00| 72.0|\n",
      "|       BE|2016-12-01 01:00:00| 65.8|\n",
      "|       BE|2016-12-01 02:00:00|59.99|\n",
      "|       BE|2016-12-01 03:00:00|50.69|\n",
      "|       BE|2016-12-01 04:00:00|52.58|\n",
      "+---------+-------------------+-----+\n",
      "only showing top 5 rows\n",
      "\n"
     ]
    }
   ],
   "source": [
    "url_df = 'https://raw.githubusercontent.com/Nixtla/transfer-learning-time-series/main/datasets/electricity-short.csv'\n",
    "spark_df = spark.createDataFrame(pd.read_csv(url_df))\n",
    "spark_df.show(5)"
   ]
  },
  {
   "cell_type": "code",
   "execution_count": null,
   "id": "305167a0-1984-4004-aea3-b97402832491",
   "metadata": {},
   "outputs": [
    {
     "name": "stderr",
     "output_type": "stream",
     "text": [
      "INFO:nixtlats.timegpt:Validating inputs...\n",
      "INFO:nixtlats.timegpt:Inferred freq: H\n",
      "INFO:nixtlats.timegpt:Validating inputs...\n",
      "INFO:nixtlats.timegpt:Preprocessing dataframes...\n",
      "INFO:nixtlats.timegpt:Inferred freq: H\n",
      "INFO:nixtlats.timegpt:Calling Forecast Endpoint...\n",
      "INFO:nixtlats.timegpt:Validating inputs...\n",
      "INFO:nixtlats.timegpt:Validating inputs...\n",
      "INFO:nixtlats.timegpt:Preprocessing dataframes...\n",
      "INFO:nixtlats.timegpt:Inferred freq: H\n",
      "INFO:nixtlats.timegpt:Calling Forecast Endpoint...\n",
      "INFO:nixtlats.timegpt:Validating inputs...\n",
      "INFO:nixtlats.timegpt:Validating inputs...\n",
      "INFO:nixtlats.timegpt:Preprocessing dataframes...\n",
      "INFO:nixtlats.timegpt:Inferred freq: H\n",
      "INFO:nixtlats.timegpt:Calling Forecast Endpoint...\n",
      "INFO:nixtlats.timegpt:Validating inputs...\n",
      "INFO:nixtlats.timegpt:Validating inputs...\n",
      "INFO:nixtlats.timegpt:Preprocessing dataframes...\n",
      "INFO:nixtlats.timegpt:Inferred freq: H\n",
      "INFO:nixtlats.timegpt:Calling Forecast Endpoint...\n",
      "INFO:nixtlats.timegpt:Validating inputs...\n",
      "INFO:nixtlats.timegpt:Validating inputs...\n",
      "INFO:nixtlats.timegpt:Preprocessing dataframes...\n",
      "INFO:nixtlats.timegpt:Inferred freq: H\n",
      "INFO:nixtlats.timegpt:Calling Forecast Endpoint...\n"
     ]
    },
    {
     "name": "stdout",
     "output_type": "stream",
     "text": [
      "+---------+-------------------+-------------------+------------------+\n",
      "|unique_id|                 ds|             cutoff|           TimeGPT|\n",
      "+---------+-------------------+-------------------+------------------+\n",
      "|       FR|2016-12-30 04:00:00|2016-12-30 03:00:00| 44.89374542236328|\n",
      "|       FR|2016-12-30 05:00:00|2016-12-30 03:00:00| 46.05792999267578|\n",
      "|       FR|2016-12-30 06:00:00|2016-12-30 03:00:00|48.790077209472656|\n",
      "|       FR|2016-12-30 07:00:00|2016-12-30 03:00:00| 54.39702606201172|\n",
      "|       FR|2016-12-30 08:00:00|2016-12-30 03:00:00| 57.59300231933594|\n",
      "+---------+-------------------+-------------------+------------------+\n",
      "only showing top 5 rows\n",
      "\n"
     ]
    },
    {
     "name": "stderr",
     "output_type": "stream",
     "text": [
      "INFO:nixtlats.timegpt:Validating inputs...\n",
      "                                                                                \r"
     ]
    }
   ],
   "source": [
    "fcst_df = timegpt.cross_validation(spark_df, h=12, n_windows=5, step_size=2)\n",
    "fcst_df.show(5)"
   ]
  },
  {
   "cell_type": "markdown",
   "id": "2008fbf0-9bd2-4974-904b-bb8dc90876e6",
   "metadata": {},
   "source": [
    "### Cross validation with exogenous variables"
   ]
  },
  {
   "cell_type": "markdown",
   "id": "1d281c8d-3a5c-4b3e-8468-7699ef44933b",
   "metadata": {},
   "source": [
    "Exogenous variables or external factors are crucial in time series forecasting as they provide additional information that might influence the prediction. These variables could include holiday markers, marketing spending, weather data, or any other external data that correlate with the time series data you are forecasting.\n",
    "\n",
    "For example, if you're forecasting ice cream sales, temperature data could serve as a useful exogenous variable. On hotter days, ice cream sales may increase.\n",
    "\n",
    "To incorporate exogenous variables in TimeGPT, you'll need to pair each point in your time series data with the corresponding external data.\n",
    "\n",
    "Let's see an example."
   ]
  },
  {
   "cell_type": "code",
   "execution_count": null,
   "id": "8b0d7fd4-5d69-4b6e-b065-efeba63f5911",
   "metadata": {},
   "outputs": [
    {
     "name": "stdout",
     "output_type": "stream",
     "text": [
      "+---------+-------------------+-----+----------+----------+-----+-----+-----+-----+-----+-----+-----+\n",
      "|unique_id|                 ds|    y|Exogenous1|Exogenous2|day_0|day_1|day_2|day_3|day_4|day_5|day_6|\n",
      "+---------+-------------------+-----+----------+----------+-----+-----+-----+-----+-----+-----+-----+\n",
      "|       BE|2016-12-01 00:00:00| 72.0|   61507.0|   71066.0|  0.0|  0.0|  0.0|  1.0|  0.0|  0.0|  0.0|\n",
      "|       BE|2016-12-01 01:00:00| 65.8|   59528.0|   67311.0|  0.0|  0.0|  0.0|  1.0|  0.0|  0.0|  0.0|\n",
      "|       BE|2016-12-01 02:00:00|59.99|   58812.0|   67470.0|  0.0|  0.0|  0.0|  1.0|  0.0|  0.0|  0.0|\n",
      "|       BE|2016-12-01 03:00:00|50.69|   57676.0|   64529.0|  0.0|  0.0|  0.0|  1.0|  0.0|  0.0|  0.0|\n",
      "|       BE|2016-12-01 04:00:00|52.58|   56804.0|   62773.0|  0.0|  0.0|  0.0|  1.0|  0.0|  0.0|  0.0|\n",
      "+---------+-------------------+-----+----------+----------+-----+-----+-----+-----+-----+-----+-----+\n",
      "only showing top 5 rows\n",
      "\n"
     ]
    }
   ],
   "source": [
    "df = pd.read_csv('https://raw.githubusercontent.com/Nixtla/transfer-learning-time-series/main/datasets/electricity-short-with-ex-vars.csv')\n",
    "spark_df = spark.createDataFrame(df)\n",
    "spark_df.show(5)"
   ]
  },
  {
   "cell_type": "markdown",
   "id": "66ec94e4-98c5-48ee-ad2f-d6996e82b758",
   "metadata": {},
   "source": [
    "Let's call the `cross_validation` method, adding this information:"
   ]
  },
  {
   "cell_type": "code",
   "execution_count": null,
   "id": "b3c51169-3561-4d00-adba-fd6e49ab6c24",
   "metadata": {},
   "outputs": [
    {
     "name": "stderr",
     "output_type": "stream",
     "text": [
      "INFO:nixtlats.timegpt:Validating inputs...\n",
      "INFO:nixtlats.timegpt:Inferred freq: H\n",
      "INFO:nixtlats.timegpt:Validating inputs...\n",
      "INFO:nixtlats.timegpt:Preprocessing dataframes...\n",
      "INFO:nixtlats.timegpt:Inferred freq: H\n",
      "WARNING:nixtlats.timegpt:The specified horizon \"h\" exceeds the model horizon. This may lead to less accurate forecasts. Please consider using a smaller horizon.\n",
      "INFO:nixtlats.timegpt:Using the following exogenous variables: Exogenous1, Exogenous2, day_0, day_1, day_2, day_3, day_4, day_5, day_6\n",
      "INFO:nixtlats.timegpt:Calling Forecast Endpoint...\n",
      "INFO:nixtlats.timegpt:Validating inputs...\n",
      "INFO:nixtlats.timegpt:Validating inputs...\n",
      "INFO:nixtlats.timegpt:Preprocessing dataframes...\n",
      "INFO:nixtlats.timegpt:Inferred freq: H\n",
      "WARNING:nixtlats.timegpt:The specified horizon \"h\" exceeds the model horizon. This may lead to less accurate forecasts. Please consider using a smaller horizon.\n",
      "INFO:nixtlats.timegpt:Using the following exogenous variables: Exogenous1, Exogenous2, day_0, day_1, day_2, day_3, day_4, day_5, day_6\n",
      "INFO:nixtlats.timegpt:Calling Forecast Endpoint...\n",
      "INFO:nixtlats.timegpt:Validating inputs...\n",
      "INFO:nixtlats.timegpt:Validating inputs...\n",
      "INFO:nixtlats.timegpt:Preprocessing dataframes...\n",
      "INFO:nixtlats.timegpt:Inferred freq: H\n",
      "WARNING:nixtlats.timegpt:The specified horizon \"h\" exceeds the model horizon. This may lead to less accurate forecasts. Please consider using a smaller horizon.\n",
      "INFO:nixtlats.timegpt:Using the following exogenous variables: Exogenous1, Exogenous2, day_0, day_1, day_2, day_3, day_4, day_5, day_6\n",
      "INFO:nixtlats.timegpt:Calling Forecast Endpoint...\n",
      "INFO:nixtlats.timegpt:Validating inputs...\n",
      "INFO:nixtlats.timegpt:Validating inputs...\n",
      "INFO:nixtlats.timegpt:Preprocessing dataframes...\n",
      "INFO:nixtlats.timegpt:Inferred freq: H\n",
      "WARNING:nixtlats.timegpt:The specified horizon \"h\" exceeds the model horizon. This may lead to less accurate forecasts. Please consider using a smaller horizon.\n",
      "INFO:nixtlats.timegpt:Using the following exogenous variables: Exogenous1, Exogenous2, day_0, day_1, day_2, day_3, day_4, day_5, day_6\n",
      "INFO:nixtlats.timegpt:Calling Forecast Endpoint...\n",
      "INFO:nixtlats.timegpt:Validating inputs...\n",
      "INFO:nixtlats.timegpt:Validating inputs...\n",
      "INFO:nixtlats.timegpt:Preprocessing dataframes...\n",
      "INFO:nixtlats.timegpt:Inferred freq: H\n",
      "WARNING:nixtlats.timegpt:The specified horizon \"h\" exceeds the model horizon. This may lead to less accurate forecasts. Please consider using a smaller horizon.\n",
      "INFO:nixtlats.timegpt:Using the following exogenous variables: Exogenous1, Exogenous2, day_0, day_1, day_2, day_3, day_4, day_5, day_6\n",
      "INFO:nixtlats.timegpt:Calling Forecast Endpoint...\n"
     ]
    },
    {
     "name": "stdout",
     "output_type": "stream",
     "text": [
      "+---------+-------------------+-------------------+------------------+------------------+-----------------+------------------+------------------+\n",
      "|unique_id|                 ds|             cutoff|           TimeGPT|     TimeGPT-lo-90|    TimeGPT-lo-80|     TimeGPT-hi-80|     TimeGPT-hi-90|\n",
      "+---------+-------------------+-------------------+------------------+------------------+-----------------+------------------+------------------+\n",
      "|       FR|2016-12-21 00:00:00|2016-12-20 23:00:00| 66.39748296460945| 62.03776876172859|63.28946471509773| 69.50550121412117|  70.7571971674903|\n",
      "|       FR|2016-12-21 01:00:00|2016-12-20 23:00:00| 63.71841894125738|59.770956050632385|61.16832944845953| 66.26850843405524| 67.66588183188237|\n",
      "|       FR|2016-12-21 02:00:00|2016-12-20 23:00:00| 61.13784444132001| 58.88184931650312| 59.5156742600456|62.760014622594426|63.393839566136904|\n",
      "|       FR|2016-12-21 03:00:00|2016-12-20 23:00:00| 55.77490648975175|53.047358607671676|53.22071413745683|58.329098842046676|58.502454371831824|\n",
      "|       FR|2016-12-21 04:00:00|2016-12-20 23:00:00|48.803786601770284| 44.10176355336941|44.58027990316188| 53.02729330037869| 53.50580965017116|\n",
      "+---------+-------------------+-------------------+------------------+------------------+-----------------+------------------+------------------+\n",
      "only showing top 5 rows\n",
      "\n"
     ]
    },
    {
     "name": "stderr",
     "output_type": "stream",
     "text": [
      "INFO:nixtlats.timegpt:Validating inputs...\n",
      "                                                                                \r"
     ]
    }
   ],
   "source": [
    "timegpt_cv_ex_vars_df = timegpt.cross_validation(\n",
    "    df=spark_df,\n",
    "    h=48, \n",
    "    level=[80, 90],\n",
    "    n_windows=5,\n",
    ")\n",
    "timegpt_cv_ex_vars_df.show(5)"
   ]
  },
  {
   "cell_type": "code",
   "execution_count": null,
   "id": "6223e936-426a-4e64-9f35-7fcfce3eca08",
   "metadata": {},
   "outputs": [],
   "source": [
    "spark.stop()"
   ]
  }
 ],
 "metadata": {
  "kernelspec": {
   "display_name": "python3",
   "language": "python",
   "name": "python3"
  }
 },
 "nbformat": 4,
 "nbformat_minor": 5
}
