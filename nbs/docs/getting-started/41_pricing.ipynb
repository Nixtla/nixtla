{
 "cells": [
  {
   "cell_type": "markdown",
   "metadata": {},
   "source": [
    "# Pricing information\n",
    "\n",
    "TimeGPT is a fixed price per month, so you can plan for your forecasting needs. We have plans if you use TimeGPT a lot or a little and with different levels of support. Our goal is to help you be successful with your forecasting!\n",
    "\n",
    "TimeGPT is available through our API as TimeGPT Subscription Plans and is also available on Azure Models as a Service as TimeGEN-1. Your TimeGPT or TimeGEN subscriptions let you generate an API key and use those keys to make a certain number of calls to the model. \n",
    "\n",
    "[Sign up](https://dashboard.nixtla.io/), generate your API key, and you’re ready to start forecasting!"
   ]
  },
  {
   "cell_type": "markdown",
   "metadata": {},
   "source": [
    "- [TimeGPT pricing](#timegpt-subscription-plans)\n",
    "- [TimeGEN on Microsoft Azure pricing](#timegen)"
   ]
  },
  {
   "cell_type": "markdown",
   "metadata": {},
   "source": [
    "## TimeGPT Subscription Plans and Pricing \n",
    "\n",
    "To get started with your TimeGPT subscription go to [dashboard.nixtla.io](https://dashboard.nixtla.io/). "
   ]
  },
  {
   "cell_type": "markdown",
   "metadata": {},
   "source": [
    "### Free trial\n",
    "\n",
    "When you first create your account, you will have a 30-day free trial of the Standard Plan.  **No credit card required**. After 30 days your plan will automatically switch to our free Starter Plan with 50 API calls/month unless you subscribe to one of our paid plans.\n",
    "\n",
    "#### Subscription plans\n",
    "- **Starter plan:** $0/month (free!) for up to 50 API calls/month, 3 business day support\n",
    "- **Standard plan:** $99/month for up to 10,000 API calls/month, 1 business day support and early access to new releases and features. $9.90 / 1K calls.\n",
    "- **Premium plan:** $399/month for up to 100,000 API calls/month, premium support and forecasting guidance and early access to new features and releases $3.99 / 1K calls.\n",
    "- **Enterprise:** Please get in touch with us at [support@nixtla.io](mailto:support@nixtla.io) if you have other forecasting needs or are interested in our enterprise self-hosted option."
   ]
  },
  {
   "cell_type": "markdown",
   "metadata": {},
   "source": [
    "## TimeGPT subscription plans\n",
    "\n",
    "|   | Starter  | Standard | Premium | Enterprise |\n",
    "|:---:|:---:|:---:|:---:|:---:|\n",
    "| Number of API calls  | 50 calls/month | 10,000 calls/month ($9.90/1K calls) | 100,000 calls/month ($3.99/1K calls) | customizable |\n",
    "| Support  | 3 business day responses | 1 business day responses  | premium support  | customizable |\n",
    "| Consulting with our forecasting experts |  | Initial consulting call | 2 consulting calls/month  | customizable |\n",
    "| Models and features early access  |   | X  | X  | X  |\n"
   ]
  },
  {
   "cell_type": "markdown",
   "metadata": {},
   "source": [
    "## Azure TimeGEN-1 Pricing\n",
    "\n",
    "TimeGEN-1 is TimeGPT optimized for the Azure infrastructure. You can access TimeGEN through Azure Models as a Service. Explore the model in the playground. Pay only for tokens consumed.\n",
    "\n",
    "**Pricing on Azure is handled through Microsoft payment systems.**\n",
    "\n",
    "Use this spreadsheet to estimate how many tokens you will need for your use case."
   ]
  },
  {
   "cell_type": "markdown",
   "metadata": {},
   "source": [
    "**Pricing per token**\n",
    "\n",
    "| Token type | cost per 1000 tokens |\n",
    "|---|:---:|\n",
    "| **paygo-inference-input-tokens** | $0.00013 |\n",
    "| **paygo-inference-output-tokens** | $0.00038 |\n",
    "| **paygo-finetuned-model-inference-output-tokens** | $0.00105 |\n",
    "| **paygo-finetuned-model-inference-input tokens** | $0.00035 |"
   ]
  },
  {
   "cell_type": "markdown",
   "metadata": {},
   "source": [
    "## Self-hosted\n",
    "\n",
    "We have a self-hosted version available for Enterprise customers. Please contact us at support@nixtla.io to talk with us about this option. "
   ]
  },
  {
   "cell_type": "markdown",
   "metadata": {},
   "source": [
    "## More information on pricing and billing\n",
    "\n",
    "For additional information on pricing and billing please see [our FAQ](https://docs.nixtla.io/docs/getting-started-faq#pricing-and-billing). "
   ]
  }
 ],
 "metadata": {
  "kernelspec": {
   "display_name": "python3",
   "language": "python",
   "name": "python3"
  }
 },
 "nbformat": 4,
 "nbformat_minor": 4
}
