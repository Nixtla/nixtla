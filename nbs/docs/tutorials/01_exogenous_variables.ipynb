{
 "cells": [
  {
   "cell_type": "code",
   "execution_count": null,
   "id": "0edb5df1",
   "metadata": {},
   "outputs": [],
   "source": [
    "#|hide\n",
    "#| eval: false\n",
    "%pip install -Uqq nixtla"
   ]
  },
  {
   "cell_type": "code",
   "execution_count": null,
   "id": "81059425",
   "metadata": {},
   "outputs": [],
   "source": [
    "#| hide \n",
    "from nixtla.utils import in_colab"
   ]
  },
  {
   "cell_type": "code",
   "execution_count": null,
   "id": "b97694a6",
   "metadata": {},
   "outputs": [],
   "source": [
    "IN_COLAB = in_colab()"
   ]
  },
  {
   "cell_type": "code",
   "execution_count": null,
   "id": "44ec954b-63b3-4236-86a5-5a2cd86de934",
   "metadata": {},
   "outputs": [],
   "source": [
    "#| hide\n",
    "if not IN_COLAB:\n",
    "    from nixtla.utils import colab_badge\n",
    "    from dotenv import load_dotenv"
   ]
  },
  {
   "cell_type": "markdown",
   "id": "24c899f2-78c1-43b2-8347-3164e3549c3f",
   "metadata": {},
   "source": [
    "# Exogenous variables"
   ]
  },
  {
   "cell_type": "markdown",
   "id": "a81fc39a-c6a0-485d-a3f3-c3a6298928a6",
   "metadata": {},
   "source": [
    "Exogenous variables or external factors are crucial in time series forecasting as they provide additional information that might influence the prediction. These variables could include holiday markers, marketing spending, weather data, or any other external data that correlate with the time series data you are forecasting.\n",
    "\n",
    "For example, if you're forecasting ice cream sales, temperature data could serve as a useful exogenous variable. On hotter days, ice cream sales may increase.\n",
    "\n",
    "To incorporate exogenous variables in TimeGPT, you'll need to pair each point in your time series data with the corresponding external data."
   ]
  },
  {
   "cell_type": "code",
   "execution_count": null,
   "id": "0bc1e229-6c80-463f-b721-465a48fbddf1",
   "metadata": {},
   "outputs": [],
   "source": [
    "#| echo: false\n",
    "if not IN_COLAB:\n",
    "    load_dotenv()\n",
    "    colab_badge('docs/tutorials/01_exogenous_variables')"
   ]
  },
  {
   "cell_type": "markdown",
   "id": "bfa2ede9",
   "metadata": {},
   "source": [
    "## 1. Import packages\n",
    "First, we import the required packages and initialize the Nixtla client."
   ]
  },
  {
   "cell_type": "code",
   "execution_count": null,
   "id": "a84a0f65-e084-4e65-a0fb-d27c184dde44",
   "metadata": {},
   "outputs": [],
   "source": [
    "import pandas as pd\n",
    "from nixtla import NixtlaClient"
   ]
  },
  {
   "cell_type": "code",
   "execution_count": null,
   "id": "469d474a-c427-427c-a127-d140aeba0354",
   "metadata": {},
   "outputs": [],
   "source": [
    "nixtla_client = NixtlaClient(\n",
    "    # defaults to os.environ.get(\"NIXTLA_API_KEY\")\n",
    "    api_key = 'my_api_key_provided_by_nixtla'\n",
    ")"
   ]
  },
  {
   "cell_type": "code",
   "execution_count": null,
   "id": "ced2bba4-089d-4733-9613-33a16cad622b",
   "metadata": {},
   "outputs": [],
   "source": [
    "#| hide\n",
    "if not IN_COLAB:\n",
    "    nixtla_client = NixtlaClient()"
   ]
  },
  {
   "cell_type": "markdown",
   "id": "054c3cad",
   "metadata": {},
   "source": [
    "## 2. Load data"
   ]
  },
  {
   "cell_type": "markdown",
   "id": "bc2bb3db-00e6-44e6-8dc3-a2e0eba7e295",
   "metadata": {},
   "source": [
    "Let's see an example on predicting day-ahead electricity prices. The following dataset contains the hourly electricity price (`y` column) for five markets in Europe and US, identified by the `unique_id` column. The columns from `Exogenous1` to `day_6` are exogenous variables that TimeGPT will use to predict the prices."
   ]
  },
  {
   "cell_type": "code",
   "execution_count": null,
   "id": "2fec19dc-48dd-4337-8678-fe3753b5eb30",
   "metadata": {},
   "outputs": [],
   "source": [
    "df = pd.read_csv('https://raw.githubusercontent.com/Nixtla/transfer-learning-time-series/main/datasets/electricity-short-with-ex-vars.csv')\n",
    "df.head()"
   ]
  },
  {
   "cell_type": "markdown",
   "id": "b8f00038",
   "metadata": {},
   "source": [
    "## 3. Forecasting electricity prices using exogenous variables"
   ]
  },
  {
   "cell_type": "markdown",
   "id": "eed41a2f-67ce-4812-8073-18b271b1592d",
   "metadata": {},
   "source": [
    "To produce forecasts we also have to add the future values of the exogenous variables. Let's read this dataset. In this case, we want to predict 24 steps ahead, therefore each `unique_id` will have 24 observations.\n",
    "\n",
    "::: {.callout-important}\n",
    "If you want to use exogenous variables when forecasting with TimeGPT, you need to have the future values of those exogenous variables too.\n",
    "::: "
   ]
  },
  {
   "cell_type": "code",
   "execution_count": null,
   "id": "95c03577-25f3-479f-a76e-fd5e4632da96",
   "metadata": {},
   "outputs": [],
   "source": [
    "future_ex_vars_df = pd.read_csv('https://raw.githubusercontent.com/Nixtla/transfer-learning-time-series/main/datasets/electricity-short-future-ex-vars.csv')\n",
    "future_ex_vars_df.head()"
   ]
  },
  {
   "cell_type": "markdown",
   "id": "99f1e41d-e5bf-4d01-aa68-1a7a7fbb579b",
   "metadata": {},
   "source": [
    "Let's call the `forecast` method, adding this information:"
   ]
  },
  {
   "cell_type": "code",
   "execution_count": null,
   "id": "d252a0e0-f393-4957-8173-230972fc7a40",
   "metadata": {},
   "outputs": [],
   "source": [
    "timegpt_fcst_ex_vars_df = nixtla_client.forecast(df=df, X_df=future_ex_vars_df, h=24, level=[80, 90])\n",
    "timegpt_fcst_ex_vars_df.head()"
   ]
  },
  {
   "cell_type": "code",
   "execution_count": null,
   "id": "18f36e5c-f41f-4888-b279-97558b71c1bf",
   "metadata": {},
   "outputs": [],
   "source": [
    "nixtla_client.plot(\n",
    "    df[['unique_id', 'ds', 'y']], \n",
    "    timegpt_fcst_ex_vars_df, \n",
    "    max_insample_length=365, \n",
    "    level=[80, 90], \n",
    ")"
   ]
  },
  {
   "cell_type": "markdown",
   "id": "e945ad3c-63fd-4e51-9815-336306f60463",
   "metadata": {},
   "source": [
    "We can also show the importance of the features."
   ]
  },
  {
   "cell_type": "code",
   "execution_count": null,
   "id": "ef1c9df3-eff2-4984-a88f-00274b21b3cd",
   "metadata": {},
   "outputs": [],
   "source": [
    "nixtla_client.weights_x.plot.barh(x='features', y='weights')"
   ]
  },
  {
   "cell_type": "markdown",
   "id": "80c432bd",
   "metadata": {},
   "source": [
    "This plot shows that `Exogenous1` and `Exogenous2` are the most important for this forecasting task, as they have the largest weight."
   ]
  },
  {
   "cell_type": "markdown",
   "id": "38cd05d6",
   "metadata": {},
   "source": [
    "## 4. How to generate future exogenous variables?"
   ]
  },
  {
   "cell_type": "markdown",
   "id": "b4b6b0e4",
   "metadata": {},
   "source": [
    "In the example above, we just loaded the future exogenous variables. Often, these are not available because these variables are unknown. Hence, we need to forecast these too. \n",
    "\n",
    "::: {.callout-important}\n",
    "If you would only include historic exogenous variables in your model, you would be _implicitly_ making assumptions about the future of these exogenous variables in your forecast. That's why TimeGPT requires you to explicitly incorporate the future of these exogenous variables too, so that you make your assumptions about these variables _explicit_.\n",
    "::: \n",
    "\n",
    "Below, we'll show you how we can also forecast `Exogenous1` and `Exogenous2` separately, so that you can generate the future exogenous variables in case they are not available."
   ]
  },
  {
   "cell_type": "code",
   "execution_count": null,
   "id": "ce9a9bce",
   "metadata": {},
   "outputs": [],
   "source": [
    "# We read the data and create separate dataframes for the historic exogenous that we want to forecast separately.\n",
    "df = pd.read_csv('https://raw.githubusercontent.com/Nixtla/transfer-learning-time-series/main/datasets/electricity-short-with-ex-vars.csv')\n",
    "df_exog1 = df[['unique_id', 'ds', 'Exogenous1']]\n",
    "df_exog2 = df[['unique_id', 'ds', 'Exogenous2']]"
   ]
  },
  {
   "cell_type": "markdown",
   "id": "2b5abf7f",
   "metadata": {},
   "source": [
    "Next, we can use TimeGPT to forecast `Exogenous1` and `Exogenous2`. In this case, we assume these quantities can be separately forecast."
   ]
  },
  {
   "cell_type": "code",
   "execution_count": null,
   "id": "91eaa3f6",
   "metadata": {},
   "outputs": [],
   "source": [
    "timegpt_fcst_ex1 = nixtla_client.forecast(df=df_exog1, h=24, target_col='Exogenous1')\n",
    "timegpt_fcst_ex2 = nixtla_client.forecast(df=df_exog2, h=24, target_col='Exogenous2')"
   ]
  },
  {
   "cell_type": "markdown",
   "id": "44b4b4fd",
   "metadata": {},
   "source": [
    "We can now start creating `X_df`, which contains the future exogenous variables."
   ]
  },
  {
   "cell_type": "code",
   "execution_count": null,
   "id": "53cfe8e9",
   "metadata": {},
   "outputs": [],
   "source": [
    "timegpt_fcst_ex1 = timegpt_fcst_ex1.rename(columns={'TimeGPT':'Exogenous1'})\n",
    "timegpt_fcst_ex2 = timegpt_fcst_ex2.rename(columns={'TimeGPT':'Exogenous2'})"
   ]
  },
  {
   "cell_type": "code",
   "execution_count": null,
   "id": "f62cec4a",
   "metadata": {},
   "outputs": [],
   "source": [
    "X_df = timegpt_fcst_ex1.merge(timegpt_fcst_ex2)"
   ]
  },
  {
   "cell_type": "markdown",
   "id": "697fc8e4",
   "metadata": {},
   "source": [
    "Next, we also need to add the `day_0` to `day_6` future exogenous variables. These are easy: this is just the weekday, which we can extract from the `ds` column."
   ]
  },
  {
   "cell_type": "code",
   "execution_count": null,
   "id": "322e0197",
   "metadata": {},
   "outputs": [],
   "source": [
    "# We have 7 days, for each day a separate column denoting 1/0\n",
    "for i in range(7):\n",
    "    X_df[f'day_{i}'] = 1 * (pd.to_datetime(X_df['ds']).dt.weekday == i)\n",
    "    "
   ]
  },
  {
   "cell_type": "markdown",
   "id": "f8113866",
   "metadata": {},
   "source": [
    "We have now created `X_df`, let's investigate it:"
   ]
  },
  {
   "cell_type": "code",
   "execution_count": null,
   "id": "38ef56b7",
   "metadata": {},
   "outputs": [],
   "source": [
    "X_df.head(10)"
   ]
  },
  {
   "cell_type": "markdown",
   "id": "ac313e02",
   "metadata": {},
   "source": [
    "Let's compare it to our pre-loaded version:"
   ]
  },
  {
   "cell_type": "code",
   "execution_count": null,
   "id": "f2a0f524",
   "metadata": {},
   "outputs": [],
   "source": [
    "future_ex_vars_df.head(10)"
   ]
  },
  {
   "cell_type": "markdown",
   "id": "716d3d38",
   "metadata": {},
   "source": [
    "As you can see, the values for `Exogenous1` and `Exogenous2` are slightly different, which makes sense because we've made a forecast of these values with TimeGPT."
   ]
  },
  {
   "cell_type": "markdown",
   "id": "f78ab3ff",
   "metadata": {},
   "source": [
    "Let's create a new forecast of our electricity prices with TimeGPT using our new `X_df`:"
   ]
  },
  {
   "cell_type": "code",
   "execution_count": null,
   "id": "a104659d",
   "metadata": {},
   "outputs": [],
   "source": [
    "timegpt_fcst_ex_vars_df_new = nixtla_client.forecast(df=df, X_df=X_df, h=24, level=[80, 90])\n",
    "timegpt_fcst_ex_vars_df_new.head()"
   ]
  },
  {
   "cell_type": "markdown",
   "id": "b2ba53a1",
   "metadata": {},
   "source": [
    "Let's create a combined dataframe with the two forecasts and plot the values to compare the forecasts."
   ]
  },
  {
   "cell_type": "code",
   "execution_count": null,
   "id": "62f20711",
   "metadata": {},
   "outputs": [],
   "source": [
    "timegpt_fcst_ex_vars_df = timegpt_fcst_ex_vars_df.rename(columns={'TimeGPT':'TimeGPT-provided_exogenous'})\n",
    "timegpt_fcst_ex_vars_df_new = timegpt_fcst_ex_vars_df_new.rename(columns={'TimeGPT':'TimeGPT-forecasted_exogenous'})\n",
    "\n",
    "forecasts = timegpt_fcst_ex_vars_df[['unique_id', 'ds', 'TimeGPT-provided_exogenous']].merge(timegpt_fcst_ex_vars_df_new[['unique_id', 'ds', 'TimeGPT-forecasted_exogenous']])"
   ]
  },
  {
   "cell_type": "code",
   "execution_count": null,
   "id": "54fcf5cd",
   "metadata": {},
   "outputs": [],
   "source": [
    "nixtla_client.plot(\n",
    "    df[['unique_id', 'ds', 'y']], \n",
    "    forecasts, \n",
    "    max_insample_length=365, \n",
    ")"
   ]
  },
  {
   "cell_type": "markdown",
   "id": "019c6510",
   "metadata": {},
   "source": [
    "As you can see, we obtain a slightly different forecast if we use our forecasted exogenous variables. "
   ]
  }
 ],
 "metadata": {
  "kernelspec": {
   "display_name": "python3",
   "language": "python",
   "name": "python3"
  }
 },
 "nbformat": 4,
 "nbformat_minor": 5
}
