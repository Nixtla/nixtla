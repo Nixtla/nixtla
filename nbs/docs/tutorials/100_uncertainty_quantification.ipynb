{
 "cells": [
  {
   "cell_type": "markdown",
   "id": "6de758ee-a0d2-4b3f-acff-eed419dd17c5",
   "metadata": {},
   "source": [
    "# Uncertainty quantification\n",
    "\n",
    "In forecasting, it is essential to consider the full distribution of predictions rather than only a point prediction. This approach allows for a better understanding of the uncertainty surrounding the forecast. `TimeGPT` supports uncertainty quantification through quantile forecasts and prediction intervals.\n",
    "\n",
    "### What You Will Learn\n",
    "\n",
    "1. **[Quantile Forecasts](https://docs.nixtla.io/docs/tutorials-quantile_forecasts)**\n",
    "\n",
    "    - Learn how to compute specific quantiles of the forecast distribution using `TimeGPT`. \n",
    "\n",
    "2. **[Prediction Intervals](https://docs.nixtla.io/docs/tutorials-prediction_intervals)**\n",
    "\n",
    "    - Learn how to generate prediction intervals with `TimeGPT`, which give you a range of values that the forecast can take with a given probability. \n"
   ]
  }
 ],
 "metadata": {
  "kernelspec": {
   "display_name": "python3",
   "language": "python",
   "name": "python3"
  }
 },
 "nbformat": 4,
 "nbformat_minor": 5
}
