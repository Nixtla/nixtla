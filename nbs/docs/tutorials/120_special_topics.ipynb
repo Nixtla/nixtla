{
 "cells": [
  {
   "cell_type": "markdown",
   "id": "6de758ee-a0d2-4b3f-acff-eed419dd17c5",
   "metadata": {},
   "source": [
    "# Special topics"
   ]
  },
  {
   "cell_type": "markdown",
   "id": "5d267032-535b-4b7b-b7d3-d2db8f673af6",
   "metadata": {},
   "source": [
    "`TimeGPT` is a robust foundation model for time series forecasting, with advanced capabilities such as hierarchical and bounded forecasts. To fully leverage the power of `TimeGPT`, there are specific situations that require special consideration, such as dealing with irregular timestamps or handling datasets with missing values.\n",
    "\n",
    "In this section, we will cover these special topics.\n",
    "\n",
    "### What You Will Learn\n",
    "\n",
    "1. **[Irregular Timestamps](https://docs.nixtla.io/docs/tutorials-irregular_timestamps)**\n",
    "\n",
    "    - Learn how to deal with irregular timestamps for correct usage of `TimeGPT`.\n",
    "\n",
    "2. **[Bounded Forecasts](https://docs.nixtla.io/docs/tutorials-bounded_forecasts)**\n",
    "\n",
    "    - Explore `TimeGPT`'s capability to make forecasts within a specified range, ideal for applications where outcomes are bounded.\n",
    "\n",
    "3. **[Hierarchical Forecasts](https://docs.nixtla.io/docs/tutorials-hierarchical_forecasting)**\n",
    "\n",
    "    - Understand how to use `TimeGPT` to make coherent predictions at various levels of aggregation.\n",
    "\n",
    "4. **[Missing Values](https://docs.nixtla.io/docs/tutorials-missing_values)**\n",
    "\n",
    "    - Learn how to address missing values within your time series data effectively using `TimeGPT`."
   ]
  }
 ],
 "metadata": {
  "kernelspec": {
   "display_name": "python3",
   "language": "python",
   "name": "python3"
  }
 },
 "nbformat": 4,
 "nbformat_minor": 5
}
