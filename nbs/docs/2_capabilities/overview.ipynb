{
 "cells": [
  {
   "cell_type": "markdown",
   "id": "6de758ee-a0d2-4b3f-acff-eed419dd17c5",
   "metadata": {},
   "source": [
    "# Capabilities"
   ]
  },
  {
   "cell_type": "markdown",
   "id": "5d267032-535b-4b7b-b7d3-d2db8f673af6",
   "metadata": {},
   "source": [
    "TimeGPT can primarily help you solve two tasks:\n",
    "\n",
    "1) Forecasting\n",
    "2) Anomaly detection\n",
    "\n",
    "Click on the content on the left to discover the capabilities TimeGPT offers for each of these tasks."
   ]
  }
 ],
 "metadata": {
  "kernelspec": {
   "display_name": "python3",
   "language": "python",
   "name": "python3"
  }
 },
 "nbformat": 4,
 "nbformat_minor": 5
}
