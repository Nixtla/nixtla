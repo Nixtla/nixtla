{
 "cells": [
  {
   "cell_type": "markdown",
   "metadata": {},
   "source": [
    "# Utils"
   ]
  },
  {
   "cell_type": "code",
   "execution_count": null,
   "metadata": {},
   "outputs": [],
   "source": [
    "#| default_exp utils"
   ]
  },
  {
   "cell_type": "code",
   "execution_count": null,
   "metadata": {},
   "outputs": [],
   "source": [
    "#| hide \n",
    "%load_ext autoreload\n",
    "%autoreload 2"
   ]
  },
  {
   "cell_type": "code",
   "execution_count": null,
   "metadata": {},
   "outputs": [],
   "source": [
    "#| exporti\n",
    "def colab_badge(path: str):\n",
    "    from IPython.display import Markdown\n",
    "    base_url = \"https://colab.research.google.com/github\"\n",
    "    badge_svg = \"https://colab.research.google.com/assets/colab-badge.svg\"\n",
    "    nb_url = f'{base_url}/Nixtla/nixtla/blob/main/nbs/{path}.ipynb'\n",
    "    badge_md = f\"[![]({badge_svg})]({nb_url})\"\n",
    "    display(Markdown(badge_md))"
   ]
  }
 ],
 "metadata": {
  "kernelspec": {
   "display_name": "python3",
   "language": "python",
   "name": "python3"
  }
 },
 "nbformat": 4,
 "nbformat_minor": 4
}
