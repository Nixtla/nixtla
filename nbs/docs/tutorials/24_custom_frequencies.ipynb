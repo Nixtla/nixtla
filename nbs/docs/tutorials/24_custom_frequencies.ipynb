{
 "cells": [
  {
   "cell_type": "code",
   "execution_count": 1,
   "metadata": {},
   "outputs": [
    {
     "name": "stdout",
     "output_type": "stream",
     "text": [
      "Requirement already satisfied: pandas_market_calendars in /Users/marianamenchero/miniforge3/envs/nixtla/lib/python3.10/site-packages (4.6.0)\n",
      "Requirement already satisfied: pandas>=1.1 in /Users/marianamenchero/miniforge3/envs/nixtla/lib/python3.10/site-packages (from pandas_market_calendars) (2.1.4)\n",
      "Requirement already satisfied: pytz in /Users/marianamenchero/miniforge3/envs/nixtla/lib/python3.10/site-packages (from pandas_market_calendars) (2024.1)\n",
      "Requirement already satisfied: python-dateutil in /Users/marianamenchero/miniforge3/envs/nixtla/lib/python3.10/site-packages (from pandas_market_calendars) (2.9.0)\n",
      "Requirement already satisfied: exchange-calendars>=3.3 in /Users/marianamenchero/miniforge3/envs/nixtla/lib/python3.10/site-packages (from pandas_market_calendars) (4.8)\n",
      "Requirement already satisfied: numpy in /Users/marianamenchero/miniforge3/envs/nixtla/lib/python3.10/site-packages (from exchange-calendars>=3.3->pandas_market_calendars) (1.26.4)\n",
      "Requirement already satisfied: pyluach in /Users/marianamenchero/miniforge3/envs/nixtla/lib/python3.10/site-packages (from exchange-calendars>=3.3->pandas_market_calendars) (2.2.0)\n",
      "Requirement already satisfied: toolz in /Users/marianamenchero/miniforge3/envs/nixtla/lib/python3.10/site-packages (from exchange-calendars>=3.3->pandas_market_calendars) (0.12.1)\n",
      "Requirement already satisfied: tzdata in /Users/marianamenchero/miniforge3/envs/nixtla/lib/python3.10/site-packages (from exchange-calendars>=3.3->pandas_market_calendars) (2024.1)\n",
      "Requirement already satisfied: korean_lunar_calendar in /Users/marianamenchero/miniforge3/envs/nixtla/lib/python3.10/site-packages (from exchange-calendars>=3.3->pandas_market_calendars) (0.3.1)\n",
      "Requirement already satisfied: six>=1.5 in /Users/marianamenchero/miniforge3/envs/nixtla/lib/python3.10/site-packages (from python-dateutil->pandas_market_calendars) (1.16.0)\n"
     ]
    }
   ],
   "source": [
    "#| hide\n",
    "!pip install -Uqq nixtla\n",
    "!pip install pandas_market_calendars"
   ]
  },
  {
   "cell_type": "code",
   "execution_count": 2,
   "metadata": {},
   "outputs": [],
   "source": [
    "#| hide \n",
    "from nixtla.utils import in_colab"
   ]
  },
  {
   "cell_type": "code",
   "execution_count": 3,
   "metadata": {},
   "outputs": [],
   "source": [
    "#| hide \n",
    "IN_COLAB = in_colab()"
   ]
  },
  {
   "cell_type": "code",
   "execution_count": 4,
   "metadata": {},
   "outputs": [],
   "source": [
    "#| hide\n",
    "if not IN_COLAB:\n",
    "    from nixtla.utils import colab_badge\n",
    "    from dotenv import load_dotenv"
   ]
  },
  {
   "cell_type": "markdown",
   "metadata": {},
   "source": [
    "# Custom frequencies \n",
    "\n",
    "When working with time series data, the frequency of the timestamps is a crucial factor that can significantly impact the forecasting results. Regular frequencies like daily, weekly, or monthly are straightforward to handle. However, irregular or custom frquencies can be challenging to work with.\n",
    "\n",
    "Our forecast method is designed to handle these types of time series data, provided that the frequency of the series is specified correctly. In this tutorial, we will show how to work with custom frequencies, such as the days the U.S. stock market is open.\n",
    "\n",
    "## 1. Import packages \n",
    "First, we import the required packages and initialize the Nixtla client"
   ]
  },
  {
   "cell_type": "code",
   "execution_count": 5,
   "metadata": {},
   "outputs": [],
   "source": [
    "import pandas as pd\n",
    "import pandas_market_calendars as mcal\n",
    "from nixtla import NixtlaClient"
   ]
  },
  {
   "cell_type": "code",
   "execution_count": 6,
   "metadata": {},
   "outputs": [],
   "source": [
    "nixtla_client = NixtlaClient(\n",
    "    # defaults to os.environ.get(\"NIXTLA_API_KEY\")\n",
    "    api_key = 'my_api_key_provided_by_nixtla'\n",
    ")"
   ]
  },
  {
   "cell_type": "markdown",
   "metadata": {},
   "source": [
    "> 👍 Use an Azure AI endpoint\n",
    "> \n",
    "> To use an Azure AI endpoint, remember to set also the `base_url` argument:\n",
    "> \n",
    "> `nixtla_client = NixtlaClient(base_url=\"you azure ai endpoint\", api_key=\"your api_key\")`"
   ]
  },
  {
   "cell_type": "code",
   "execution_count": 7,
   "metadata": {},
   "outputs": [],
   "source": [
    "#| hide\n",
    "if not IN_COLAB:\n",
    "    nixtla_client = NixtlaClient()"
   ]
  },
  {
   "cell_type": "markdown",
   "metadata": {},
   "source": [
    "## 2. Load data\n",
    "\n",
    "In this example, we will use the daily stock prices of Palantir technologies (PLTR) from 2020 to 2023. The dataset contains information up to 2023-09-22, but here we will remove everything before 2023-08-28 so that we can show how a custom frequency removes the day the stock market close due to the Labor Day holiday."
   ]
  },
  {
   "cell_type": "code",
   "execution_count": 12,
   "metadata": {},
   "outputs": [
    {
     "data": {
      "text/html": [
       "<div>\n",
       "<style scoped>\n",
       "    .dataframe tbody tr th:only-of-type {\n",
       "        vertical-align: middle;\n",
       "    }\n",
       "\n",
       "    .dataframe tbody tr th {\n",
       "        vertical-align: top;\n",
       "    }\n",
       "\n",
       "    .dataframe thead th {\n",
       "        text-align: right;\n",
       "    }\n",
       "</style>\n",
       "<table border=\"1\" class=\"dataframe\">\n",
       "  <thead>\n",
       "    <tr style=\"text-align: right;\">\n",
       "      <th></th>\n",
       "      <th>date</th>\n",
       "      <th>Open</th>\n",
       "      <th>High</th>\n",
       "      <th>Low</th>\n",
       "      <th>Close</th>\n",
       "      <th>Adj Close</th>\n",
       "      <th>Volume</th>\n",
       "      <th>Dividends</th>\n",
       "      <th>Stock Splits</th>\n",
       "    </tr>\n",
       "  </thead>\n",
       "  <tbody>\n",
       "    <tr>\n",
       "      <th>0</th>\n",
       "      <td>2020-09-30</td>\n",
       "      <td>10.00</td>\n",
       "      <td>11.41</td>\n",
       "      <td>9.11</td>\n",
       "      <td>9.50</td>\n",
       "      <td>9.50</td>\n",
       "      <td>338584400</td>\n",
       "      <td>0.0</td>\n",
       "      <td>0.0</td>\n",
       "    </tr>\n",
       "    <tr>\n",
       "      <th>1</th>\n",
       "      <td>2020-10-01</td>\n",
       "      <td>9.69</td>\n",
       "      <td>10.10</td>\n",
       "      <td>9.23</td>\n",
       "      <td>9.46</td>\n",
       "      <td>9.46</td>\n",
       "      <td>124297600</td>\n",
       "      <td>0.0</td>\n",
       "      <td>0.0</td>\n",
       "    </tr>\n",
       "    <tr>\n",
       "      <th>2</th>\n",
       "      <td>2020-10-02</td>\n",
       "      <td>9.06</td>\n",
       "      <td>9.28</td>\n",
       "      <td>8.94</td>\n",
       "      <td>9.20</td>\n",
       "      <td>9.20</td>\n",
       "      <td>55018300</td>\n",
       "      <td>0.0</td>\n",
       "      <td>0.0</td>\n",
       "    </tr>\n",
       "    <tr>\n",
       "      <th>3</th>\n",
       "      <td>2020-10-05</td>\n",
       "      <td>9.43</td>\n",
       "      <td>9.49</td>\n",
       "      <td>8.92</td>\n",
       "      <td>9.03</td>\n",
       "      <td>9.03</td>\n",
       "      <td>36316900</td>\n",
       "      <td>0.0</td>\n",
       "      <td>0.0</td>\n",
       "    </tr>\n",
       "    <tr>\n",
       "      <th>4</th>\n",
       "      <td>2020-10-06</td>\n",
       "      <td>9.04</td>\n",
       "      <td>10.18</td>\n",
       "      <td>8.90</td>\n",
       "      <td>9.90</td>\n",
       "      <td>9.90</td>\n",
       "      <td>90864000</td>\n",
       "      <td>0.0</td>\n",
       "      <td>0.0</td>\n",
       "    </tr>\n",
       "  </tbody>\n",
       "</table>\n",
       "</div>"
      ],
      "text/plain": [
       "        date   Open   High   Low  Close  Adj Close     Volume  Dividends  \\\n",
       "0 2020-09-30  10.00  11.41  9.11   9.50       9.50  338584400        0.0   \n",
       "1 2020-10-01   9.69  10.10  9.23   9.46       9.46  124297600        0.0   \n",
       "2 2020-10-02   9.06   9.28  8.94   9.20       9.20   55018300        0.0   \n",
       "3 2020-10-05   9.43   9.49  8.92   9.03       9.03   36316900        0.0   \n",
       "4 2020-10-06   9.04  10.18  8.90   9.90       9.90   90864000        0.0   \n",
       "\n",
       "   Stock Splits  \n",
       "0           0.0  \n",
       "1           0.0  \n",
       "2           0.0  \n",
       "3           0.0  \n",
       "4           0.0  "
      ]
     },
     "execution_count": 12,
     "metadata": {},
     "output_type": "execute_result"
    }
   ],
   "source": [
    "\n",
    "pltr_df = pd.read_csv('https://raw.githubusercontent.com/Nixtla/transfer-learning-time-series/main/datasets/openbb/pltr.csv', parse_dates=['date'])\n",
    "pltr_df = pltr_df.query('date < \"2023-08-28\"')\n",
    "pltr_df.head()"
   ]
  },
  {
   "cell_type": "markdown",
   "metadata": {},
   "source": [
    "## 3. Define a custom frequency "
   ]
  },
  {
   "cell_type": "code",
   "execution_count": 139,
   "metadata": {},
   "outputs": [
    {
     "name": "stderr",
     "output_type": "stream",
     "text": [
      "INFO:nixtla.nixtla_client:Validating inputs...\n",
      "/Users/marianamenchero/Documents/nixtla/nixtla/nixtla_client.py:383: UserWarning: `df` contains the following exogenous features: ['Open', 'High', 'Low', 'Adj Close', 'Volume', 'Dividends', 'Stock Splits'], but `X_df` was not provided and they were not declared in `hist_exog_list`. They will be ignored.\n",
      "  warnings.warn(\n",
      "INFO:nixtla.nixtla_client:Preprocessing dataframes...\n",
      "WARNING:nixtla.nixtla_client:The specified horizon \"h\" exceeds the model horizon, this may lead to less accurate forecasts. Please consider using a smaller horizon.\n",
      "INFO:nixtla.nixtla_client:Restricting input...\n",
      "INFO:nixtla.nixtla_client:Calling Forecast Endpoint...\n"
     ]
    }
   ],
   "source": [
    "dates = pd.DatetimeIndex(sorted(pltr_df['date'].unique()))\n",
    "\n",
    "nyse = mcal.get_calendar('NYSE')\n",
    "trading_days = nyse.valid_days(start_date=dates.min(), end_date=\"2025-01-01\")\n",
    "\n",
    "trading_days = trading_days.tz_localize(None)\n",
    "\n",
    "all_weekdays = pd.date_range(start=dates.min(), end=\"2025-01-01\", freq='B')\n",
    "\n",
    "\n",
    "holidays = all_weekdays.difference(trading_days)\n",
    "\n",
    "\n",
    "custom_bday = pd.offsets.CustomBusinessDay(holidays=holidays)\n",
    "\n",
    "fcst_pltr_df = nixtla_client.forecast(\n",
    "    df=pltr_df, h=14, freq=custom_bday,\n",
    "    time_col='date', target_col='Close',\n",
    ")"
   ]
  },
  {
   "cell_type": "code",
   "execution_count": 140,
   "metadata": {},
   "outputs": [
    {
     "data": {
      "text/html": [
       "<div>\n",
       "<style scoped>\n",
       "    .dataframe tbody tr th:only-of-type {\n",
       "        vertical-align: middle;\n",
       "    }\n",
       "\n",
       "    .dataframe tbody tr th {\n",
       "        vertical-align: top;\n",
       "    }\n",
       "\n",
       "    .dataframe thead th {\n",
       "        text-align: right;\n",
       "    }\n",
       "</style>\n",
       "<table border=\"1\" class=\"dataframe\">\n",
       "  <thead>\n",
       "    <tr style=\"text-align: right;\">\n",
       "      <th></th>\n",
       "      <th>date</th>\n",
       "      <th>TimeGPT</th>\n",
       "    </tr>\n",
       "  </thead>\n",
       "  <tbody>\n",
       "    <tr>\n",
       "      <th>0</th>\n",
       "      <td>2023-08-28</td>\n",
       "      <td>14.539908</td>\n",
       "    </tr>\n",
       "    <tr>\n",
       "      <th>1</th>\n",
       "      <td>2023-08-29</td>\n",
       "      <td>14.439324</td>\n",
       "    </tr>\n",
       "    <tr>\n",
       "      <th>2</th>\n",
       "      <td>2023-08-30</td>\n",
       "      <td>14.423326</td>\n",
       "    </tr>\n",
       "    <tr>\n",
       "      <th>3</th>\n",
       "      <td>2023-08-31</td>\n",
       "      <td>14.562670</td>\n",
       "    </tr>\n",
       "    <tr>\n",
       "      <th>4</th>\n",
       "      <td>2023-09-01</td>\n",
       "      <td>14.672757</td>\n",
       "    </tr>\n",
       "    <tr>\n",
       "      <th>5</th>\n",
       "      <td>2023-09-05</td>\n",
       "      <td>14.579653</td>\n",
       "    </tr>\n",
       "    <tr>\n",
       "      <th>6</th>\n",
       "      <td>2023-09-06</td>\n",
       "      <td>14.584100</td>\n",
       "    </tr>\n",
       "    <tr>\n",
       "      <th>7</th>\n",
       "      <td>2023-09-07</td>\n",
       "      <td>14.475585</td>\n",
       "    </tr>\n",
       "    <tr>\n",
       "      <th>8</th>\n",
       "      <td>2023-09-08</td>\n",
       "      <td>14.386601</td>\n",
       "    </tr>\n",
       "    <tr>\n",
       "      <th>9</th>\n",
       "      <td>2023-09-11</td>\n",
       "      <td>14.435411</td>\n",
       "    </tr>\n",
       "    <tr>\n",
       "      <th>10</th>\n",
       "      <td>2023-09-12</td>\n",
       "      <td>14.658681</td>\n",
       "    </tr>\n",
       "    <tr>\n",
       "      <th>11</th>\n",
       "      <td>2023-09-13</td>\n",
       "      <td>14.806625</td>\n",
       "    </tr>\n",
       "    <tr>\n",
       "      <th>12</th>\n",
       "      <td>2023-09-14</td>\n",
       "      <td>14.685673</td>\n",
       "    </tr>\n",
       "    <tr>\n",
       "      <th>13</th>\n",
       "      <td>2023-09-15</td>\n",
       "      <td>14.607929</td>\n",
       "    </tr>\n",
       "  </tbody>\n",
       "</table>\n",
       "</div>"
      ],
      "text/plain": [
       "         date    TimeGPT\n",
       "0  2023-08-28  14.539908\n",
       "1  2023-08-29  14.439324\n",
       "2  2023-08-30  14.423326\n",
       "3  2023-08-31  14.562670\n",
       "4  2023-09-01  14.672757\n",
       "5  2023-09-05  14.579653\n",
       "6  2023-09-06  14.584100\n",
       "7  2023-09-07  14.475585\n",
       "8  2023-09-08  14.386601\n",
       "9  2023-09-11  14.435411\n",
       "10 2023-09-12  14.658681\n",
       "11 2023-09-13  14.806625\n",
       "12 2023-09-14  14.685673\n",
       "13 2023-09-15  14.607929"
      ]
     },
     "execution_count": 140,
     "metadata": {},
     "output_type": "execute_result"
    }
   ],
   "source": [
    "fcst_pltr_df"
   ]
  }
 ],
 "metadata": {
  "kernelspec": {
   "display_name": "nixtla",
   "language": "python",
   "name": "python3"
  },
  "language_info": {
   "codemirror_mode": {
    "name": "ipython",
    "version": 3
   },
   "file_extension": ".py",
   "mimetype": "text/x-python",
   "name": "python",
   "nbconvert_exporter": "python",
   "pygments_lexer": "ipython3",
   "version": "3.10.14"
  }
 },
 "nbformat": 4,
 "nbformat_minor": 2
}
