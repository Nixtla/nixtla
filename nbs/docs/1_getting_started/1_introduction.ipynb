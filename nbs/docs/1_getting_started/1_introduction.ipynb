{
 "cells": [
  {
   "cell_type": "markdown",
   "metadata": {},
   "source": [
    "# Welcome to TimeGPT Documentation\n",
    "\n",
    "TimeGPT is the first foundation model for time series forecasting created by Nixtla.\n",
    "\n",
    "At Nixtla, we believe the future is for everyone. We are building the best ecosystem for time series forecasting with a variety of open-source and commercial solutions.\n",
    "\n",
    "With TimeGPT, you can forecast and perform anomaly detection on any series with a simple function call.\n",
    "\n",
    "TimeGPT's capabilities include:\n",
    "- Forecasting\n",
    "    - Univariate forecasting\n",
    "    - Multivariate forecasting with exogenous variables\n",
    "    - Generating prediction intervals\n",
    "    - Including holidays and special dates\n",
    "    - Fine-tuning with user-specified loss functions\n",
    "    - Long-horizon forecasting\n",
    "    - and much more\n",
    "- Anomaly detection\n",
    "    - Anomaly detection with tuned sensitivity\n",
    "    - Anomaly detection with exogenous variables\n",
    "    - Feature important in anomaly detection\n",
    "    - and much more"
   ]
  },
  {
   "cell_type": "markdown",
   "metadata": {},
   "source": [
    "## Explore TimeGPT API"
   ]
  },
  {
   "cell_type": "markdown",
   "metadata": {},
   "source": [
    "The capabilties section highlight all of the model's functionalities with short code snippets for easy and quick experimentation.\n",
    "\n",
    "For more detailed tutorials, check our in-depth guides covering all the steps required to use TimeGPT to its full potential.\n",
    "\n",
    "Make sure to also check our uses cases to see TimeGPT applied to real-life scenarios."
   ]
  },
  {
   "cell_type": "markdown",
   "metadata": {},
   "source": []
  }
 ],
 "metadata": {},
 "nbformat": 4,
 "nbformat_minor": 2
}
