{
 "cells": [
  {
   "cell_type": "markdown",
   "id": "0241d5c1-8d11-4cb9-9259-cda5fffa7ea8",
   "metadata": {},
   "source": [
    "# Hierarchical forecasting"
   ]
  },
  {
   "cell_type": "markdown",
   "id": "0f73b521-05f2-4c53-b44c-d988bf8fe7b9",
   "metadata": {},
   "source": [
    "In forecasting, we often find ourselves in need of forecasts for both lower- and higher (temporal) granularities, such as product demand forecasts but also product category or product department forecasts. These granularities can be formalized through the use of a hierarchy. In hierarchical forecasting, we create forecasts that are coherent with respect to a pre-specified hierarchy of the underlying time series.\n",
    "\n",
    "With TimeGPT, we can create forecasts for multiple time series. We can subsequently post-process these forecasts using hierarchical forecasting techniques of [HierarchicalForecast](https://nixtlaverse.nixtla.io/hierarchicalforecast/index.html)."
   ]
  },
  {
   "cell_type": "markdown",
   "id": "2997eb35",
   "metadata": {},
   "source": [
    "## 1. Import packages\n",
    "First, we import the required packages and initialize the Nixtla client."
   ]
  },
  {
   "cell_type": "code",
   "execution_count": null,
   "id": "5826b9b9-4176-4982-901c-c8c598b87b87",
   "metadata": {},
   "outputs": [],
   "source": [
    "#| hide\n",
    "from nixtla.utils import colab_badge"
   ]
  },
  {
   "cell_type": "code",
   "execution_count": null,
   "id": "cdf86af8-08c0-4118-bd6b-0b88a6eac3f7",
   "metadata": {},
   "outputs": [],
   "source": [
    "#| echo: false\n",
    "colab_badge('docs/tutorials/15_hierarchical_forecasting')"
   ]
  },
  {
   "cell_type": "code",
   "execution_count": null,
   "id": "f1f53486-6a02-4726-9a3e-dbd73123a8da",
   "metadata": {},
   "outputs": [],
   "source": [
    "#| hide\n",
    "from itertools import product\n",
    "\n",
    "from fastcore.test import test_eq, test_fail, test_warns\n",
    "from dotenv import load_dotenv"
   ]
  },
  {
   "cell_type": "code",
   "execution_count": null,
   "id": "f602562e-4035-4b73-b309-f4fd57c7a8bf",
   "metadata": {},
   "outputs": [],
   "source": [
    "#| hide\n",
    "load_dotenv()"
   ]
  },
  {
   "cell_type": "code",
   "execution_count": null,
   "id": "8a5181e9-634c-4002-9c22-d65f0701fa14",
   "metadata": {},
   "outputs": [],
   "source": [
    "import pandas as pd\n",
    "import numpy as np\n",
    "\n",
    "from nixtla import NixtlaClient"
   ]
  },
  {
   "cell_type": "code",
   "execution_count": null,
   "id": "9872d00d-ecb1-4a14-9813-bf0c56e70392",
   "metadata": {},
   "outputs": [],
   "source": [
    "nixtla_client = NixtlaClient(\n",
    "    # defaults to os.environ.get(\"NIXTLA_API_KEY\")\n",
    "    api_key = 'my_api_key_provided_by_nixtla'\n",
    ")"
   ]
  },
  {
   "cell_type": "code",
   "execution_count": null,
   "id": "50eac17f-3c72-4f68-988a-1d5d877dff2b",
   "metadata": {},
   "outputs": [],
   "source": [
    "#| hide\n",
    "nixtla_client = NixtlaClient()"
   ]
  },
  {
   "cell_type": "markdown",
   "id": "26b99aff-aa07-44a1-b0e1-e8301f7f62bf",
   "metadata": {},
   "source": [
    "## 2. Load data"
   ]
  },
  {
   "cell_type": "markdown",
   "id": "c77268e7",
   "metadata": {},
   "source": [
    "We use the Australian Tourism dataset, from [Forecasting, Principles and Practices](https://otexts.com/fpp3/) which contains data on Australian Tourism. We are interested in forecasts for Australia's 7 States, 27 Zones and 76 Regions. This constitutes a hierarchy, where forecasts for the lower levels (e.g. the regions Sidney, Blue Mountains and Hunter) should be coherent with the forecasts of the higher levels (e.g. New South Wales)."
   ]
  },
  {
   "cell_type": "markdown",
   "id": "81f2b918",
   "metadata": {},
   "source": [
    "<img src=\"../../assets/australia_tourism.png?\" alt=\"Figure 1. Overview of Australia\" width=\"700\"/>\n",
    "<img src=\"../../assets/australia_hierarchy.png?\" alt=\"Figure 2. Overview of hierarchy of Australia\" width=\"700\"/>"
   ]
  },
  {
   "cell_type": "markdown",
   "id": "32c684a2",
   "metadata": {},
   "source": [
    "The dataset only contains the time series at the lowest level, so we need to create the time series for all hierarchies."
   ]
  },
  {
   "cell_type": "code",
   "execution_count": null,
   "id": "31b1e602-f8ee-49c4-8819-fcc093d64ab1",
   "metadata": {},
   "outputs": [],
   "source": [
    "Y_df = pd.read_csv('https://raw.githubusercontent.com/Nixtla/transfer-learning-time-series/main/datasets/tourism.csv')\n",
    "Y_df = Y_df.rename({'Trips': 'y', 'Quarter': 'ds'}, axis=1)\n",
    "Y_df.insert(0, 'Country', 'Australia')\n",
    "Y_df = Y_df[['Country', 'Region', 'State', 'Purpose', 'ds', 'y']]\n",
    "Y_df['ds'] = Y_df['ds'].str.replace(r'(\\d+) (Q\\d)', r'\\1-\\2', regex=True)\n",
    "Y_df['ds'] = pd.to_datetime(Y_df['ds'])\n",
    "\n",
    "Y_df.head(10)"
   ]
  },
  {
   "cell_type": "markdown",
   "id": "457e0ab1",
   "metadata": {},
   "source": [
    "The dataset can be grouped in the following hierarchical structure."
   ]
  },
  {
   "cell_type": "code",
   "execution_count": null,
   "id": "e736b97b",
   "metadata": {},
   "outputs": [],
   "source": [
    "spec = [\n",
    "    ['Country'],\n",
    "    ['Country', 'State'], \n",
    "    ['Country', 'Purpose'], \n",
    "    ['Country', 'State', 'Region'], \n",
    "    ['Country', 'State', 'Purpose'], \n",
    "    ['Country', 'State', 'Region', 'Purpose']\n",
    "]"
   ]
  },
  {
   "cell_type": "markdown",
   "id": "3465a666",
   "metadata": {},
   "source": [
    "Using the `aggregate` function from `HierarchicalForecast` we can get the full set of time series."
   ]
  },
  {
   "cell_type": "code",
   "execution_count": null,
   "id": "aa45bcf7",
   "metadata": {},
   "outputs": [],
   "source": [
    "!pip install hierarchicalforecast\n",
    "from hierarchicalforecast.utils import aggregate"
   ]
  },
  {
   "cell_type": "code",
   "execution_count": null,
   "id": "6a0c9209",
   "metadata": {},
   "outputs": [],
   "source": [
    "Y_df, S_df, tags = aggregate(Y_df, spec)\n",
    "Y_df = Y_df.reset_index()\n",
    "\n",
    "Y_df.head(10)"
   ]
  },
  {
   "cell_type": "markdown",
   "id": "e9a0363d",
   "metadata": {},
   "source": [
    "We use the final two years (8 quarters) as test set."
   ]
  },
  {
   "cell_type": "code",
   "execution_count": null,
   "id": "6c33d4e4",
   "metadata": {},
   "outputs": [],
   "source": [
    "Y_test_df = Y_df.groupby('unique_id').tail(8)\n",
    "Y_train_df = Y_df.drop(Y_test_df.index)"
   ]
  },
  {
   "cell_type": "markdown",
   "id": "2932318f",
   "metadata": {},
   "source": [
    "## 3. Hierarchical forecasting with TimeGPT\n",
    "\n",
    "First, we create base forecasts for all the time series with TimeGPT. Note that we set `add_history=True`, as we will need the in-sample fitted values of TimeGPT. \n",
    "\n",
    "We will predict 2 years (8 quarters), starting from 01-01-2016."
   ]
  },
  {
   "cell_type": "code",
   "execution_count": null,
   "id": "dda23c8c",
   "metadata": {},
   "outputs": [],
   "source": [
    "timegpt_fcst = nixtla_client.forecast(df=Y_train_df, h=8, freq='QS', add_history=True)"
   ]
  },
  {
   "cell_type": "code",
   "execution_count": null,
   "id": "6cff5131",
   "metadata": {},
   "outputs": [],
   "source": [
    "timegpt_fcst_insample = timegpt_fcst.query(\"ds < '2016-01-01'\")\n",
    "timegpt_fcst_outsample = timegpt_fcst.query(\"ds >= '2016-01-01'\")"
   ]
  },
  {
   "cell_type": "markdown",
   "id": "000cc025",
   "metadata": {},
   "source": [
    "Let's plot some of the forecasts, starting from the highest aggregation level (`Australia`), to the lowest level (`Australia/Queensland/Brisbane/Holiday`). We can see that there is room for improvement in the forecasts."
   ]
  },
  {
   "cell_type": "code",
   "execution_count": null,
   "id": "13f74eaa",
   "metadata": {},
   "outputs": [],
   "source": [
    "nixtla_client.plot(\n",
    "    Y_df, \n",
    "    timegpt_fcst_outsample, \n",
    "    max_insample_length=4 * 12, \n",
    "    unique_ids=['Australia', 'Australia/Queensland','Australia/Queensland/Brisbane', 'Australia/Queensland/Brisbane/Holiday']\n",
    ")"
   ]
  },
  {
   "cell_type": "markdown",
   "id": "967836fa",
   "metadata": {},
   "source": [
    "We can make these forecasts coherent to the specified hierarchy by using a `HierarchicalReconciliation` method from `NeuralForecast`. We will be using the [MinTrace](https://nixtlaverse.nixtla.io/hierarchicalforecast/methods.html) method."
   ]
  },
  {
   "cell_type": "code",
   "execution_count": null,
   "id": "e8f6bf69",
   "metadata": {},
   "outputs": [],
   "source": [
    "from hierarchicalforecast.methods import MinTrace\n",
    "from hierarchicalforecast.core import HierarchicalReconciliation"
   ]
  },
  {
   "cell_type": "code",
   "execution_count": null,
   "id": "cb7c9477",
   "metadata": {},
   "outputs": [],
   "source": [
    "reconcilers = [\n",
    "    MinTrace(method='ols'),\n",
    "    MinTrace(method='mint_shrink'),\n",
    "]\n",
    "hrec = HierarchicalReconciliation(reconcilers=reconcilers)\n",
    "\n",
    "Y_df_with_insample_fcsts = Y_df.copy()\n",
    "Y_df_with_insample_fcsts['ds'] = Y_df_with_insample_fcsts['ds'].astype(str)\n",
    "Y_df_with_insample_fcsts = timegpt_fcst_insample.merge(Y_df_with_insample_fcsts)\n",
    "Y_df_with_insample_fcsts = Y_df_with_insample_fcsts.set_index('unique_id')\n",
    "\n",
    "Y_rec_df = hrec.reconcile(Y_hat_df=timegpt_fcst_outsample.set_index('unique_id'), Y_df=Y_df_with_insample_fcsts, S=S_df, tags=tags)"
   ]
  },
  {
   "cell_type": "markdown",
   "id": "85a370f1",
   "metadata": {},
   "source": [
    "Again, we plot some of the forecasts. We can see a few, mostly minor differences in the forecasts."
   ]
  },
  {
   "cell_type": "code",
   "execution_count": null,
   "id": "67e3933e",
   "metadata": {},
   "outputs": [],
   "source": [
    "nixtla_client.plot(\n",
    "    Y_df, \n",
    "    Y_rec_df.reset_index(), \n",
    "    max_insample_length=4 * 12, \n",
    "    unique_ids=['Australia', 'Australia/Queensland','Australia/Queensland/Brisbane', 'Australia/Queensland/Brisbane/Holiday']\n",
    ")"
   ]
  },
  {
   "cell_type": "markdown",
   "id": "a587baa1",
   "metadata": {},
   "source": [
    "Let's numerically verify the forecasts to the situation where we don't apply a post-processing step. We can use `HierarchicalEvaluation` for this."
   ]
  },
  {
   "cell_type": "code",
   "execution_count": null,
   "id": "4c73c041",
   "metadata": {},
   "outputs": [],
   "source": [
    "from hierarchicalforecast.evaluation import HierarchicalEvaluation"
   ]
  },
  {
   "cell_type": "code",
   "execution_count": null,
   "id": "016a37c8",
   "metadata": {},
   "outputs": [],
   "source": [
    "def rmse(y, y_hat):\n",
    "    return np.mean(np.sqrt(np.mean((y-y_hat)**2, axis=1)))\n",
    "\n",
    "eval_tags = {}\n",
    "eval_tags['Total'] = tags['Country']\n",
    "eval_tags['Purpose'] = tags['Country/Purpose']\n",
    "eval_tags['State'] = tags['Country/State']\n",
    "eval_tags['Regions'] = tags['Country/State/Region']\n",
    "eval_tags['Bottom'] = tags['Country/State/Region/Purpose']\n",
    "eval_tags['All'] = np.concatenate(list(tags.values()))\n",
    "\n",
    "evaluator = HierarchicalEvaluation(evaluators=[rmse])\n",
    "evaluation = evaluator.evaluate(\n",
    "        Y_hat_df=Y_rec_df.rename(columns={'y': 'TimeGPT'}), Y_test_df=Y_test_df.set_index('unique_id'),\n",
    "        tags=eval_tags, Y_df=Y_train_df.set_index('unique_id')\n",
    ")\n",
    "evaluation = evaluation.drop(labels='Overall', level='level')\n",
    "evaluation.columns = ['Base', 'MinTrace(ols)', 'MinTrace(mint_shrink)']\n",
    "evaluation = evaluation.map('{:.2f}'.format)"
   ]
  },
  {
   "cell_type": "code",
   "execution_count": null,
   "id": "24a50a6d",
   "metadata": {},
   "outputs": [],
   "source": [
    "evaluation"
   ]
  },
  {
   "cell_type": "markdown",
   "id": "e66e8c60",
   "metadata": {},
   "source": [
    "We made a small improvement in overall RMSE by reconciling the forecasts with `MinTrace(ols)`, and made them slightly worse using `MinTrace(mint_shrink)`, indicating that the base forecasts were relatively strong already. \n",
    "\n",
    "However, we now have coherent forecasts too - so not only did we make a (small) accuracy improvement, we also got coherency to the hierarchy as a result of our reconciliation step."
   ]
  },
  {
   "cell_type": "markdown",
   "id": "ef4ca550",
   "metadata": {},
   "source": [
    "**References**<br>\n",
    "- [Hyndman, Rob J., and George Athanasopoulos (2021). \"Forecasting: Principles and Practice (3rd Ed)\"](https://otexts.com/fpp3/)<br>"
   ]
  }
 ],
 "metadata": {
  "kernelspec": {
   "display_name": "python3",
   "language": "python",
   "name": "python3"
  }
 },
 "nbformat": 4,
 "nbformat_minor": 5
}
