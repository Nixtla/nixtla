{
 "cells": [
  {
   "cell_type": "markdown",
   "id": "6ecd9d32-9178-4768-bffa-d70c93c98311",
   "metadata": {},
   "source": [
    "# TimeGPT Quickstart\n",
    "\n",
    "> Unlock the power of accurate predictions and confidently navigate uncertainty. Reduce uncertainty and resource limitations.\n",
    "> With TimeGPT, you can effortlessly access state-of-the-art models to make data-driven decisions. Whether you're a bank\n",
    "> forecasting market trends or a startup predicting product demand, TimeGPT democratizes access to cutting-edge predictive\n",
    "> insights."
   ]
  },
  {
   "cell_type": "code",
   "execution_count": null,
   "id": "fb455c30-d11d-49a1-8825-c908328bc63a",
   "metadata": {},
   "outputs": [],
   "source": [
    "#| hide\n",
    "from nixtla.utils import colab_badge"
   ]
  },
  {
   "cell_type": "code",
   "execution_count": null,
   "id": "f2820d3a-47dd-4827-925f-63f454701c79",
   "metadata": {},
   "outputs": [],
   "source": [
    "#| echo: false\n",
    "colab_badge('docs/getting-started/1_getting_started_short')"
   ]
  },
  {
   "cell_type": "markdown",
   "id": "568b7aba-5990-477b-a012-9bd30815cfe3",
   "metadata": {},
   "source": [
    "## Introduction\n",
    "\n",
    "Nixtla's TimeGPT is a generative pre-trained forecasting model for time series data. TimeGPT can produce accurate forecasts for new time series without training, using only historical values as inputs. TimeGPT can be used across a plethora of tasks including demand forecasting, anomaly detection, financial forecasting, and more. \n",
    "\n",
    "The TimeGPT model \"reads\" time series data much like the way humans read a sentence – from left to right. It looks at windows of past data, which we can think of as \"tokens\", and predicts what comes next. This prediction is based on patterns the model identifies in past data and extrapolates into the future.\n",
    "\n",
    "The API provides an interface to TimeGPT, allowing users to leverage its forecasting capabilities to predict future events. TimeGPT can also be used for other time series-related tasks, such as what-if scenarios, anomaly detection, and more."
   ]
  },
  {
   "cell_type": "markdown",
   "id": "5c18e03c-be64-45fe-80d2-eb3c37f3d288",
   "metadata": {},
   "source": [
    "![figure](../../img/timegpt-arch.png)"
   ]
  },
  {
   "cell_type": "markdown",
   "id": "03e24b4f-6b8c-4ffa-82c6-f5b889fdd423",
   "metadata": {},
   "source": [
    "## Usage"
   ]
  },
  {
   "cell_type": "code",
   "execution_count": null,
   "id": "0d011f78-8c0e-4124-9464-666f3ac7c475",
   "metadata": {},
   "outputs": [],
   "source": [
    "#| hide\n",
    "from dotenv import load_dotenv"
   ]
  },
  {
   "cell_type": "code",
   "execution_count": null,
   "id": "849cf664-5f3c-4fef-95c8-3ac912315f28",
   "metadata": {},
   "outputs": [],
   "source": [
    "#| hide\n",
    "load_dotenv()"
   ]
  },
  {
   "cell_type": "code",
   "execution_count": null,
   "id": "9d984aea-1315-4d4e-8b4d-b23efe947be1",
   "metadata": {},
   "outputs": [],
   "source": [
    "from nixtla import NixtlaClient"
   ]
  },
  {
   "cell_type": "markdown",
   "id": "8b73a131-390e-46b9-847b-173f7d3c869a",
   "metadata": {},
   "source": [
    "You can instantiate the `NixtlaClient` class providing your credentials."
   ]
  },
  {
   "cell_type": "code",
   "execution_count": null,
   "id": "f1098659-f250-4663-b588-f9e17065cafa",
   "metadata": {},
   "outputs": [],
   "source": [
    "nixtla_client = NixtlaClient(\n",
    "    # defaults to os.environ.get(\"NIXTLA_API_KEY\")\n",
    "    api_key = 'my_api_key_provided_by_nixtla'\n",
    ")"
   ]
  },
  {
   "cell_type": "code",
   "execution_count": null,
   "id": "e5b8ea7f-e30e-4001-a7a6-9e935e12180a",
   "metadata": {},
   "outputs": [],
   "source": [
    "#| hide\n",
    "nixtla_client = NixtlaClient()"
   ]
  },
  {
   "cell_type": "markdown",
   "id": "8e7cea32-ade9-4b23-be93-9a4fbea7c6b2",
   "metadata": {},
   "source": [
    "Check your token status with the `validate_api_key` method."
   ]
  },
  {
   "cell_type": "code",
   "execution_count": null,
   "id": "95fd6f32-8ada-4bd8-9083-77bb45bd2349",
   "metadata": {},
   "outputs": [],
   "source": [
    "nixtla_client.validate_api_key()"
   ]
  },
  {
   "cell_type": "markdown",
   "id": "a2597400",
   "metadata": {},
   "source": [
    "To learn more about how to set up your token, please refer to the [Setting Up your Authentication Token](https://nixtlaverse.nixtla.io/nixtla/docs/getting-started/setting_up_your_authentication_token.html) tutorial. "
   ]
  },
  {
   "cell_type": "markdown",
   "id": "8ca0d1f7-9730-4146-b6f3-596099ce6e3b",
   "metadata": {},
   "source": [
    "Now you can start making forecasts! Let's import an example on the classic `AirPassengers` dataset. This dataset contains the monthly number of airline passengers in Australia between 1949 and 1960. First, let's load the dataset and plot it:"
   ]
  },
  {
   "cell_type": "code",
   "execution_count": null,
   "id": "687802f2-be84-4b81-95eb-44798c591daf",
   "metadata": {},
   "outputs": [],
   "source": [
    "import pandas as pd"
   ]
  },
  {
   "cell_type": "code",
   "execution_count": null,
   "id": "fded6ec5-949a-44b8-9a4a-8fc8a5295e06",
   "metadata": {},
   "outputs": [],
   "source": [
    "df = pd.read_csv('https://raw.githubusercontent.com/Nixtla/transfer-learning-time-series/main/datasets/air_passengers.csv')\n",
    "df.head()"
   ]
  },
  {
   "cell_type": "code",
   "execution_count": null,
   "id": "6242b73d-fd43-41be-b4db-123cf7cd5b11",
   "metadata": {},
   "outputs": [],
   "source": [
    "nixtla_client.plot(df, time_col='timestamp', target_col='value')"
   ]
  },
  {
   "cell_type": "markdown",
   "id": "defa26b8",
   "metadata": {},
   "source": [
    ":::{.callout-tip collapse=true}\n",
    "## Important requirements of the data\n",
    "\n",
    "* Make sure the target variable column does not have missing or non-numeric values.\n",
    "* Do not include gaps/jumps in the datestamps (for the given frequency) between the first and late datestamps. The forecast function will not impute missing dates.\n",
    "* The format of the datestamp column should be readable by Pandas (see [this link](https://pandas.pydata.org/docs/reference/api/pandas.to_datetime.html) for more details).\n",
    ":::"
   ]
  },
  {
   "cell_type": "markdown",
   "id": "5c4790e3",
   "metadata": {},
   "source": [
    "Next, forecast the next 12 months using the SDK `forecast` method. Set the following parameters:\n",
    "\n",
    "- `df`: A pandas dataframe containing the time series data.\n",
    "- `h`: The number of steps ahead to forecast.\n",
    "- `freq`: The frequency of the time series in Pandas format. See [pandas’ available frequencies](https://pandas.pydata.org/pandas-docs/stable/user_guide/timeseries.html#offset-aliases).\n",
    "- `time_col`: Column that identifies the datestamp column.\n",
    "- `target_col`: The variable that we want to forecast."
   ]
  },
  {
   "cell_type": "code",
   "execution_count": null,
   "id": "793011c6-6845-410f-b6b1-3bdb87b41ce6",
   "metadata": {},
   "outputs": [],
   "source": [
    "timegpt_fcst_df = nixtla_client.forecast(df=df, h=12, freq='MS', time_col='timestamp', target_col='value')\n",
    "timegpt_fcst_df.head()"
   ]
  },
  {
   "cell_type": "code",
   "execution_count": null,
   "id": "638329d2-2d1b-49dd-8df7-1926f7d9b36b",
   "metadata": {},
   "outputs": [],
   "source": [
    "nixtla_client.plot(df, timegpt_fcst_df, time_col='timestamp', target_col='value')"
   ]
  },
  {
   "cell_type": "markdown",
   "id": "0397b0a9-07dc-45ad-a64b-ab619d34254f",
   "metadata": {},
   "source": [
    "You can also produce a longer forecasts increasing the horizon parameter. For example, let's forecast the next 36 months:"
   ]
  },
  {
   "cell_type": "code",
   "execution_count": null,
   "id": "e69f5d11-b262-458f-8909-aaefc805cd23",
   "metadata": {},
   "outputs": [],
   "source": [
    "timegpt_fcst_df = nixtla_client.forecast(df=df, h=36, time_col='timestamp', target_col='value', freq='MS')\n",
    "timegpt_fcst_df.head()"
   ]
  },
  {
   "cell_type": "code",
   "execution_count": null,
   "id": "bd521875-1a23-43a0-99ea-979ca0efc631",
   "metadata": {},
   "outputs": [],
   "source": [
    "nixtla_client.plot(df, timegpt_fcst_df, time_col='timestamp', target_col='value')"
   ]
  },
  {
   "cell_type": "markdown",
   "id": "12e9766e-d7a8-40f6-bfaa-4df07da6c505",
   "metadata": {},
   "source": [
    "Or a shorter one:"
   ]
  },
  {
   "cell_type": "code",
   "execution_count": null,
   "id": "94da9c70-b4e5-4f16-927f-4c153bbabaff",
   "metadata": {},
   "outputs": [],
   "source": [
    "timegpt_fcst_df = nixtla_client.forecast(df=df, h=6, time_col='timestamp', target_col='value', freq='MS')\n",
    "nixtla_client.plot(df, timegpt_fcst_df, time_col='timestamp', target_col='value')"
   ]
  },
  {
   "cell_type": "markdown",
   "id": "0b009f82",
   "metadata": {},
   "source": [
    "::: {.callout-warning}\n",
    "TimeGPT-1 is currently optimized for short horizon forecasting. While the `forecast` mehtod will allow any positive and large horizon, the accuracy of the forecasts might degrade. We are currently working to improve the accuracy on longer forecasts.\n",
    "::: "
   ]
  },
  {
   "cell_type": "markdown",
   "id": "1164dc69-4ae2-44c5-beb5-c5c8e8e72e96",
   "metadata": {},
   "source": [
    "## Using DateTime index to infer frequency"
   ]
  },
  {
   "cell_type": "markdown",
   "id": "2c78a288-3aed-47c9-b8b6-91d14443ba82",
   "metadata": {},
   "source": [
    "The freq parameter, which indicates the time unit between consecutive data points, is particularly critical. Fortunately, you can pass a DataFrame with a DateTime index to the forecasting method, ensuring that your time series data is equipped with necessary temporal features. By assigning a suitable freq parameter to the DateTime index of a DataFrame, you inform the model about the consistent interval between observations — be it days ('D'), months ('M'), or another suitable frequency."
   ]
  },
  {
   "cell_type": "code",
   "execution_count": null,
   "id": "c7d15db0-1e18-4f22-90ff-9002b4944de4",
   "metadata": {},
   "outputs": [],
   "source": [
    "df_time_index = df.set_index('timestamp')\n",
    "df_time_index.index = pd.DatetimeIndex(df_time_index.index, freq='MS')\n",
    "nixtla_client.forecast(df=df, h=36, time_col='timestamp', target_col='value').head()"
   ]
  }
 ],
 "metadata": {
  "kernelspec": {
   "display_name": "python3",
   "language": "python",
   "name": "python3"
  }
 },
 "nbformat": 4,
 "nbformat_minor": 5
}
