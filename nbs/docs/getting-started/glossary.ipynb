{
 "cells": [
  {
   "cell_type": "markdown",
   "metadata": {},
   "source": [
    "# Glossary\n",
    "\n",
    "- Time Series \n",
    "- Forecasting \n",
    "- Anomaly Detection\n",
    "- Cross Validation\n",
    "- Foundation Models \n",
    "- Tokens \n",
    "- Fine-tuning"
   ]
  },
  {
   "cell_type": "markdown",
   "metadata": {},
   "source": [
    "## Time Series \n",
    "\n",
    "A time series is a sequence of data points indexed by time, used to model phenomena that changes over time, such as stock prices, temperature, or product sales. Time series data typically exhibit patterns such as trends, seasonality, and cycles. The trend and cycle components are often combined into a single trend-cycle component, and is usually simply referred as trend. \n",
    "\n",
    "A time series can generally be thought of as comprising the following components:\n",
    "\n",
    "- **Trend**: The consistent, long-term direction of the data, whether upward or downward. It reflects the persistent, overall movement in the series over time.\n",
    "\n",
    "- **Seasonality**: A repeated cycle around a known and fixed period. \n",
    "\n",
    "- **Remainder**: The residuals or random noise left in the data after the trend and seasonal effects have been accounted for.\n"
   ]
  },
  {
   "cell_type": "markdown",
   "metadata": {},
   "source": [
    "## Forecasting \n",
    "\n",
    "1. Time series forecasting is the process of using a model or a method to predict the future values of a time series based on the previous observed values.\n",
    "2. Different models and methods; statistical, machine learning, deep learning, and now foundation models. Can be classified as local or global, univariate and multivariate. \n",
    "3. Point forecasts and \n",
    "3. Forecasting is ubiquotus in many fields, such as finance, healthcare, retail, and many more, and it can have a significant impact in decision making.  "
   ]
  }
 ],
 "metadata": {
  "language_info": {
   "name": "python"
  }
 },
 "nbformat": 4,
 "nbformat_minor": 2
}
