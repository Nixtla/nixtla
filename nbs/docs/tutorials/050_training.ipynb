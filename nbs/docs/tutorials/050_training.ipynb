{
 "cells": [
  {
   "cell_type": "markdown",
   "id": "6de758ee-a0d2-4b3f-acff-eed419dd17c5",
   "metadata": {},
   "source": [
    "# Training\n",
    "\n",
    "This section offers tutorials related to training `TimeGPT` under specific conditions.\n",
    "\n",
    "### What You Will Learn\n",
    "\n",
    "1. **[Long Horizon Forecasting](https://docs.nixtla.io/docs/tutorials-long_horizon_forecasting)**\n",
    "\n",
    "    - Discover how make predictions beyond two seasonal periods or even further into the future, using `TimeGPT`'s specialized model for long horizon forecasting.\n",
    "\n",
    "2. **[Multiple Series Forecasting](https://docs.nixtla.io/docs/tutorials-multiple_series_forecasting)**\n",
    "\n",
    "    - Learn how to use `TimeGPT` to forecast multiple time series simultaneously."
   ]
  }
 ],
 "metadata": {
  "kernelspec": {
   "display_name": "python3",
   "language": "python",
   "name": "python3"
  }
 },
 "nbformat": 4,
 "nbformat_minor": 5
}
