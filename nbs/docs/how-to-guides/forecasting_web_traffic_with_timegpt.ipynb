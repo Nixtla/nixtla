{
 "cells": [
  {
   "cell_type": "markdown",
   "metadata": {},
   "source": [
    "# Forecasting web traffic with TimeGPT\n",
    "\n",
    "Our task is to forecast the next 7 days of daily visits to the website [cienciadedatos.net](cienciadedatos.net).\n",
    "\n",
    "In this tutorial we will show:\n",
    "- How to load time series data to be used for forecasting with TimeGPT\n",
    "- How to create cross-validated forecasts with TimeGPT\n",
    "\n",
    "This tutorial is an adaptation from [Joaquín Amat Rodrigo, Javier Escobar Ortiz, \"Forecasting web traffic with machine learning and Python\"](https://cienciadedatos.net/documentos/py37-forecasting-web-traffic-machine-learning.html)"
   ]
  },
  {
   "cell_type": "markdown",
   "metadata": {},
   "source": [
    "## 1. Import packages\n",
    "First, we import the required packages and initialize the Nixtla client."
   ]
  },
  {
   "cell_type": "code",
   "execution_count": null,
   "metadata": {},
   "outputs": [],
   "source": [
    "#| hide\n",
    "from nixtla.utils import colab_badge"
   ]
  },
  {
   "cell_type": "code",
   "execution_count": null,
   "metadata": {},
   "outputs": [],
   "source": [
    "#| echo: false\n",
    "colab_badge('docs/how-to-guides/forecasting_web_traffic_with_timegpt')"
   ]
  },
  {
   "cell_type": "code",
   "execution_count": null,
   "metadata": {},
   "outputs": [],
   "source": [
    "#| hide\n",
    "from dotenv import load_dotenv"
   ]
  },
  {
   "cell_type": "code",
   "execution_count": null,
   "metadata": {},
   "outputs": [],
   "source": [
    "#| hide\n",
    "load_dotenv()"
   ]
  },
  {
   "cell_type": "code",
   "execution_count": null,
   "metadata": {},
   "outputs": [],
   "source": [
    "import pandas as pd\n",
    "from nixtla import NixtlaClient"
   ]
  },
  {
   "cell_type": "code",
   "execution_count": null,
   "metadata": {},
   "outputs": [],
   "source": [
    "nixtla_client = NixtlaClient(\n",
    "    # defaults to os.environ.get(\"NIXTLA_API_KEY\")\n",
    "    api_key = 'my_api_key_provided_by_nixtla'\n",
    ")"
   ]
  },
  {
   "cell_type": "code",
   "execution_count": null,
   "metadata": {},
   "outputs": [],
   "source": [
    "#| hide\n",
    "nixtla_client = NixtlaClient()"
   ]
  },
  {
   "cell_type": "markdown",
   "metadata": {},
   "source": [
    "## 2. Load data"
   ]
  },
  {
   "cell_type": "markdown",
   "metadata": {},
   "source": [
    "We load the website visit data, and set it to the right format to use with TimeGPT. In this case, we only need to add an identifier column for the timeseries, which we will call `daily_visits`."
   ]
  },
  {
   "cell_type": "code",
   "execution_count": null,
   "metadata": {},
   "outputs": [],
   "source": [
    "url = ('https://raw.githubusercontent.com/JoaquinAmatRodrigo/Estadistica-machine-learning-python/' +\n",
    "       'master/data/visitas_por_dia_web_cienciadedatos.csv')\n",
    "df = pd.read_csv(url, sep=',', parse_dates=[0], date_format='%d/%m/%y')\n",
    "df['unique_id'] = 'daily_visits'\n",
    "\n",
    "df.head(10)"
   ]
  },
  {
   "cell_type": "markdown",
   "metadata": {},
   "source": [
    "That's it! No more preprocessing is necessary."
   ]
  },
  {
   "cell_type": "markdown",
   "metadata": {},
   "source": [
    "## 3. Cross-validation with TimeGPT"
   ]
  },
  {
   "cell_type": "markdown",
   "metadata": {},
   "source": [
    "We can perform cross-validation on our data as follows:"
   ]
  },
  {
   "cell_type": "code",
   "execution_count": null,
   "metadata": {},
   "outputs": [],
   "source": [
    "timegpt_cv_df = nixtla_client.cross_validation(\n",
    "    df, \n",
    "    h=7, \n",
    "    n_windows=8, \n",
    "    time_col='date', \n",
    "    target_col='users', \n",
    "    freq='D',\n",
    "    level=[80, 90, 99.5]\n",
    ")\n",
    "timegpt_cv_df.head()"
   ]
  },
  {
   "cell_type": "markdown",
   "metadata": {},
   "source": [
    "Here, we have performed a rolling cross-validation of 8 folds. Let's plot the cross-validated forecasts including the prediction intervals:"
   ]
  },
  {
   "cell_type": "code",
   "execution_count": null,
   "metadata": {},
   "outputs": [],
   "source": [
    "nixtla_client.plot(\n",
    "    df, \n",
    "    timegpt_cv_df.drop(columns=['cutoff', 'users']), \n",
    "    time_col='date',\n",
    "    target_col='users',\n",
    "    max_insample_length=90, \n",
    "    level=[80, 90, 99.5]\n",
    ")"
   ]
  },
  {
   "cell_type": "markdown",
   "metadata": {},
   "source": [
    "This looks reasonable, and very comparable to the results obtained [here](https://cienciadedatos.net/documentos/py37-forecasting-web-traffic-machine-learning.html)."
   ]
  },
  {
   "cell_type": "markdown",
   "metadata": {},
   "source": [
    "Let's check the Mean Absolute Error of our cross-validation:"
   ]
  },
  {
   "cell_type": "code",
   "execution_count": null,
   "metadata": {},
   "outputs": [],
   "source": [
    "from utilsforecast.losses import mae"
   ]
  },
  {
   "cell_type": "code",
   "execution_count": null,
   "metadata": {},
   "outputs": [],
   "source": [
    "mae_timegpt = mae(df = timegpt_cv_df.drop(columns=['cutoff']),\n",
    "    models=['TimeGPT'],\n",
    "    target_col='users')\n",
    "\n",
    "mae_timegpt"
   ]
  },
  {
   "cell_type": "markdown",
   "metadata": {},
   "source": [
    "The MAE of our backtest is `167.69`. Hence, not only did TimeGPT achieve a lower MAE compared to the fully customized pipeline [here](https://cienciadedatos.net/documentos/py37-forecasting-web-traffic-machine-learning.html), the error of the forecast is also lower."
   ]
  },
  {
   "cell_type": "markdown",
   "metadata": {},
   "source": [
    "#### Exogenous variables"
   ]
  },
  {
   "cell_type": "markdown",
   "metadata": {},
   "source": [
    "Now let's add some exogenous variables to see if we can improve the forecasting performance further.\n",
    "\n",
    "We will add weekday indicators, which we will extract from the `date` column."
   ]
  },
  {
   "cell_type": "code",
   "execution_count": null,
   "metadata": {},
   "outputs": [],
   "source": [
    "# We have 7 days, for each day a separate column denoting 1/0\n",
    "for i in range(7):\n",
    "    df[f'week_day_{i + 1}'] = 1 * (df['date'].dt.weekday == i)\n",
    "\n",
    "df.head(10)"
   ]
  },
  {
   "cell_type": "markdown",
   "metadata": {},
   "source": [
    "Let's rerun the cross-validation procedure with the added exogenous variables."
   ]
  },
  {
   "cell_type": "code",
   "execution_count": null,
   "metadata": {},
   "outputs": [],
   "source": [
    "timegpt_cv_df_with_ex = nixtla_client.cross_validation(\n",
    "    df, \n",
    "    h=7, \n",
    "    n_windows=8, \n",
    "    time_col='date', \n",
    "    target_col='users', \n",
    "    freq='D',\n",
    "    level=[80, 90, 99.5]\n",
    ")\n",
    "timegpt_cv_df_with_ex.head()"
   ]
  },
  {
   "cell_type": "markdown",
   "metadata": {},
   "source": [
    "Let's plot our forecasts again and calculate our error."
   ]
  },
  {
   "cell_type": "code",
   "execution_count": null,
   "metadata": {},
   "outputs": [],
   "source": [
    "nixtla_client.plot(\n",
    "    df, \n",
    "    timegpt_cv_df_with_ex.drop(columns=['cutoff', 'users']), \n",
    "    time_col='date',\n",
    "    target_col='users',\n",
    "    max_insample_length=90, \n",
    "    level=[80, 90, 99.5]\n",
    ")"
   ]
  },
  {
   "cell_type": "code",
   "execution_count": null,
   "metadata": {},
   "outputs": [],
   "source": [
    "mae_timegpt_with_exogenous = mae(df = timegpt_cv_df_with_ex.drop(columns=['cutoff']),\n",
    "    models=['TimeGPT'],\n",
    "    target_col='users')\n",
    "\n",
    "mae_timegpt_with_exogenous"
   ]
  },
  {
   "cell_type": "markdown",
   "metadata": {},
   "source": [
    "To conclude, we obtain the following forecast results in this notebook:"
   ]
  },
  {
   "cell_type": "code",
   "execution_count": null,
   "metadata": {},
   "outputs": [],
   "source": [
    "mae_timegpt['Exogenous features'] = False\n",
    "mae_timegpt_with_exogenous['Exogenous features'] = True\n",
    "\n",
    "df_results = pd.concat([mae_timegpt, mae_timegpt_with_exogenous])\n",
    "df_results = df_results.rename(columns={'TimeGPT':'MAE backtest'})\n",
    "df_results = df_results.drop(columns={'unique_id'})\n",
    "df_results['model'] = 'TimeGPT'\n",
    "\n",
    "df_results[['model', 'Exogenous features', 'MAE backtest']]"
   ]
  },
  {
   "cell_type": "markdown",
   "metadata": {},
   "source": [
    "We've shown how to forecast daily visits of a website. \n",
    "\n",
    "Did you notice how little effort that took? What you did not have to do, is:\n",
    "\n",
    "- Elaborate data preprocessing - just a table with timeseries is sufficient\n",
    "- Creating a validation- and test set - TimeGPT handles the cross-validation in a single function\n",
    "- Choosing and testing different models - It's just a single call to TimeGPT\n",
    "- Hyperparameter tuning - Not necessary.\n",
    "\n",
    "Happy forecasting!"
   ]
  }
 ],
 "metadata": {
  "kernelspec": {
   "display_name": "python3",
   "language": "python",
   "name": "python3"
  }
 },
 "nbformat": 4,
 "nbformat_minor": 2
}
