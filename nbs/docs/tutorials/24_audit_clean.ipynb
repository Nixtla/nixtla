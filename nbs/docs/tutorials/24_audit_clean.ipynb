{
 "cells": [
  {
   "cell_type": "code",
   "execution_count": null,
   "metadata": {},
   "outputs": [],
   "source": [
    "#| hide\n",
    "!pip install -Uqq nixtla "
   ]
  },
  {
   "cell_type": "code",
   "execution_count": null,
   "metadata": {},
   "outputs": [],
   "source": [
    "#| hide \n",
    "from nixtla.utils import in_colab"
   ]
  },
  {
   "cell_type": "code",
   "execution_count": null,
   "metadata": {},
   "outputs": [],
   "source": [
    "#| hide \n",
    "IN_COLAB = in_colab()"
   ]
  },
  {
   "cell_type": "code",
   "execution_count": null,
   "metadata": {},
   "outputs": [],
   "source": [
    "#| hide\n",
    "if not IN_COLAB:\n",
    "    from nixtla.utils import colab_badge\n",
    "    from dotenv import load_dotenv"
   ]
  },
  {
   "cell_type": "markdown",
   "metadata": {},
   "source": [
    "# Audit and Clean Data with TimeGPT "
   ]
  },
  {
   "cell_type": "code",
   "execution_count": null,
   "metadata": {},
   "outputs": [
    {
     "data": {
      "text/markdown": [
       "[![](https://colab.research.google.com/assets/colab-badge.svg)](https://colab.research.google.com/github/Nixtla/nixtla/blob/main/nbs/docs/tutorials/24_audit_clean.ipynb)"
      ],
      "text/plain": [
       "<IPython.core.display.Markdown object>"
      ]
     },
     "metadata": {},
     "output_type": "display_data"
    }
   ],
   "source": [
    "#| echo: false\n",
    "if not IN_COLAB:\n",
    "    load_dotenv()\n",
    "    colab_badge('docs/tutorials/24_audit_clean')"
   ]
  },
  {
   "cell_type": "markdown",
   "metadata": {},
   "source": [
    "The `audit_data` and `clean_data` methods from TimeGPT can help you identify and fix potential issues in your data.\n",
    "\n",
    "The `audit_data` method performs a series of checks to detect problems that will cause errors when you run TimeGPT. Specifically, it checks for:\n",
    "\n",
    "- **Duplicate rows**\n",
    "- **Missing dates**\n",
    "- **Categorical feature columns**\n",
    "\n",
    "Additionally, `audit_data` checks for:\n",
    "\n",
    "- **Negative values**\n",
    "- **Leading zeros**\n",
    "\n",
    "Although these issues won't directly cause errors in TimeGPT, you might still choose to address them, depending on your specific use case.\n",
    "\n",
    "Once you've identified any issues, the `clean_data` method helps you automatically fix them. In this tutorial, you'll learn how to use these methods to audit and clean your data before generating forecasts with TimeGPT. "
   ]
  },
  {
   "cell_type": "markdown",
   "metadata": {},
   "source": [
    "## 1. Get Started \n",
    "\n",
    "To use the `audit_data` and `clean_data` methods, you first need to import and instantiate the `NixtlaClient` class."
   ]
  },
  {
   "cell_type": "code",
   "execution_count": null,
   "metadata": {},
   "outputs": [],
   "source": [
    "import pandas as pd \n",
    "from nixtla import NixtlaClient\n",
    "\n",
    "nixtla_client = NixtlaClient(\n",
    "    # api_key = 'my_api_key_provided_by_nixtla'\n",
    ")"
   ]
  },
  {
   "cell_type": "markdown",
   "metadata": {},
   "source": [
    "If you don't have an API key, or if you want to learn more secure ways of setting it up, please refer to the [Setting up your API key](https://docs.nixtla.io/docs/getting-started-setting_up_your_api_key) tutorial."
   ]
  },
  {
   "cell_type": "markdown",
   "metadata": {},
   "source": [
    "## 2. Audit Data\n",
    "\n",
    "The `audit_data` method performs a series of checks to identify issues in your data. These checks fall into two categories:\n",
    "\n",
    "| **Check Type**    | **Description**                                                                 | **Checks Performed**                                      |\n",
    "|-------------------|---------------------------------------------------------------------------------|-----------------------------------------------------------|\n",
    "| **Fail**          | Issues that will cause errors when you run TimeGPT    | Duplicate rows (D001)<br>Missing dates (D002)<br>Categorical feature columns (F001) |\n",
    "| **Case-specific** | Issues that may not cause errors but could negatively affect your results       | Negative values (V001)<br>Leading zeros (V002)            |\n",
    "\n",
    "To show how the `audit_data` method works, we will create a sample dataset with missing dates, negative values and leading zeros. "
   ]
  },
  {
   "cell_type": "code",
   "execution_count": null,
   "metadata": {},
   "outputs": [
    {
     "data": {
      "text/html": [
       "<div>\n",
       "<style scoped>\n",
       "    .dataframe tbody tr th:only-of-type {\n",
       "        vertical-align: middle;\n",
       "    }\n",
       "\n",
       "    .dataframe tbody tr th {\n",
       "        vertical-align: top;\n",
       "    }\n",
       "\n",
       "    .dataframe thead th {\n",
       "        text-align: right;\n",
       "    }\n",
       "</style>\n",
       "<table border=\"1\" class=\"dataframe\">\n",
       "  <thead>\n",
       "    <tr style=\"text-align: right;\">\n",
       "      <th></th>\n",
       "      <th>unique_id</th>\n",
       "      <th>ds</th>\n",
       "      <th>y</th>\n",
       "    </tr>\n",
       "  </thead>\n",
       "  <tbody>\n",
       "    <tr>\n",
       "      <th>0</th>\n",
       "      <td>id1</td>\n",
       "      <td>2023-01-01</td>\n",
       "      <td>1</td>\n",
       "    </tr>\n",
       "    <tr>\n",
       "      <th>1</th>\n",
       "      <td>id1</td>\n",
       "      <td>2023-01-03</td>\n",
       "      <td>1</td>\n",
       "    </tr>\n",
       "    <tr>\n",
       "      <th>2</th>\n",
       "      <td>id1</td>\n",
       "      <td>2023-01-04</td>\n",
       "      <td>1</td>\n",
       "    </tr>\n",
       "    <tr>\n",
       "      <th>3</th>\n",
       "      <td>id2</td>\n",
       "      <td>2023-01-01</td>\n",
       "      <td>0</td>\n",
       "    </tr>\n",
       "    <tr>\n",
       "      <th>4</th>\n",
       "      <td>id2</td>\n",
       "      <td>2023-01-02</td>\n",
       "      <td>0</td>\n",
       "    </tr>\n",
       "    <tr>\n",
       "      <th>5</th>\n",
       "      <td>id2</td>\n",
       "      <td>2023-01-03</td>\n",
       "      <td>1</td>\n",
       "    </tr>\n",
       "    <tr>\n",
       "      <th>6</th>\n",
       "      <td>id2</td>\n",
       "      <td>2023-01-04</td>\n",
       "      <td>2</td>\n",
       "    </tr>\n",
       "    <tr>\n",
       "      <th>7</th>\n",
       "      <td>id3</td>\n",
       "      <td>2023-01-01</td>\n",
       "      <td>-1</td>\n",
       "    </tr>\n",
       "    <tr>\n",
       "      <th>8</th>\n",
       "      <td>id3</td>\n",
       "      <td>2023-01-02</td>\n",
       "      <td>0</td>\n",
       "    </tr>\n",
       "    <tr>\n",
       "      <th>9</th>\n",
       "      <td>id3</td>\n",
       "      <td>2023-01-03</td>\n",
       "      <td>1</td>\n",
       "    </tr>\n",
       "    <tr>\n",
       "      <th>10</th>\n",
       "      <td>id3</td>\n",
       "      <td>2023-01-04</td>\n",
       "      <td>-2</td>\n",
       "    </tr>\n",
       "  </tbody>\n",
       "</table>\n",
       "</div>"
      ],
      "text/plain": [
       "   unique_id          ds  y\n",
       "0        id1  2023-01-01  1\n",
       "1        id1  2023-01-03  1\n",
       "2        id1  2023-01-04  1\n",
       "3        id2  2023-01-01  0\n",
       "4        id2  2023-01-02  0\n",
       "5        id2  2023-01-03  1\n",
       "6        id2  2023-01-04  2\n",
       "7        id3  2023-01-01 -1\n",
       "8        id3  2023-01-02  0\n",
       "9        id3  2023-01-03  1\n",
       "10       id3  2023-01-04 -2"
      ]
     },
     "execution_count": null,
     "metadata": {},
     "output_type": "execute_result"
    }
   ],
   "source": [
    "df = pd.DataFrame({\n",
    "    'unique_id': ['id1', 'id1', 'id1', 'id2', 'id2', 'id2', 'id2', 'id3', 'id3', 'id3', 'id3'],\n",
    "    'ds': ['2023-01-01', '2023-01-03', '2023-01-04', '2023-01-01', '2023-01-02', '2023-01-03', '2023-01-04', '2023-01-01', '2023-01-02', '2023-01-03', '2023-01-04'],\n",
    "    'y': [1, 1, 1, 0, 0, 1, 2, -1, 0, 1, -2]\n",
    "})\n",
    "\n",
    "df"
   ]
  },
  {
   "cell_type": "markdown",
   "metadata": {},
   "source": [
    "The `audit_data` method requires the following parameters:\n",
    "\n",
    "- `df` *(required)*: A pandas DataFrame with your input data.\n",
    "\n",
    "- `freq` *(required)*: The frequency of your time series data (e.g., `D` for daily, `M` for monthly).\n",
    "\n",
    "- `id_col`: Column name identifying each unique series. Default is `unique_id`.\n",
    "\n",
    "- `time_col`: Column name containing timestamps. Default is `ds`.\n",
    "\n",
    "- `target_col`: Column name containing the target variable. Default is `y`.\n",
    "\n",
    "Additionally, you can use the following optional parameters to specify how missing dates are identified:\n",
    "\n",
    "- `start`: The initial timestamp for the series.\n",
    "\n",
    "- `end`: The final timestamp for the series.\n",
    "\n",
    "Both `start` and `end` can take the following options:\n",
    "\n",
    "- `per_serie`: Uses the first or last timestamp of each individual series.\n",
    "\n",
    "- `global`: Uses the earliest or latest timestamp from the entire dataset.\n",
    "\n",
    "- A specific timestamp or integer (e.g., `2025-01-01`, `2025`, or `datetime(2025, 1, 1)`)."
   ]
  },
  {
   "cell_type": "code",
   "execution_count": null,
   "metadata": {},
   "outputs": [
    {
     "name": "stderr",
     "output_type": "stream",
     "text": [
      "INFO:nixtla.nixtla_client:Running data quality tests...\n",
      "WARNING:nixtla.nixtla_client:Failure D002 detected with critical severity.\n",
      "WARNING:nixtla.nixtla_client:Failure V001 detected which could cause issue depending on the use case.\n",
      "WARNING:nixtla.nixtla_client:Failure V002 detected which could cause issue depending on the use case.\n"
     ]
    }
   ],
   "source": [
    "all_pass, fail_dfs, case_specific_dfs = nixtla_client.audit_data(\n",
    "    df = df,\n",
    "    freq = 'D', \n",
    "    start = 'per_serie', \n",
    "    end = 'per_serie'\n",
    ")"
   ]
  },
  {
   "cell_type": "markdown",
   "metadata": {},
   "source": [
    "The audit_data method returns three values:\n",
    "\n",
    "- **all_pass** (bool): True if every check passed, otherwise False.\n",
    "\n",
    "- **fail_dfs** (dict): Any failed tests (D001, D002 or F001), each paired with the rows that failed.\n",
    "\n",
    "- **case_specific_dfs** (dict): Any case-specific tests (V001 or V002), each paired with the rows flagged."
   ]
  },
  {
   "cell_type": "code",
   "execution_count": null,
   "metadata": {},
   "outputs": [
    {
     "name": "stdout",
     "output_type": "stream",
     "text": [
      "False\n",
      "{'D002':   unique_id         ds\n",
      "1       id1 2023-01-02}\n",
      "{'V001':    unique_id         ds  y\n",
      "7        id3 2023-01-01 -1\n",
      "10       id3 2023-01-04 -2, 'V002':   unique_id  first_index  first_nonzero_index\n",
      "0       id2            3                    5}\n"
     ]
    }
   ],
   "source": [
    "print(all_pass)\n",
    "print(fail_dfs)\n",
    "print(case_specific_dfs)"
   ]
  },
  {
   "cell_type": "markdown",
   "metadata": {},
   "source": [
    "In the above example, the `audit_data` method found missing dates (D002), negative values (V001), and leading zeros (V002)."
   ]
  },
  {
   "cell_type": "markdown",
   "metadata": {},
   "source": [
    "## 3. Clean Data\n",
    "\n",
    "The `clean_data` method fixes the issues identified by the `audit_data` method. It requires the output of `audit_data`, so it must always be run after it. The `clean_data` method takes the following parameters:\n",
    "\n",
    "- `df` *(required)*: A pandas DataFrame with your input data.\n",
    "\n",
    "- `fail_dict` *(required)*: A dictionary with failed checks, as returned by the `audit_data` method.\n",
    "\n",
    "- `case_specific_dict` *(required)*: A dictionary with case-specific checks, also returned by the `audit_data` method.\n",
    "\n",
    "- `freq` *(required)*: The frequency of your time series data (e.g., `D` for daily, `M` for monthly). Can be a string, integer, or pandas offset.\n",
    "\n",
    "- `clean_case_specific`: Whether to clean case-specific issues (e.g., negative values, leading zeros). Default is `False`.\n",
    "\n",
    "- `id_col`: Column name identifying each unique series. Default is `unique_id`.\n",
    "\n",
    "- `time_col`: Column name containing timestamps or integer steps. Default is `ds`.\n",
    "\n",
    "- `target_col`: Column name containing the target variable. Default is `y`."
   ]
  },
  {
   "cell_type": "code",
   "execution_count": null,
   "metadata": {},
   "outputs": [
    {
     "name": "stderr",
     "output_type": "stream",
     "text": [
      "INFO:nixtla.nixtla_client:Running data cleansing...\n",
      "INFO:nixtla.nixtla_client:Fixing D002: Filling missing dates...\n",
      "INFO:nixtla.nixtla_client:Fixing V001: Removing negative values...\n",
      "INFO:nixtla.nixtla_client:Fixing V002: Removing leading zeros...\n",
      "INFO:nixtla.nixtla_client:Running data quality tests...\n",
      "WARNING:nixtla.nixtla_client:Failure V002 detected which could cause issue depending on the use case.\n"
     ]
    },
    {
     "data": {
      "text/html": [
       "<div>\n",
       "<style scoped>\n",
       "    .dataframe tbody tr th:only-of-type {\n",
       "        vertical-align: middle;\n",
       "    }\n",
       "\n",
       "    .dataframe tbody tr th {\n",
       "        vertical-align: top;\n",
       "    }\n",
       "\n",
       "    .dataframe thead th {\n",
       "        text-align: right;\n",
       "    }\n",
       "</style>\n",
       "<table border=\"1\" class=\"dataframe\">\n",
       "  <thead>\n",
       "    <tr style=\"text-align: right;\">\n",
       "      <th></th>\n",
       "      <th>unique_id</th>\n",
       "      <th>ds</th>\n",
       "      <th>y</th>\n",
       "    </tr>\n",
       "  </thead>\n",
       "  <tbody>\n",
       "    <tr>\n",
       "      <th>0</th>\n",
       "      <td>id1</td>\n",
       "      <td>2023-01-01</td>\n",
       "      <td>1.0</td>\n",
       "    </tr>\n",
       "    <tr>\n",
       "      <th>1</th>\n",
       "      <td>id1</td>\n",
       "      <td>2023-01-03</td>\n",
       "      <td>1.0</td>\n",
       "    </tr>\n",
       "    <tr>\n",
       "      <th>2</th>\n",
       "      <td>id1</td>\n",
       "      <td>2023-01-04</td>\n",
       "      <td>1.0</td>\n",
       "    </tr>\n",
       "    <tr>\n",
       "      <th>1</th>\n",
       "      <td>id1</td>\n",
       "      <td>2023-01-02</td>\n",
       "      <td>NaN</td>\n",
       "    </tr>\n",
       "    <tr>\n",
       "      <th>5</th>\n",
       "      <td>id2</td>\n",
       "      <td>2023-01-03</td>\n",
       "      <td>1.0</td>\n",
       "    </tr>\n",
       "    <tr>\n",
       "      <th>6</th>\n",
       "      <td>id2</td>\n",
       "      <td>2023-01-04</td>\n",
       "      <td>2.0</td>\n",
       "    </tr>\n",
       "    <tr>\n",
       "      <th>7</th>\n",
       "      <td>id3</td>\n",
       "      <td>2023-01-01</td>\n",
       "      <td>0.0</td>\n",
       "    </tr>\n",
       "    <tr>\n",
       "      <th>8</th>\n",
       "      <td>id3</td>\n",
       "      <td>2023-01-02</td>\n",
       "      <td>0.0</td>\n",
       "    </tr>\n",
       "    <tr>\n",
       "      <th>9</th>\n",
       "      <td>id3</td>\n",
       "      <td>2023-01-03</td>\n",
       "      <td>1.0</td>\n",
       "    </tr>\n",
       "    <tr>\n",
       "      <th>10</th>\n",
       "      <td>id3</td>\n",
       "      <td>2023-01-04</td>\n",
       "      <td>0.0</td>\n",
       "    </tr>\n",
       "  </tbody>\n",
       "</table>\n",
       "</div>"
      ],
      "text/plain": [
       "   unique_id         ds    y\n",
       "0        id1 2023-01-01  1.0\n",
       "1        id1 2023-01-03  1.0\n",
       "2        id1 2023-01-04  1.0\n",
       "1        id1 2023-01-02  NaN\n",
       "5        id2 2023-01-03  1.0\n",
       "6        id2 2023-01-04  2.0\n",
       "7        id3 2023-01-01  0.0\n",
       "8        id3 2023-01-02  0.0\n",
       "9        id3 2023-01-03  1.0\n",
       "10       id3 2023-01-04  0.0"
      ]
     },
     "execution_count": null,
     "metadata": {},
     "output_type": "execute_result"
    }
   ],
   "source": [
    "clean_df, all_pass, fail_dfs, case_specific_dfs = nixtla_client.clean_data(\n",
    "    df = df, \n",
    "    fail_dict = fail_dfs,\n",
    "    case_specific_dict = case_specific_dfs,\n",
    "    clean_case_specific = True, \n",
    "    freq = 'D'\n",
    ")\n",
    "\n",
    "clean_df"
   ]
  },
  {
   "cell_type": "markdown",
   "metadata": {},
   "source": [
    "In this example, `clean_data` added the missing date in `id1`, removed the leading zeros in `id2`, and replaced the negative values in `id3`. However, replacing negative values with zeros introduced new leading zeros in `id3`, so a second run of `clean_data` is required."
   ]
  },
  {
   "cell_type": "code",
   "execution_count": null,
   "metadata": {},
   "outputs": [
    {
     "name": "stderr",
     "output_type": "stream",
     "text": [
      "INFO:nixtla.nixtla_client:Running data cleansing...\n",
      "INFO:nixtla.nixtla_client:Fixing V002: Removing leading zeros...\n",
      "INFO:nixtla.nixtla_client:Running data quality tests...\n",
      "INFO:nixtla.nixtla_client:All checks passed...\n"
     ]
    },
    {
     "data": {
      "text/html": [
       "<div>\n",
       "<style scoped>\n",
       "    .dataframe tbody tr th:only-of-type {\n",
       "        vertical-align: middle;\n",
       "    }\n",
       "\n",
       "    .dataframe tbody tr th {\n",
       "        vertical-align: top;\n",
       "    }\n",
       "\n",
       "    .dataframe thead th {\n",
       "        text-align: right;\n",
       "    }\n",
       "</style>\n",
       "<table border=\"1\" class=\"dataframe\">\n",
       "  <thead>\n",
       "    <tr style=\"text-align: right;\">\n",
       "      <th></th>\n",
       "      <th>unique_id</th>\n",
       "      <th>ds</th>\n",
       "      <th>y</th>\n",
       "    </tr>\n",
       "  </thead>\n",
       "  <tbody>\n",
       "    <tr>\n",
       "      <th>0</th>\n",
       "      <td>id1</td>\n",
       "      <td>2023-01-01</td>\n",
       "      <td>1.0</td>\n",
       "    </tr>\n",
       "    <tr>\n",
       "      <th>1</th>\n",
       "      <td>id1</td>\n",
       "      <td>2023-01-03</td>\n",
       "      <td>1.0</td>\n",
       "    </tr>\n",
       "    <tr>\n",
       "      <th>2</th>\n",
       "      <td>id1</td>\n",
       "      <td>2023-01-04</td>\n",
       "      <td>1.0</td>\n",
       "    </tr>\n",
       "    <tr>\n",
       "      <th>1</th>\n",
       "      <td>id1</td>\n",
       "      <td>2023-01-02</td>\n",
       "      <td>NaN</td>\n",
       "    </tr>\n",
       "    <tr>\n",
       "      <th>5</th>\n",
       "      <td>id2</td>\n",
       "      <td>2023-01-03</td>\n",
       "      <td>1.0</td>\n",
       "    </tr>\n",
       "    <tr>\n",
       "      <th>6</th>\n",
       "      <td>id2</td>\n",
       "      <td>2023-01-04</td>\n",
       "      <td>2.0</td>\n",
       "    </tr>\n",
       "    <tr>\n",
       "      <th>9</th>\n",
       "      <td>id3</td>\n",
       "      <td>2023-01-03</td>\n",
       "      <td>1.0</td>\n",
       "    </tr>\n",
       "    <tr>\n",
       "      <th>10</th>\n",
       "      <td>id3</td>\n",
       "      <td>2023-01-04</td>\n",
       "      <td>0.0</td>\n",
       "    </tr>\n",
       "  </tbody>\n",
       "</table>\n",
       "</div>"
      ],
      "text/plain": [
       "   unique_id         ds    y\n",
       "0        id1 2023-01-01  1.0\n",
       "1        id1 2023-01-03  1.0\n",
       "2        id1 2023-01-04  1.0\n",
       "1        id1 2023-01-02  NaN\n",
       "5        id2 2023-01-03  1.0\n",
       "6        id2 2023-01-04  2.0\n",
       "9        id3 2023-01-03  1.0\n",
       "10       id3 2023-01-04  0.0"
      ]
     },
     "execution_count": null,
     "metadata": {},
     "output_type": "execute_result"
    }
   ],
   "source": [
    "clean_df2, all_pass, fail_dfs, case_specific_dfs = nixtla_client.clean_data(\n",
    "    df = clean_df, \n",
    "    fail_dict = fail_dfs,\n",
    "    case_specific_dict = case_specific_dfs,\n",
    "    clean_case_specific = True, # if False, the case-specific tests will be ignored\n",
    "    freq = 'D'\n",
    ")\n",
    "\n",
    "clean_df2"
   ]
  },
  {
   "cell_type": "markdown",
   "metadata": {},
   "source": [
    "After the second run of `clean_data`, the leading zeros in `id3` have been removed. The only remaining step is to fill the missing value created when the missing date was added in `id1`, and to sort the DataFrame by `unique_id` and `ds`."
   ]
  },
  {
   "cell_type": "code",
   "execution_count": null,
   "metadata": {},
   "outputs": [
    {
     "data": {
      "text/html": [
       "<div>\n",
       "<style scoped>\n",
       "    .dataframe tbody tr th:only-of-type {\n",
       "        vertical-align: middle;\n",
       "    }\n",
       "\n",
       "    .dataframe tbody tr th {\n",
       "        vertical-align: top;\n",
       "    }\n",
       "\n",
       "    .dataframe thead th {\n",
       "        text-align: right;\n",
       "    }\n",
       "</style>\n",
       "<table border=\"1\" class=\"dataframe\">\n",
       "  <thead>\n",
       "    <tr style=\"text-align: right;\">\n",
       "      <th></th>\n",
       "      <th>unique_id</th>\n",
       "      <th>ds</th>\n",
       "      <th>y</th>\n",
       "    </tr>\n",
       "  </thead>\n",
       "  <tbody>\n",
       "    <tr>\n",
       "      <th>0</th>\n",
       "      <td>id1</td>\n",
       "      <td>2023-01-01</td>\n",
       "      <td>1.0</td>\n",
       "    </tr>\n",
       "    <tr>\n",
       "      <th>1</th>\n",
       "      <td>id1</td>\n",
       "      <td>2023-01-02</td>\n",
       "      <td>0.0</td>\n",
       "    </tr>\n",
       "    <tr>\n",
       "      <th>1</th>\n",
       "      <td>id1</td>\n",
       "      <td>2023-01-03</td>\n",
       "      <td>1.0</td>\n",
       "    </tr>\n",
       "    <tr>\n",
       "      <th>2</th>\n",
       "      <td>id1</td>\n",
       "      <td>2023-01-04</td>\n",
       "      <td>1.0</td>\n",
       "    </tr>\n",
       "    <tr>\n",
       "      <th>5</th>\n",
       "      <td>id2</td>\n",
       "      <td>2023-01-03</td>\n",
       "      <td>1.0</td>\n",
       "    </tr>\n",
       "    <tr>\n",
       "      <th>6</th>\n",
       "      <td>id2</td>\n",
       "      <td>2023-01-04</td>\n",
       "      <td>2.0</td>\n",
       "    </tr>\n",
       "    <tr>\n",
       "      <th>9</th>\n",
       "      <td>id3</td>\n",
       "      <td>2023-01-03</td>\n",
       "      <td>1.0</td>\n",
       "    </tr>\n",
       "    <tr>\n",
       "      <th>10</th>\n",
       "      <td>id3</td>\n",
       "      <td>2023-01-04</td>\n",
       "      <td>0.0</td>\n",
       "    </tr>\n",
       "  </tbody>\n",
       "</table>\n",
       "</div>"
      ],
      "text/plain": [
       "   unique_id         ds    y\n",
       "0        id1 2023-01-01  1.0\n",
       "1        id1 2023-01-02  0.0\n",
       "1        id1 2023-01-03  1.0\n",
       "2        id1 2023-01-04  1.0\n",
       "5        id2 2023-01-03  1.0\n",
       "6        id2 2023-01-04  2.0\n",
       "9        id3 2023-01-03  1.0\n",
       "10       id3 2023-01-04  0.0"
      ]
     },
     "execution_count": null,
     "metadata": {},
     "output_type": "execute_result"
    }
   ],
   "source": [
    "clean_df2 = clean_df2.sort_values(by=['unique_id', 'ds'])\n",
    "clean_df2['y'] = clean_df2['y'].fillna(0)\n",
    "clean_df2"
   ]
  },
  {
   "cell_type": "markdown",
   "metadata": {},
   "source": [
    "## 4. Conclusion\n",
    "\n",
    "The `audit_data` method helps you identify issues that may prevent TimeGPT from running properly. These include fail tests (duplicate rows, missing dates, and categorical feature columns), which will always result in errors if not addressed. It also flags case-specific issues (negative values and leading zeros), which may not cause errors but can affect the quality of your forecasts depending on your use case.\n",
    "\n",
    "The `clean_data` method can automatically fix the issues identified by `audit_data`. Be cautious when removing negative values or leading zeros, as they may contain important information about your data. Above all, when auditing and cleaning your data, make decisions based on the needs and context of your specific use case."
   ]
  }
 ],
 "metadata": {
  "kernelspec": {
   "display_name": "python3",
   "language": "python",
   "name": "python3"
  }
 },
 "nbformat": 4,
 "nbformat_minor": 2
}
